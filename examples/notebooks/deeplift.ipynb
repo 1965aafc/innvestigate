{
 "cells": [
  {
   "cell_type": "markdown",
   "metadata": {},
   "source": [
    "# Compare analyzers on MNIST"
   ]
  },
  {
   "cell_type": "markdown",
   "metadata": {},
   "source": [
    "This notebook shows how saliency maps are computed for various methods on the MNIST dataset. We will first train a simple 3-layer MLP and then apply different methods. In the end we allow for a qualitive assesment by plotting the analysis as a grid.\n",
    "\n",
    "Parts of the code that do not contribute to the main focus are outsourced into utility modules. To learn more about the basic usage of **iNNvestigate** have look into this notebook: [Introduction to iNNvestigate](introduction.ipynb)"
   ]
  },
  {
   "cell_type": "markdown",
   "metadata": {},
   "source": [
    "## Imports"
   ]
  },
  {
   "cell_type": "code",
   "execution_count": 1,
   "metadata": {},
   "outputs": [],
   "source": [
    "import warnings\n",
    "warnings.simplefilter('ignore')"
   ]
  },
  {
   "cell_type": "code",
   "execution_count": 2,
   "metadata": {},
   "outputs": [
    {
     "name": "stderr",
     "output_type": "stream",
     "text": [
      "Using TensorFlow backend.\n"
     ]
    }
   ],
   "source": [
    "%matplotlib inline  \n",
    "\n",
    "import matplotlib.pyplot as plt\n",
    "\n",
    "import imp\n",
    "import numpy as np\n",
    "import os\n",
    "\n",
    "from functools import partial\n",
    "import keras\n",
    "import keras.backend as K\n",
    "import keras.models\n",
    "\n",
    "\n",
    "\n",
    "# Use utility libraries to focus on relevant iNNvestigate routines.\n",
    "eutils = imp.load_source(\"utils\", \"../utils.py\")\n",
    "mnistutils = imp.load_source(\"utils_mnist\", \"../utils_mnist.py\")"
   ]
  },
  {
   "cell_type": "code",
   "execution_count": null,
   "metadata": {},
   "outputs": [],
   "source": []
  },
  {
   "cell_type": "code",
   "execution_count": 20,
   "metadata": {},
   "outputs": [],
   "source": [
    "from innvestigate.analyzer import ReverseAnalyzerBase\n",
    "from innvestigate.analyzer.relevance_based.relevance_analyzer import DeepTaylor\n",
    "\n",
    "import innvestigate\n",
    "import innvestigate.utils as iutils\n",
    "import innvestigate.utils.keras.checks as kchecks\n",
    "import innvestigate.utils.keras as kutils\n",
    "\n",
    "\n",
    "import innvestigate.utils.keras.graph as kgraph\n",
    "\n",
    "\n",
    "\n",
    "import innvestigate.layers as ilayers\n",
    "\n"
   ]
  },
  {
   "cell_type": "markdown",
   "metadata": {},
   "source": [
    "## Data\n",
    "Load the dataset and keep some images from the test set for the analysis."
   ]
  },
  {
   "cell_type": "code",
   "execution_count": 4,
   "metadata": {},
   "outputs": [],
   "source": [
    "# Load data\n",
    "# returns x_train, y_train, x_test, y_test as numpy.ndarray\n",
    "data_not_preprocessed = mnistutils.fetch_data()\n",
    "\n",
    "# Create preprocessing functions\n",
    "input_range = [-1, 1]\n",
    "preprocess, revert_preprocessing = mnistutils.create_preprocessing_f(data_not_preprocessed[0], input_range)\n",
    "\n",
    "# Preprocess data\n",
    "data = (\n",
    "    preprocess(data_not_preprocessed[0]), data_not_preprocessed[1],\n",
    "    preprocess(data_not_preprocessed[2]), data_not_preprocessed[3]\n",
    ")\n",
    "\n",
    "num_classes = len(np.unique(data[1]))\n",
    "label_to_class_name = [str(i) for i in range(num_classes)]"
   ]
  },
  {
   "cell_type": "markdown",
   "metadata": {},
   "source": [
    "## Model\n",
    "The next part trains and evaluates a CNN."
   ]
  },
  {
   "cell_type": "code",
   "execution_count": 17,
   "metadata": {},
   "outputs": [
    {
     "name": "stdout",
     "output_type": "stream",
     "text": [
      "Epoch 1/10\n",
      "60000/60000 [==============================] - 105s 2ms/step - loss: 0.1995 - acc: 0.9408\n",
      "Epoch 2/10\n",
      "60000/60000 [==============================] - 97s 2ms/step - loss: 0.0439 - acc: 0.9866\n",
      "Epoch 3/10\n",
      "60000/60000 [==============================] - 95s 2ms/step - loss: 0.0269 - acc: 0.9919\n",
      "Epoch 4/10\n",
      "60000/60000 [==============================] - 95s 2ms/step - loss: 0.0193 - acc: 0.9938\n",
      "Epoch 5/10\n",
      "60000/60000 [==============================] - 100s 2ms/step - loss: 0.0130 - acc: 0.9957\n",
      "Epoch 6/10\n",
      "60000/60000 [==============================] - 112s 2ms/step - loss: 0.0075 - acc: 0.9975\n",
      "Epoch 7/10\n",
      "60000/60000 [==============================] - 112s 2ms/step - loss: 0.0071 - acc: 0.9974\n",
      "Epoch 8/10\n",
      "60000/60000 [==============================] - 106s 2ms/step - loss: 0.0037 - acc: 0.9990\n",
      "Epoch 9/10\n",
      "60000/60000 [==============================] - 95s 2ms/step - loss: 0.0054 - acc: 0.9985\n",
      "Epoch 10/10\n",
      "60000/60000 [==============================] - 101s 2ms/step - loss: 0.0045 - acc: 0.9986\n",
      "Scores on test set: loss=0.037167854320569675 accuracy=0.9901\n"
     ]
    }
   ],
   "source": [
    "# Create & train model\n",
    "if keras.backend.image_data_format == \"channels_first\":\n",
    "    input_shape = (1, 28, 28)\n",
    "else:\n",
    "    input_shape = (28, 28, 1)\n",
    "\n",
    "model = keras.models.Sequential([\n",
    "    keras.layers.Conv2D(32, (3, 3), activation=\"relu\", input_shape=input_shape),\n",
    "    keras.layers.Conv2D(64, (3, 3), activation=\"relu\"),\n",
    "    keras.layers.MaxPooling2D((2, 2)),\n",
    "    keras.layers.Flatten(),\n",
    "    keras.layers.Dense(512, activation=\"relu\"),\n",
    "    keras.layers.Dense(10, activation=\"softmax\"),\n",
    "])\n",
    "\n",
    "scores = mnistutils.train_model(model, data, batch_size=256, epochs=10)\n",
    "print(\"Scores on test set: loss=%s accuracy=%s\" % tuple(scores))"
   ]
  },
  {
   "cell_type": "code",
   "execution_count": 21,
   "metadata": {},
   "outputs": [],
   "source": [
    "model.save_weights('conv-mnist-weights.h5')"
   ]
  },
  {
   "cell_type": "code",
   "execution_count": 22,
   "metadata": {},
   "outputs": [],
   "source": [
    "model.load_weights('conv-mnist-weights.h5')"
   ]
  },
  {
   "cell_type": "code",
   "execution_count": 23,
   "metadata": {},
   "outputs": [],
   "source": [
    "model_wo_softmax = iutils.keras.graph.model_wo_softmax(model)"
   ]
  },
  {
   "cell_type": "code",
   "execution_count": null,
   "metadata": {},
   "outputs": [],
   "source": []
  },
  {
   "cell_type": "code",
   "execution_count": 36,
   "metadata": {},
   "outputs": [
    {
     "data": {
      "image/png": "[encoded data removed]",
      "text/plain": [
       "<Figure size 432x288 with 1 Axes>"
      ]
     },
     "metadata": {
      "needs_background": "light"
     },
     "output_type": "display_data"
    }
   ],
   "source": [
    "def plot_digit(x):\n",
    "    plt.imshow(x.reshape((28, 28))) \n",
    "    plt.axis('off')\n",
    "plot_digit(data[0][0,:])"
   ]
  },
  {
   "cell_type": "markdown",
   "metadata": {},
   "source": [
    "## DeepLift"
   ]
  },
  {
   "cell_type": "code",
   "execution_count": 40,
   "metadata": {},
   "outputs": [],
   "source": [
    "class DeepLift(ReverseAnalyzerBase):\n",
    "    \n",
    "    def _default_reverse_mapping(self, Xs, Ys, reversed_Ys, reverse_state):\n",
    "        return ilayers.GradientWRT(len(Xs))(Xs+Ys+reversed_Ys)\n",
    "\n",
    "    def fit(self, *args, **kwargs):\n",
    "        # initialize the reference input (black image)\n",
    "        x_0 = np.zeros([1] + list(K.int_shape(model_wo_softmax.input)[1:]))\n",
    "        \n",
    "        # get input tensor for every kernel layer ()\n",
    "        intermediate_inputs = []\n",
    "        layers_with_kernel = []\n",
    "        for l in self._model.layers:\n",
    "            if kchecks.contains_kernel(l):\n",
    "                layers_with_kernel.append(l.name)\n",
    "                intermediate_inputs.append(l.input)\n",
    "\n",
    "        # ignore the first input layer, also include the last output\n",
    "        # for adjusting the relevence score before propagating\n",
    "        intermediate_inputs = intermediate_inputs[1:] + [model_wo_softmax.output]\n",
    "        \n",
    "        self.rootpoints_for_kernel_layers = dict(\n",
    "                zip(\n",
    "                    layers_with_kernel + ['rel_score'],\n",
    "                    [x_0] + K.function([model_wo_softmax.input], intermediate_inputs)([x_0])\n",
    "                )\n",
    "            )\n",
    "#       print('We have %d int. inputs' % (len(self.rootpoints_for_kernel_layers)))\n",
    "        \n",
    "\n",
    "    def _get_state(self):\n",
    "        state = super(ReverseAnalyzerBase, self)._get_state()    \n",
    "        state.update({\n",
    "            'rootpoints_for_kernel_layers': self.rootpoints_for_kernel_layers\n",
    "        })\n",
    "\n",
    "        return state\n",
    "\n",
    "    def _create_analysis(self, *args, **kwargs):\n",
    "        # TODO: Adjust the last layer with relevance of the reference input\n",
    "        \n",
    "        rootpoints = self._get_state()['rootpoints_for_kernel_layers']\n",
    "        \n",
    "        for l in self._model.layers:\n",
    "            if l.name in self.rootpoints_for_kernel_layers:\n",
    "                l._deeplift_rootpoint = rootpoints[l.name]\n",
    "\n",
    "        self._add_conditional_reverse_mapping(\n",
    "            lambda layer: kchecks.contains_kernel(layer),\n",
    "            DeepLiftRule,\n",
    "\n",
    "            name=\"deeplift_rule\",\n",
    "        )\n",
    "        \n",
    "        return super(DeepLift, self)._create_analysis(*args, **kwargs)\n",
    "    \n",
    "class DeepLiftRule(kgraph.ReverseMappingBase):\n",
    "    \"\"\"                                                                                                                                                                              \n",
    "    Basic DeepLiftRule decomposition rule (for layers with weight kernels),                                                                                                                   \n",
    "    which considers the bias a constant input neuron.                                                                                                                                \n",
    "    \"\"\"\n",
    "\n",
    "    def __init__(self, layer, state, rootpoints=None, bias=True):\n",
    "        # Copy forward layer, but without activations\n",
    "        self._layer_wo_act = kgraph.copy_layer_wo_activation(layer,\n",
    "                                                             keep_bias=bias,\n",
    "                                                             name_template=\"reversed_kernel_%s\")\n",
    "        \n",
    "        self.Xs_root = layer._deeplift_rootpoint\n",
    "        xs_root_input = keras.layers.Input(shape=self.Xs_root.shape[1:])\n",
    "        self.Zs_root = K.function([xs_root_input], kutils.apply(self._layer_wo_act, [xs_root_input]))([self.Xs_root])[0]\n",
    "\n",
    "\n",
    "    def apply(self, Xs, Ys, Rs, reverse_state):\n",
    "        grad = ilayers.GradientWRT(len(Xs))\n",
    "\n",
    "        Zs = kutils.apply(self._layer_wo_act, Xs)\n",
    "        \n",
    "        Zs_adjusted = [keras.layers.Lambda(lambda z: z - self.Zs_root)(Zs[0])]\n",
    "        Xs_adjusted = [keras.layers.Lambda(lambda z: z - self.Xs_root)(Xs[0])]\n",
    "        \n",
    "        # Divide incoming relevance by the activations.    \n",
    "        tmp = [ilayers.SafeDivide()([a, b])\n",
    "               for a, b in zip(Rs, Zs_adjusted)]\n",
    "        \n",
    "        # Propagate the relevance to input neurons                                                                                                                                   \n",
    "        # using the gradient.               \n",
    "        tmp = iutils.to_list(grad(Xs+Zs+tmp))\n",
    "\n",
    "        # Re-weight relevance with the input values.                                                                                                                                 \n",
    "        return [keras.layers.Multiply()([a, b])\n",
    "                for a, b in zip(Xs_adjusted, tmp)]\n",
    "    "
   ]
  },
  {
   "cell_type": "code",
   "execution_count": 26,
   "metadata": {},
   "outputs": [],
   "source": [
    "deeplift_analyzer = DeepLift(model_wo_softmax)\n",
    "deeplift_analyzer.fit()"
   ]
  },
  {
   "cell_type": "code",
   "execution_count": 27,
   "metadata": {},
   "outputs": [
    {
     "name": "stdout",
     "output_type": "stream",
     "text": [
      "_________________________________________________________________\n",
      "Layer (type)                 Output Shape              Param #   \n",
      "=================================================================\n",
      "conv2d_3_input (InputLayer)  (None, 28, 28, 1)         0         \n",
      "_________________________________________________________________\n",
      "conv2d_3 (Conv2D)            (None, 26, 26, 32)        320       \n",
      "_________________________________________________________________\n",
      "conv2d_4 (Conv2D)            (None, 24, 24, 64)        18496     \n",
      "_________________________________________________________________\n",
      "max_pooling2d_2 (MaxPooling2 (None, 12, 12, 64)        0         \n",
      "_________________________________________________________________\n",
      "flatten_2 (Flatten)          (None, 9216)              0         \n",
      "_________________________________________________________________\n",
      "dense_4 (Dense)              (None, 512)               4719104   \n",
      "_________________________________________________________________\n",
      "dense_6 (Dense)              (None, 10)                5130      \n",
      "=================================================================\n",
      "Total params: 4,743,050\n",
      "Trainable params: 4,743,050\n",
      "Non-trainable params: 0\n",
      "_________________________________________________________________\n"
     ]
    }
   ],
   "source": [
    "deeplift_analyzer._model.summary()"
   ]
  },
  {
   "cell_type": "code",
   "execution_count": 38,
   "metadata": {
    "scrolled": false
   },
   "outputs": [
    {
     "data": {
      "image/png": "[encoded data removed]",
      "text/plain": [
       "<Figure size 432x288 with 1 Axes>"
      ]
     },
     "metadata": {
      "needs_background": "light"
     },
     "output_type": "display_data"
    }
   ],
   "source": [
    "ax = deeplift_analyzer.analyze(data[0][20,:].reshape((1, 28, 28, 1)))\n",
    "plot_digit(ax)"
   ]
  },
  {
   "cell_type": "code",
   "execution_count": null,
   "metadata": {},
   "outputs": [],
   "source": []
  },
  {
   "cell_type": "code",
   "execution_count": 39,
   "metadata": {},
   "outputs": [
    {
     "data": {
      "image/png": "[encoded data removed]",
      "text/plain": [
       "<Figure size 432x288 with 1 Axes>"
      ]
     },
     "metadata": {
      "needs_background": "light"
     },
     "output_type": "display_data"
    }
   ],
   "source": [
    "dtd = DeepTaylor(model_wo_softmax)\n",
    "ax = dtd.analyze(data[0][20,:].reshape((1, 28, 28, 1)))\n",
    "plot_digit(ax)"
   ]
  },
  {
   "cell_type": "code",
   "execution_count": null,
   "metadata": {},
   "outputs": [],
   "source": []
  },
  {
   "cell_type": "code",
   "execution_count": null,
   "metadata": {},
   "outputs": [],
   "source": []
  },
  {
   "cell_type": "code",
   "execution_count": null,
   "metadata": {},
   "outputs": [],
   "source": []
  },
  {
   "cell_type": "markdown",
   "metadata": {},
   "source": [
    "# END!"
   ]
  },
  {
   "cell_type": "code",
   "execution_count": null,
   "metadata": {},
   "outputs": [],
   "source": [
    "for k, v in deeplift_analyzer._reversed_tensors:\n",
    "    print(k, np.min(v), np.max(v))"
   ]
  },
  {
   "cell_type": "code",
   "execution_count": 46,
   "metadata": {},
   "outputs": [
    {
     "data": {
      "text/plain": [
       "<tf.Tensor 'conv2d_1_input:0' shape=(?, 28, 28, 1) dtype=float32>"
      ]
     },
     "execution_count": 46,
     "metadata": {},
     "output_type": "execute_result"
    }
   ],
   "source": [
    "for k, v in analyzer._reversed_tensors:\n",
    "    print(k, np.min(v), np.max(v))"
   ]
  },
  {
   "cell_type": "code",
   "execution_count": 454,
   "metadata": {},
   "outputs": [
    {
     "data": {
      "text/plain": [
       "TensorShape([Dimension(None), Dimension(28), Dimension(28), Dimension(1)])"
      ]
     },
     "execution_count": 454,
     "metadata": {},
     "output_type": "execute_result"
    }
   ],
   "source": [
    "deeplift_analyzer._model.input.shape"
   ]
  },
  {
   "cell_type": "code",
   "execution_count": 97,
   "metadata": {},
   "outputs": [
    {
     "name": "stdout",
     "output_type": "stream",
     "text": [
      "<keras.layers.convolutional.Conv2D object at 0x14c5a9780>\n",
      "<keras.layers.convolutional.Conv2D object at 0x14c5a9668>\n",
      "<keras.layers.core.Dense object at 0x14c5a9ac8>\n",
      "<keras.layers.core.Dense object at 0x13bd66978>\n",
      "We have 4 int. outputs\n"
     ]
    }
   ],
   "source": [
    "intermediate_outputs = []\n",
    "for l in model_wo_softmax.layers:\n",
    "    if kchecks.contains_kernel(l):\n",
    "        print(l)\n",
    "        intermediate_outputs.append(l.input)\n",
    "\n",
    "print('We have %d int. outputs' % (len(intermediate_outputs)))\n",
    "get_intermediate_outputs = K.function([model_wo_softmax.input], intermediate_outputs[1:])\n",
    "\n",
    "int_outputs = get_intermediate_outputs([x_zeros])"
   ]
  },
  {
   "cell_type": "code",
   "execution_count": 489,
   "metadata": {},
   "outputs": [
    {
     "data": {
      "text/plain": [
       "[<tf.Tensor 'conv2d_3_9/Relu:0' shape=(1, 26, 26, 32) dtype=float32>]"
      ]
     },
     "execution_count": 489,
     "metadata": {},
     "output_type": "execute_result"
    }
   ],
   "source": [
    "kutils.apply(model_wo_softmax.layers[1], [K.variable(x_zeros)])"
   ]
  },
  {
   "cell_type": "code",
   "execution_count": 490,
   "metadata": {},
   "outputs": [
    {
     "data": {
      "text/plain": [
       "[<tf.Tensor 'conv2d_3_10/Relu:0' shape=(?, 26, 26, 32) dtype=float32>]"
      ]
     },
     "execution_count": 490,
     "metadata": {},
     "output_type": "execute_result"
    }
   ],
   "source": [
    "kutils.apply(model_wo_softmax.layers[1], [model_wo_softmax.input])"
   ]
  },
  {
   "cell_type": "code",
   "execution_count": 483,
   "metadata": {},
   "outputs": [
    {
     "data": {
      "text/plain": [
       "<tf.Variable 'Variable_38:0' shape=(1, 28, 28, 1) dtype=float32_ref>"
      ]
     },
     "execution_count": 483,
     "metadata": {},
     "output_type": "execute_result"
    }
   ],
   "source": [
    "keras.layers.Input(tensor=K.variable(x_zeros))"
   ]
  },
  {
   "cell_type": "code",
   "execution_count": 477,
   "metadata": {},
   "outputs": [
    {
     "data": {
      "text/plain": [
       "(None, 28, 28, 1)"
      ]
     },
     "execution_count": 477,
     "metadata": {},
     "output_type": "execute_result"
    }
   ],
   "source": [
    "model_wo_softmax.layers[1].input_shape"
   ]
  },
  {
   "cell_type": "code",
   "execution_count": 86,
   "metadata": {},
   "outputs": [],
   "source": [
    "from keras.models import Model\n",
    "from keras import backend as K\n"
   ]
  },
  {
   "cell_type": "code",
   "execution_count": 94,
   "metadata": {},
   "outputs": [
    {
     "data": {
      "text/plain": [
       "(1, 24, 24, 64)"
      ]
     },
     "execution_count": 94,
     "metadata": {},
     "output_type": "execute_result"
    }
   ],
   "source": [
    "get_3rd_layer_output = K.function([model_wo_softmax.input],\n",
    "                                  [model_wo_softmax.layers[3].input])\n",
    "get_3rd_layer_output([x_zeros])[0].shape"
   ]
  },
  {
   "cell_type": "code",
   "execution_count": 469,
   "metadata": {},
   "outputs": [],
   "source": [
    "x_zeros = np.zeros((1, 28, 28, 1))"
   ]
  },
  {
   "cell_type": "code",
   "execution_count": 105,
   "metadata": {},
   "outputs": [
    {
     "data": {
      "text/plain": [
       "(28, 28, 1)"
      ]
     },
     "execution_count": 105,
     "metadata": {},
     "output_type": "execute_result"
    }
   ],
   "source": [
    "K.int_shape(model_wo_softmax.input)[1:]"
   ]
  },
  {
   "cell_type": "code",
   "execution_count": 163,
   "metadata": {},
   "outputs": [
    {
     "name": "stdout",
     "output_type": "stream",
     "text": [
      "Layer conv2d_3 has kernel\n",
      "Layer conv2d_4 has kernel\n",
      "Layer dense_4 has kernel\n",
      "Layer dense_6 has kernel\n",
      "We have 5 int. inputs\n"
     ]
    }
   ],
   "source": [
    "# x_0 = np.zeros([1] + list(K.int_shape(model_wo_softmax.input)[1:]))\n",
    "x_0 = data[0][0,:].reshape((1, 28, 28, 1))\n",
    "intermediate_outputs = []\n",
    "layers_with_kernel = []\n",
    "for l in model_wo_softmax.layers:\n",
    "    if kchecks.contains_kernel(l):\n",
    "        layers_with_kernel.append(l.name)\n",
    "        print('Layer %s has kernel' % l.name)\n",
    "        intermediate_outputs.append(l.input)\n",
    "\n",
    "intermediate_outputs = intermediate_outputs[1:] + [model_wo_softmax.output]\n",
    "get_intermediate_outputs = K.function([model_wo_softmax.input], intermediate_outputs)\n",
    "\n",
    "rootpoints_for_kernel_layers = dict(zip(layers_with_kernel + ['rel_score'], [x_0] + get_intermediate_outputs([x_0])))\n",
    "print('We have %d int. inputs' % (len(rootpoints_for_kernel_layers)))"
   ]
  },
  {
   "cell_type": "code",
   "execution_count": 178,
   "metadata": {},
   "outputs": [
    {
     "data": {
      "text/plain": [
       "(1, 10)"
      ]
     },
     "execution_count": 178,
     "metadata": {},
     "output_type": "execute_result"
    }
   ],
   "source": [
    "rootpoints_for_kernel_layers['rel_score'].shape"
   ]
  },
  {
   "cell_type": "code",
   "execution_count": 159,
   "metadata": {},
   "outputs": [
    {
     "data": {
      "text/plain": [
       "'conv2d_3'"
      ]
     },
     "execution_count": 159,
     "metadata": {},
     "output_type": "execute_result"
    }
   ],
   "source": [
    "model_wo_softmax.layers[1].name"
   ]
  },
  {
   "cell_type": "code",
   "execution_count": 130,
   "metadata": {},
   "outputs": [
    {
     "name": "stdout",
     "output_type": "stream",
     "text": [
      "_________________________________________________________________\n",
      "Layer (type)                 Output Shape              Param #   \n",
      "=================================================================\n",
      "conv2d_3_input (InputLayer)  (None, 28, 28, 1)         0         \n",
      "_________________________________________________________________\n",
      "conv2d_3 (Conv2D)            (None, 26, 26, 32)        320       \n",
      "_________________________________________________________________\n",
      "conv2d_4 (Conv2D)            (None, 24, 24, 64)        18496     \n",
      "_________________________________________________________________\n",
      "max_pooling2d_2 (MaxPooling2 (None, 12, 12, 64)        0         \n",
      "_________________________________________________________________\n",
      "flatten_2 (Flatten)          (None, 9216)              0         \n",
      "_________________________________________________________________\n",
      "dense_4 (Dense)              (None, 512)               4719104   \n",
      "_________________________________________________________________\n",
      "dense_6 (Dense)              (None, 10)                5130      \n",
      "=================================================================\n",
      "Total params: 4,743,050\n",
      "Trainable params: 4,743,050\n",
      "Non-trainable params: 0\n",
      "_________________________________________________________________\n"
     ]
    }
   ],
   "source": [
    "model_wo_softmax.summary()"
   ]
  },
  {
   "cell_type": "code",
   "execution_count": 131,
   "metadata": {},
   "outputs": [
    {
     "data": {
      "text/plain": [
       "<tf.Tensor 'dense_6/BiasAdd:0' shape=(?, 10) dtype=float32>"
      ]
     },
     "execution_count": 131,
     "metadata": {},
     "output_type": "execute_result"
    }
   ],
   "source": [
    "model_wo_softmax.output"
   ]
  },
  {
   "cell_type": "code",
   "execution_count": 176,
   "metadata": {},
   "outputs": [
    {
     "data": {
      "text/plain": [
       "[array([[0., 0., 0., 0., 0., 0., 0., 0., 0., 0.]], dtype=float32)]"
      ]
     },
     "execution_count": 176,
     "metadata": {},
     "output_type": "execute_result"
    }
   ],
   "source": [
    "K.function([model_wo_softmax.input], [model_wo_softmax.output])([np.zeros((1, 28, 28, 1))])"
   ]
  },
  {
   "cell_type": "code",
   "execution_count": 227,
   "metadata": {},
   "outputs": [
    {
     "data": {
      "text/plain": [
       "[<tf.Tensor 'dense_6/BiasAdd:0' shape=(?, 10) dtype=float32>]"
      ]
     },
     "execution_count": 227,
     "metadata": {},
     "output_type": "execute_result"
    }
   ],
   "source": [
    "model_wo_softmax.outputs"
   ]
  },
  {
   "cell_type": "code",
   "execution_count": 179,
   "metadata": {},
   "outputs": [
    {
     "data": {
      "text/plain": [
       "TensorShape([Dimension(None), Dimension(10)])"
      ]
     },
     "execution_count": 179,
     "metadata": {},
     "output_type": "execute_result"
    }
   ],
   "source": [
    "model_wo_softmax.output.shape"
   ]
  },
  {
   "cell_type": "code",
   "execution_count": 182,
   "metadata": {},
   "outputs": [
    {
     "data": {
      "text/plain": [
       "True"
      ]
     },
     "execution_count": 182,
     "metadata": {},
     "output_type": "execute_result"
    }
   ],
   "source": [
    "model_wo_softmax.output == model_wo_softmax.output"
   ]
  },
  {
   "cell_type": "code",
   "execution_count": null,
   "metadata": {},
   "outputs": [],
   "source": []
  }
 ],
 "metadata": {
  "kernelspec": {
   "display_name": "Python-3-Main",
   "language": "python",
   "name": "python-3-main"
  },
  "language_info": {
   "codemirror_mode": {
    "name": "ipython",
    "version": 3
   },
   "file_extension": ".py",
   "mimetype": "text/x-python",
   "name": "python",
   "nbconvert_exporter": "python",
   "pygments_lexer": "ipython3",
   "version": "3.6.3"
  },
  "toc": {
   "nav_menu": {},
   "number_sections": true,
   "sideBar": true,
   "skip_h1_title": false,
   "toc_cell": false,
   "toc_position": {},
   "toc_section_display": "block",
   "toc_window_display": true
  }
 },
 "nbformat": 4,
 "nbformat_minor": 2
}

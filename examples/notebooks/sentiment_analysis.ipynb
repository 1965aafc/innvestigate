{
 "cells": [
  {
   "cell_type": "code",
   "execution_count": 1,
   "metadata": {},
   "outputs": [
    {
     "name": "stderr",
     "output_type": "stream",
     "text": [
      "Using TensorFlow backend.\n"
     ]
    }
   ],
   "source": [
    "%matplotlib inline\n",
    "\n",
    "import imp\n",
    "import keras.backend\n",
    "import keras.models\n",
    "import matplotlib.pyplot as plt\n",
    "import numpy as np\n",
    "import pandas as pd\n",
    "import os\n",
    "\n",
    "import keras\n",
    "from keras.datasets import mnist\n",
    "from keras.models import Model\n",
    "# from keras.optimizers import RMSprop\n",
    "from keras import optimizers\n",
    "\n",
    "import innvestigate\n",
    "import innvestigate.applications\n",
    "import innvestigate.applications.mnist\n",
    "import innvestigate.utils as iutils\n",
    "import innvestigate.utils.visualizations as ivis\n",
    "from innvestigate.utils.tests.networks import base as network_base\n",
    "import time\n",
    "\n",
    "from IPython.core.display import display, HTML\n",
    "from innvestigate.tools import Perturbation, PerturbationAnalysis\n",
    "\n",
    "eutils = imp.load_source(\"utils\", \"../utils.py\")\n",
    "mnistutils = imp.load_source(\"utils_mnist\", \"../utils_mnist.py\")"
   ]
  },
  {
   "cell_type": "markdown",
   "metadata": {},
   "source": [
    "# Introduction"
   ]
  },
  {
   "cell_type": "markdown",
   "metadata": {},
   "source": [
    "In this experiment, we are going to build a sentiment analysis classifer, similar to [Arras et al. (2017)][arras]. In particular, we are going to predict sentiments of movie reviews, and apply explanation methods provided by **iNNvestigate** to analyze which words in each sentence influence the prediction of sentiments.\n",
    "\n",
    "The dataset that we are going to use is [Standford Sentiment Treebank][standford]. Although the original dataset contains reviews in 5 categories: *very negative, negative, neutral, positive,* and *very positive*, *neutral* reviews are excluded and we are here only interested whether reviews are positive or negative. In other words, we are going to build a binary classification. \n",
    "\n",
    "\n",
    "In the following, we first download a prepared dataset to local and load it to the notebook. Then, we construct a neural network model, receiving reviews as input and predicting their sentiments. Finally, we apply various explanation methods implemented in iNNvestigate to explain decisions of models. Below is an example of a explanation where red indicates a high relevance score in favour of the prediction, while blue is the opposite.\n",
    "\n",
    "![][sample]\n",
    "\n",
    "[arras]: http://www.aclweb.org/anthology/W16-1601\n",
    "[standford]: https://nlp.stanford.edu/sentiment/\n",
    "[sample]: https://i.imgur.com/AZm1YcD.png"
   ]
  },
  {
   "cell_type": "markdown",
   "metadata": {},
   "source": [
    "# Data Preparation\n",
    "As this notebook is meant to demonstate the functionalities of iNNvestigate, the data was prepared and can be downloaded from:\n",
    "```\n",
    "https://drive.google.com/uc?authuser=0&id=1c58cNitBbiLhyC5mUh01JtWgzEElaZgF&export=download\n",
    "```\n",
    "The archive contains the following files:\n",
    "```\n",
    "sstb-bin\n",
    "├── dict.txt\n",
    "├── embeddings.npy\n",
    "├── sequence_test.txt\n",
    "└── sequence_train.txt\n",
    "```\n",
    "\n",
    "Once the download is complete, please extract the archieve and set the `DATA_PATH` variable to the extracted directory."
   ]
  },
  {
   "cell_type": "code",
   "execution_count": 23,
   "metadata": {},
   "outputs": [],
   "source": [
    "# Project Parameters\n",
    "\n",
    "DATA_PATH = '<PLEASE_UPDATE_THIS_PATH_ACCORDINGLY>'\n",
    "\n",
    "# reviews will be truncated to this length.\n",
    "MAX_SEQ_LENGTH = 40\n",
    "\n",
    "NUM_CLASSES = 2\n",
    "LABEL_TO_CLASS_NAME = {\n",
    "    0 : 'negative',\n",
    "    1 : 'positive'\n",
    "}"
   ]
  },
  {
   "cell_type": "code",
   "execution_count": 3,
   "metadata": {},
   "outputs": [
    {
     "name": "stderr",
     "output_type": "stream",
     "text": [
      "/Users/heytitle/projects/innvestigate/venv/lib/python3.6/site-packages/ipykernel_launcher.py:5: ParserWarning: Falling back to the 'python' engine because the 'c' engine does not support regex separators (separators > 1 char and different from '\\s+' are interpreted as regex); you can avoid this warning by specifying engine='python'.\n",
      "  \"\"\"\n"
     ]
    }
   ],
   "source": [
    "# load embedding weights\n",
    "embedding_weights = np.load('%s/embeddings.npy' % DATA_PATH)\n",
    "\n",
    "# load directory \n",
    "df_vocab = pd.read_csv('%s/dict.txt' % DATA_PATH, sep='::', header=None, names=['vocab'])\n",
    "decode_dict = dict(zip(range(len(df_vocab)), list(df_vocab.vocab.values)))"
   ]
  },
  {
   "cell_type": "code",
   "execution_count": 5,
   "metadata": {},
   "outputs": [],
   "source": [
    "def read_data(path):\n",
    "    x = []\n",
    "    y = []\n",
    "\n",
    "    with open(path) as fp:\n",
    "        for line in fp:\n",
    "            tokens = np.array(line.strip().split(' ')).astype(int)\n",
    "\n",
    "            # the vocab indices from the data start from 1\n",
    "            seq = list(tokens[1:] - 1)\n",
    "            x.append(seq)\n",
    "\n",
    "            # the label in the data ranges between from 1-5\n",
    "            y.append(tokens[0] - 1)\n",
    "\n",
    "    return x, y"
   ]
  },
  {
   "cell_type": "code",
   "execution_count": 8,
   "metadata": {},
   "outputs": [],
   "source": [
    "dataset_names = {\n",
    "    'train': 'sequence_train.txt',\n",
    "    'test': 'sequence_test.txt',\n",
    "} \n",
    "datasets = dict()\n",
    "\n",
    "\n",
    "for k, v in dataset_names.items():\n",
    "    x, y = read_data('%s/%s' % (DATA_PATH, v))\n",
    "    y = np.array(y)\n",
    "    total_samples = y.shape[0]\n",
    "    \n",
    "    # create a 3-dimensional data matrix, padding reviews to have MAX_SEQ_LENGTH\n",
    "    xd = np.zeros((total_samples, MAX_SEQ_LENGTH, embedding_weights.shape[1]))\n",
    "    for i in range(total_samples):\n",
    "        lx = len(x[i])\n",
    "        for j, widx in enumerate(x[i]):\n",
    "            if j < MAX_SEQ_LENGTH:\n",
    "                xd[i, j, :] = embedding_weights[widx]\n",
    "            else:\n",
    "                break\n",
    "    # filter out neutral reviews\n",
    "    indices = np.where(y != 2)\n",
    "    \n",
    "    y_selected = y[indices].reshape(-1)\n",
    "    y_final = np.zeros(y_selected.shape)\n",
    "    # for positive and very negative reviews, their targets are set to `1`, while negative and very negative are `0`.\n",
    "    y_final[y_selected > 2] = 1\n",
    "    \n",
    "    # return padded reviews, target, and reviews (without padding)\n",
    "    datasets[k] = dict(\n",
    "        padded_reviews=xd[indices],\n",
    "        padded_reviews_4d=np.expand_dims(xd[indices], axis=1),\n",
    "        targets=y_final.astype(int),\n",
    "        reviews=np.array(x)[indices]\n",
    "    )"
   ]
  },
  {
   "cell_type": "code",
   "execution_count": 9,
   "metadata": {},
   "outputs": [
    {
     "name": "stdout",
     "output_type": "stream",
     "text": [
      "We have 98788 reviews in the training set, and 1821 reviews in the testing set\n"
     ]
    }
   ],
   "source": [
    "print('We have %d reviews in the training set, and %d reviews in the testing set' % \n",
    "      (len(datasets['train']['reviews']), len(datasets['test']['reviews']))\n",
    "     )"
   ]
  },
  {
   "cell_type": "code",
   "execution_count": 10,
   "metadata": {},
   "outputs": [
    {
     "name": "stdout",
     "output_type": "stream",
     "text": [
      "Review 90860:\n",
      "are jarring and deeply out of place in what could have -lrb- and probably should have -rrb- been a lighthearted comedy\n"
     ]
    }
   ],
   "source": [
    "sample_idx = 90860\n",
    "\n",
    "print('Review %d:\\n%s' %\n",
    "      (sample_idx, ' '.join(map(lambda x: decode_dict[x], datasets['train']['reviews'][sample_idx]))))"
   ]
  },
  {
   "cell_type": "markdown",
   "metadata": {},
   "source": [
    "# Model Construction\n",
    "\n",
    "For this propose, we are going to use a convoluational neural network, which was experimented in [Arras et al. (2016)][arras2]. As shown below, the architecture has a convoluationa layer, convolving word embeddings of two words, followed by a max pooling layer and a softmax layer.\n",
    "\n",
    "![][arch]\n",
    "\n",
    "[arch]: https://i.imgur.com/GE8nrWX.png\n",
    "[arras2]: https://arxiv.org/abs/1612.07843"
   ]
  },
  {
   "cell_type": "code",
   "execution_count": 11,
   "metadata": {},
   "outputs": [],
   "source": [
    "def build_network(input_shape, output_n, activation=None, dense_unit=256, dropout_rate=0.25):\n",
    "    if activation:\n",
    "        activation = \"relu\"\n",
    "\n",
    "    net = {}\n",
    "    net[\"in\"] = network_base.input_layer(shape=input_shape)\n",
    "    net[\"conv\"] = keras.layers.Conv2D(filters=100, kernel_size=(1,2), strides=(1, 1), padding='valid')(net[\"in\"])\n",
    "    net[\"pool\"] = keras.layers.MaxPooling2D(pool_size=(1, input_shape[2]-1), strides=(1,1))(net[\"conv\"])\n",
    "    net[\"out\"] = network_base.dense_layer(keras.layers.Flatten()(net[\"pool\"]), units=output_n, activation=activation)\n",
    "    net[\"sm_out\"] = network_base.softmax(net[\"out\"])\n",
    "\n",
    "\n",
    "    net.update({\n",
    "        \"input_shape\": input_shape,\n",
    "\n",
    "        \"output_n\": output_n,\n",
    "    })\n",
    "    return net\n",
    "\n",
    "net = build_network((None, 1, MAX_SEQ_LENGTH, embedding_weights.shape[1]), NUM_CLASSES)\n",
    "model_without_softmax, model_with_softmax = Model(inputs=net['in'], outputs=net['out']), Model(inputs=net['in'], outputs=net['sm_out'])"
   ]
  },
  {
   "cell_type": "code",
   "execution_count": 14,
   "metadata": {},
   "outputs": [],
   "source": [
    "def train_model(model,  batch_size=128, epochs=20):\n",
    "\n",
    "    x_train = datasets['train']['padded_reviews_4d']\n",
    "    y_train = datasets['train']['targets']\n",
    "    \n",
    "    x_test = datasets['test']['padded_reviews_4d']\n",
    "    y_test = datasets['test']['targets']\n",
    "    \n",
    "    # convert class vectors to binary class matrices\n",
    "    y_train = keras.utils.to_categorical(y_train, NUM_CLASSES)\n",
    "    y_test = keras.utils.to_categorical(y_test, NUM_CLASSES)\n",
    "\n",
    "    model.compile(loss='categorical_crossentropy',\n",
    "                  optimizer=optimizers.Adam(),\n",
    "                  metrics=['accuracy'])\n",
    "\n",
    "    history = model.fit(x_train, y_train,\n",
    "                        batch_size=batch_size,\n",
    "                        epochs=epochs,\n",
    "                        verbose=1)\n",
    "    score = model.evaluate(x_test, y_test, verbose=0)\n",
    "    print('Test loss:', score[0])\n",
    "    print('Test accuracy:', score[1])"
   ]
  },
  {
   "cell_type": "code",
   "execution_count": 15,
   "metadata": {},
   "outputs": [
    {
     "name": "stdout",
     "output_type": "stream",
     "text": [
      "Epoch 1/5\n",
      "98788/98788 [==============================] - 7s 75us/step - loss: 0.2582 - acc: 0.9073\n",
      "Epoch 2/5\n",
      "98788/98788 [==============================] - 7s 72us/step - loss: 0.1803 - acc: 0.9379\n",
      "Epoch 3/5\n",
      "98788/98788 [==============================] - 7s 69us/step - loss: 0.1659 - acc: 0.9417\n",
      "Epoch 4/5\n",
      "98788/98788 [==============================] - 7s 72us/step - loss: 0.1579 - acc: 0.9445\n",
      "Epoch 5/5\n",
      "98788/98788 [==============================] - 7s 71us/step - loss: 0.1515 - acc: 0.9470\n",
      "Test loss: 0.4313657436149583\n",
      "Test accuracy: 0.8215266338486648\n"
     ]
    }
   ],
   "source": [
    "train_model(model_with_softmax, batch_size=256, epochs=5)"
   ]
  },
  {
   "cell_type": "code",
   "execution_count": 16,
   "metadata": {},
   "outputs": [],
   "source": [
    "model_without_softmax.set_weights(model_with_softmax.get_weights())"
   ]
  },
  {
   "cell_type": "markdown",
   "metadata": {},
   "source": [
    "# Model Analysis and Visualization\n",
    "\n",
    "At this stage, we have a trained model and are ready to explain it via **iNNvestigate**'s analyzers."
   ]
  },
  {
   "cell_type": "code",
   "execution_count": 24,
   "metadata": {},
   "outputs": [],
   "source": [
    "# Specify methods that you would like to use to explain the model. \n",
    "# Please refer to iNNvestigate's documents for avalible methods.\n",
    "methods = ['gradient', 'guided_backprop', 'lrp.z', 'lrp.alpha_2_beta_1', 'pattern.net', 'pattern.attribution']"
   ]
  },
  {
   "cell_type": "code",
   "execution_count": 25,
   "metadata": {},
   "outputs": [
    {
     "name": "stderr",
     "output_type": "stream",
     "text": [
      "/Users/heytitle/projects/innvestigate/innvestigate/analyzer/base.py:113: RuntimeWarning: This analyzer does not need to be trained. Still fit() is called.\n",
      "  \" Still fit() is called.\", RuntimeWarning)\n"
     ]
    },
    {
     "name": "stdout",
     "output_type": "stream",
     "text": [
      "Epoch 1/1\n",
      "386/386 [==============================] - 20s 51ms/step - loss: 2.0000 - broadcast_3_loss: 1.0000 - broadcast_4_loss: 1.0000\n",
      "Epoch 1/1\n",
      "386/386 [==============================] - 15s 38ms/step - loss: 2.0000 - broadcast_5_loss: 1.0000 - broadcast_6_loss: 1.0000\n"
     ]
    }
   ],
   "source": [
    "# build an analyzer for each method\n",
    "analyzers = []\n",
    "\n",
    "for method in methods:\n",
    "    analyzer = innvestigate.create_analyzer(method, model_without_softmax)\n",
    "    analyzer.fit(np.expand_dims(datasets['train']['padded_reviews'], axis=1), pattern_type='relu', batch_size=256, verbose=1)\n",
    "    analyzers.append(analyzer)"
   ]
  },
  {
   "cell_type": "code",
   "execution_count": 26,
   "metadata": {},
   "outputs": [
    {
     "name": "stdout",
     "output_type": "stream",
     "text": [
      "Review 1718 (3.0602s)\n",
      "Review 726 (0.0077s)\n",
      "Review 908 (0.0050s)\n",
      "Review 1523 (0.0048s)\n",
      "Review 454 (0.0047s)\n",
      "Review 539 (0.0052s)\n"
     ]
    }
   ],
   "source": [
    "# specify indices of reviews that we want to investigate\n",
    "test_sample_indices = [1718, 726, 908, 1523, 454, 539]\n",
    "test_sample_preds = [None]*len(test_sample_indices)\n",
    "\n",
    "# a variable to store analysis results.\n",
    "analysis = np.zeros([len(test_sample_indices), len(analyzers), 1, MAX_SEQ_LENGTH])\n",
    "\n",
    "for i, ridx in enumerate(test_sample_indices):\n",
    "\n",
    "    x, y = datasets['test']['padded_reviews'][ridx], datasets['test']['targets'][ridx]\n",
    "    \n",
    "\n",
    "    t_start = time.time()\n",
    "    x = x.reshape((1, 1, MAX_SEQ_LENGTH, embedding_weights.shape[1]))    \n",
    "\n",
    "    presm = model_without_softmax.predict_on_batch(x)[0] #forward pass without softmax\n",
    "    prob = model_with_softmax.predict_on_batch(x)[0] #forward pass with softmax\n",
    "    y_hat = prob.argmax()\n",
    "    test_sample_preds[i] = y_hat\n",
    "    \n",
    "    for aidx, analyzer in enumerate(analyzers):\n",
    "\n",
    "        a = np.squeeze(analyzer.analyze(x))\n",
    "        a = np.sum(a, axis=1)\n",
    "\n",
    "        analysis[i, aidx] = a\n",
    "    t_elapsed = time.time() - t_start\n",
    "    print('Review %d (%.4fs)'% (ridx, t_elapsed))"
   ]
  },
  {
   "cell_type": "markdown",
   "metadata": {},
   "source": [
    "## Visualization\n",
    "\n",
    "In this part, we will visualize analysis results as heatmaps in which each word is highlighted with a different color depending on its relevance score. For example, if a word is shaded in red, it means that word positively influence the outcome. On the other hand, being shaded in blue indicates a negative influence. \n",
    "\n",
    "The implementation is drawn from [Leila's LRP_for_LSTM](arras_lstm). In brief, the visualization is simply a construction of HTML DOMs with shaded background as discribed previously. The \n",
    "\n",
    "[arras_lstm]: https://github.com/ArrasL/LRP_for_LSTM"
   ]
  },
  {
   "cell_type": "code",
   "execution_count": 27,
   "metadata": {},
   "outputs": [],
   "source": [
    "# code in this block taken from https://github.com/ArrasL/LRP_for_LSTM\n",
    "\n",
    "def rescale_score_by_abs(score, max_score, min_score):\n",
    "    \"\"\"\n",
    "    rescale positive score to the range [0.5, 1.0], negative score to the range [0.0, 0.5],\n",
    "    using the extremal scores max_score and min_score for normalization\n",
    "    \"\"\"\n",
    "\n",
    "    # CASE 1: positive AND negative scores occur --------------------\n",
    "    if max_score > 0 and min_score < 0:\n",
    "\n",
    "        if max_score >= abs(min_score):  # deepest color is positive\n",
    "            if score >= 0:\n",
    "                return 0.5 + 0.5 * (score / max_score)\n",
    "            else:\n",
    "                return 0.5 - 0.5 * (abs(score) / max_score)\n",
    "\n",
    "        else:  # deepest color is negative\n",
    "            if score >= 0:\n",
    "                return 0.5 + 0.5 * (score / abs(min_score))\n",
    "            else:\n",
    "                return 0.5 - 0.5 * (score / min_score)\n",
    "\n",
    "                # CASE 2: ONLY positive scores occur -----------------------------\n",
    "    elif max_score > 0 and min_score >= 0:\n",
    "        if max_score == min_score:\n",
    "            return 1.0\n",
    "        else:\n",
    "            return 0.5 + 0.5 * (score / max_score)\n",
    "\n",
    "    # CASE 3: ONLY negative scores occur -----------------------------\n",
    "    elif max_score <= 0 and min_score < 0:\n",
    "        if max_score == min_score:\n",
    "            return 0.0\n",
    "        else:\n",
    "            return 0.5 - 0.5 * (score / min_score)\n",
    "        \n",
    "def getRGB(c_tuple):\n",
    "    return \"#%02x%02x%02x\" % (int(c_tuple[0] * 255), int(c_tuple[1] * 255), int(c_tuple[2] * 255))\n",
    "\n",
    "def span_word(word, normalized_score, raw_score, colormap, highlight=False, attribute=\"background-color\"):\n",
    "    return \"<span style=\\\"{attribute}: {color}; padding: 1px;\\\" title=\\\"relevance {rel}\\\">{word}</span> \".format(\n",
    "        attribute=attribute,\n",
    "        rel=raw_score,\n",
    "        color=getRGB(colormap(normalized_score)),\n",
    "        word=word,\n",
    "    )\n",
    "\n",
    "def html_heatmap(method, words, scores, cmap_name=\"bwr\", short_version=True):\n",
    "    colormap = plt.get_cmap(cmap_name)\n",
    "\n",
    "    assert len(words) == len(scores)\n",
    "    max_s = max(scores)\n",
    "    min_s = min(scores)\n",
    "\n",
    "    output_text = \"\"\n",
    "\n",
    "    for idx, w in enumerate(words):\n",
    "        score = rescale_score_by_abs(scores[idx], max_s, min_s)\n",
    "        output_text = output_text + span_word(w, score, scores[idx], colormap) + \" \"\n",
    "\n",
    "    prefix = '<b>> </b>' if short_version else '<b>Heatmap(%s):</b> ' % method\n",
    "\n",
    "    return HTML(prefix + output_text)"
   ]
  },
  {
   "cell_type": "code",
   "execution_count": 28,
   "metadata": {
    "scrolled": false
   },
   "outputs": [
    {
     "name": "stdout",
     "output_type": "stream",
     "text": [
      "------------\n",
      "Review 1718\n",
      "Sentence : this may not have the dramatic gut-wrenching impact of other holocaust films , but it 's a compelling story , mainly because of the way it 's told by the people who were there .\n",
      "Pred class : positive ✓\n"
     ]
    },
    {
     "data": {
      "text/html": [
       "<b>Heatmap(gradient):</b> <span style=\"background-color: #fffefe; padding: 1px;\" title=\"relevance 0.0\">this</span>  <span style=\"background-color: #ff7c7c; padding: 1px;\" title=\"relevance 2.0986812114715576\">may</span>  <span style=\"background-color: #ff9898; padding: 1px;\" title=\"relevance 1.6554166078567505\">not</span>  <span style=\"background-color: #c0c0ff; padding: 1px;\" title=\"relevance -1.003369688987732\">have</span>  <span style=\"background-color: #dcdcff; padding: 1px;\" title=\"relevance -0.5473846197128296\">the</span>  <span style=\"background-color: #fff2f2; padding: 1px;\" title=\"relevance 0.20761364698410034\">dramatic</span>  <span style=\"background-color: #ffe8e8; padding: 1px;\" title=\"relevance 0.3729759752750397\">gut-wrenching</span>  <span style=\"background-color: #fffcfc; padding: 1px;\" title=\"relevance 0.03698094189167023\">impact</span>  <span style=\"background-color: #fffefe; padding: 1px;\" title=\"relevance 0.0\">of</span>  <span style=\"background-color: #fffefe; padding: 1px;\" title=\"relevance 0.0\">other</span>  <span style=\"background-color: #ff9a9a; padding: 1px;\" title=\"relevance 1.6283395290374756\">holocaust</span>  <span style=\"background-color: #ff5454; padding: 1px;\" title=\"relevance 2.726972818374634\">films</span>  <span style=\"background-color: #f8f8ff; padding: 1px;\" title=\"relevance -0.11900033056735992\">,</span>  <span style=\"background-color: #b0b0ff; padding: 1px;\" title=\"relevance -1.253658652305603\">but</span>  <span style=\"background-color: #dadaff; padding: 1px;\" title=\"relevance -0.6072123050689697\">it</span>  <span style=\"background-color: #f8f8ff; padding: 1px;\" title=\"relevance -0.12533600628376007\">'s</span>  <span style=\"background-color: #cacaff; padding: 1px;\" title=\"relevance -0.8499154448509216\">a</span>  <span style=\"background-color: #ff0000; padding: 1px;\" title=\"relevance 4.0964460372924805\">compelling</span>  <span style=\"background-color: #ffc8c8; padding: 1px;\" title=\"relevance 0.8781747817993164\">story</span>  <span style=\"background-color: #fffefe; padding: 1px;\" title=\"relevance 0.0\">,</span>  <span style=\"background-color: #fffefe; padding: 1px;\" title=\"relevance 0.0\">mainly</span>  <span style=\"background-color: #fafaff; padding: 1px;\" title=\"relevance -0.08713865280151367\">because</span>  <span style=\"background-color: #ffeaea; padding: 1px;\" title=\"relevance 0.33301883935928345\">of</span>  <span style=\"background-color: #f8f8ff; padding: 1px;\" title=\"relevance -0.10680282860994339\">the</span>  <span style=\"background-color: #ffb8b8; padding: 1px;\" title=\"relevance 1.1406748294830322\">way</span>  <span style=\"background-color: #fffefe; padding: 1px;\" title=\"relevance 0.0\">it</span>  <span style=\"background-color: #e0e0ff; padding: 1px;\" title=\"relevance -0.4892679750919342\">'s</span>  <span style=\"background-color: #fff4f4; padding: 1px;\" title=\"relevance 0.1826350837945938\">told</span>  <span style=\"background-color: #fff8f8; padding: 1px;\" title=\"relevance 0.1037188395857811\">by</span>  <span style=\"background-color: #ffcccc; padding: 1px;\" title=\"relevance 0.8058204650878906\">the</span>  <span style=\"background-color: #ffd3d3; padding: 1px;\" title=\"relevance 0.6961395144462585\">people</span>  <span style=\"background-color: #fff6f6; padding: 1px;\" title=\"relevance 0.15882371366024017\">who</span>  <span style=\"background-color: #ffe8e8; padding: 1px;\" title=\"relevance 0.35863274335861206\">were</span>  <span style=\"background-color: #ffeeee; padding: 1px;\" title=\"relevance 0.2634216845035553\">there</span>  <span style=\"background-color: #fffefe; padding: 1px;\" title=\"relevance 0.0\">.</span>  "
      ],
      "text/plain": [
       "<IPython.core.display.HTML object>"
      ]
     },
     "metadata": {},
     "output_type": "display_data"
    },
    {
     "data": {
      "text/html": [
       "<b>Heatmap(guided_backprop):</b> <span style=\"background-color: #fffefe; padding: 1px;\" title=\"relevance 0.0\">this</span>  <span style=\"background-color: #ff7c7c; padding: 1px;\" title=\"relevance 0.3112007677555084\">may</span>  <span style=\"background-color: #ff9898; padding: 1px;\" title=\"relevance 0.2454717755317688\">not</span>  <span style=\"background-color: #c0c0ff; padding: 1px;\" title=\"relevance -0.14878365397453308\">have</span>  <span style=\"background-color: #dcdcff; padding: 1px;\" title=\"relevance -0.08116836100816727\">the</span>  <span style=\"background-color: #fff2f2; padding: 1px;\" title=\"relevance 0.030785709619522095\">dramatic</span>  <span style=\"background-color: #ffe8e8; padding: 1px;\" title=\"relevance 0.055306341499090195\">gut-wrenching</span>  <span style=\"background-color: #fffcfc; padding: 1px;\" title=\"relevance 0.005483680870383978\">impact</span>  <span style=\"background-color: #fffefe; padding: 1px;\" title=\"relevance 0.0\">of</span>  <span style=\"background-color: #fffefe; padding: 1px;\" title=\"relevance 0.0\">other</span>  <span style=\"background-color: #ff9a9a; padding: 1px;\" title=\"relevance 0.24145662784576416\">holocaust</span>  <span style=\"background-color: #ff5454; padding: 1px;\" title=\"relevance 0.40436628460884094\">films</span>  <span style=\"background-color: #f8f8ff; padding: 1px;\" title=\"relevance -0.01764582470059395\">,</span>  <span style=\"background-color: #b0b0ff; padding: 1px;\" title=\"relevance -0.18589748442173004\">but</span>  <span style=\"background-color: #dadaff; padding: 1px;\" title=\"relevance -0.09003984928131104\">it</span>  <span style=\"background-color: #f8f8ff; padding: 1px;\" title=\"relevance -0.018585316836833954\">'s</span>  <span style=\"background-color: #cacaff; padding: 1px;\" title=\"relevance -0.12602883577346802\">a</span>  <span style=\"background-color: #ff0000; padding: 1px;\" title=\"relevance 0.6074371933937073\">compelling</span>  <span style=\"background-color: #ffc8c8; padding: 1px;\" title=\"relevance 0.1302192509174347\">story</span>  <span style=\"background-color: #fffefe; padding: 1px;\" title=\"relevance 0.0\">,</span>  <span style=\"background-color: #fffefe; padding: 1px;\" title=\"relevance 0.0\">mainly</span>  <span style=\"background-color: #fafaff; padding: 1px;\" title=\"relevance -0.012921271845698357\">because</span>  <span style=\"background-color: #ffeaea; padding: 1px;\" title=\"relevance 0.04938134923577309\">of</span>  <span style=\"background-color: #f8f8ff; padding: 1px;\" title=\"relevance -0.01583714969456196\">the</span>  <span style=\"background-color: #ffb8b8; padding: 1px;\" title=\"relevance 0.16914376616477966\">way</span>  <span style=\"background-color: #fffefe; padding: 1px;\" title=\"relevance 0.0\">it</span>  <span style=\"background-color: #e0e0ff; padding: 1px;\" title=\"relevance -0.07255060970783234\">'s</span>  <span style=\"background-color: #fff4f4; padding: 1px;\" title=\"relevance 0.02708185836672783\">told</span>  <span style=\"background-color: #fff8f8; padding: 1px;\" title=\"relevance 0.015379839576780796\">by</span>  <span style=\"background-color: #ffcccc; padding: 1px;\" title=\"relevance 0.11949026584625244\">the</span>  <span style=\"background-color: #ffd3d3; padding: 1px;\" title=\"relevance 0.10322633385658264\">people</span>  <span style=\"background-color: #fff6f6; padding: 1px;\" title=\"relevance 0.02355101704597473\">who</span>  <span style=\"background-color: #ffe8e8; padding: 1px;\" title=\"relevance 0.053179480135440826\">were</span>  <span style=\"background-color: #ffeeee; padding: 1px;\" title=\"relevance 0.03906121850013733\">there</span>  <span style=\"background-color: #fffefe; padding: 1px;\" title=\"relevance 0.0\">.</span>  "
      ],
      "text/plain": [
       "<IPython.core.display.HTML object>"
      ]
     },
     "metadata": {},
     "output_type": "display_data"
    },
    {
     "data": {
      "text/html": [
       "<b>Heatmap(lrp.z):</b> <span style=\"background-color: #fffefe; padding: 1px;\" title=\"relevance 0.0\">this</span>  <span style=\"background-color: #5656ff; padding: 1px;\" title=\"relevance -1.098300814628601\">may</span>  <span style=\"background-color: #0000ff; padding: 1px;\" title=\"relevance -1.6692402362823486\">not</span>  <span style=\"background-color: #a8a8ff; padding: 1px;\" title=\"relevance -0.5659412741661072\">have</span>  <span style=\"background-color: #fff2f2; padding: 1px;\" title=\"relevance 0.08428558707237244\">the</span>  <span style=\"background-color: #ffc0c0; padding: 1px;\" title=\"relevance 0.40880176424980164\">dramatic</span>  <span style=\"background-color: #ffe2e2; padding: 1px;\" title=\"relevance 0.19392627477645874\">gut-wrenching</span>  <span style=\"background-color: #fffcfc; padding: 1px;\" title=\"relevance 0.015467223711311817\">impact</span>  <span style=\"background-color: #fffefe; padding: 1px;\" title=\"relevance 0.0\">of</span>  <span style=\"background-color: #fffefe; padding: 1px;\" title=\"relevance 0.0\">other</span>  <span style=\"background-color: #ffd8d8; padding: 1px;\" title=\"relevance 0.24813644587993622\">holocaust</span>  <span style=\"background-color: #ffb8b8; padding: 1px;\" title=\"relevance 0.45935139060020447\">films</span>  <span style=\"background-color: #ffe6e6; padding: 1px;\" title=\"relevance 0.1675885021686554\">,</span>  <span style=\"background-color: #ffdede; padding: 1px;\" title=\"relevance 0.21246814727783203\">but</span>  <span style=\"background-color: #ffe2e2; padding: 1px;\" title=\"relevance 0.19529473781585693\">it</span>  <span style=\"background-color: #d3d3ff; padding: 1px;\" title=\"relevance -0.2766799330711365\">'s</span>  <span style=\"background-color: #ffb2b2; padding: 1px;\" title=\"relevance 0.5027530193328857\">a</span>  <span style=\"background-color: #ffe6e6; padding: 1px;\" title=\"relevance 0.1597757339477539\">compelling</span>  <span style=\"background-color: #ffd0d0; padding: 1px;\" title=\"relevance 0.30042341351509094\">story</span>  <span style=\"background-color: #fffefe; padding: 1px;\" title=\"relevance 0.0\">,</span>  <span style=\"background-color: #fffefe; padding: 1px;\" title=\"relevance 0.0\">mainly</span>  <span style=\"background-color: #fefeff; padding: 1px;\" title=\"relevance -0.01073385402560234\">because</span>  <span style=\"background-color: #e2e2ff; padding: 1px;\" title=\"relevance -0.1947864592075348\">of</span>  <span style=\"background-color: #ffb6b6; padding: 1px;\" title=\"relevance 0.4695418179035187\">the</span>  <span style=\"background-color: #ffdede; padding: 1px;\" title=\"relevance 0.21043001115322113\">way</span>  <span style=\"background-color: #fffefe; padding: 1px;\" title=\"relevance 0.0\">it</span>  <span style=\"background-color: #ffe0e0; padding: 1px;\" title=\"relevance 0.19792026281356812\">'s</span>  <span style=\"background-color: #fffafa; padding: 1px;\" title=\"relevance 0.03436107933521271\">told</span>  <span style=\"background-color: #f0f0ff; padding: 1px;\" title=\"relevance -0.103334940969944\">by</span>  <span style=\"background-color: #ffeaea; padding: 1px;\" title=\"relevance 0.1323448270559311\">the</span>  <span style=\"background-color: #ffe4e4; padding: 1px;\" title=\"relevance 0.1732003092765808\">people</span>  <span style=\"background-color: #fff8f8; padding: 1px;\" title=\"relevance 0.040156714618206024\">who</span>  <span style=\"background-color: #e8e8ff; padding: 1px;\" title=\"relevance -0.14598101377487183\">were</span>  <span style=\"background-color: #d6d6ff; padding: 1px;\" title=\"relevance -0.26405027508735657\">there</span>  <span style=\"background-color: #fffefe; padding: 1px;\" title=\"relevance 0.0\">.</span>  "
      ],
      "text/plain": [
       "<IPython.core.display.HTML object>"
      ]
     },
     "metadata": {},
     "output_type": "display_data"
    },
    {
     "data": {
      "text/html": [
       "<b>Heatmap(lrp.alpha_2_beta_1):</b> <span style=\"background-color: #fffefe; padding: 1px;\" title=\"relevance 0.0\">this</span>  <span style=\"background-color: #0000ff; padding: 1px;\" title=\"relevance -0.03834840655326843\">may</span>  <span style=\"background-color: #ff8c8c; padding: 1px;\" title=\"relevance 0.01711238920688629\">not</span>  <span style=\"background-color: #babaff; padding: 1px;\" title=\"relevance -0.010224898345768452\">have</span>  <span style=\"background-color: #e6e6ff; padding: 1px;\" title=\"relevance -0.0036639885511249304\">the</span>  <span style=\"background-color: #ff0000; padding: 1px;\" title=\"relevance 0.038218289613723755\">dramatic</span>  <span style=\"background-color: #f2f2ff; padding: 1px;\" title=\"relevance -0.0019317313563078642\">gut-wrenching</span>  <span style=\"background-color: #fffcfc; padding: 1px;\" title=\"relevance 0.0004015946469735354\">impact</span>  <span style=\"background-color: #fffefe; padding: 1px;\" title=\"relevance 0.0\">of</span>  <span style=\"background-color: #fffefe; padding: 1px;\" title=\"relevance 0.0\">other</span>  <span style=\"background-color: #ffd0d0; padding: 1px;\" title=\"relevance 0.0071259005926549435\">holocaust</span>  <span style=\"background-color: #ff9090; padding: 1px;\" title=\"relevance 0.01657080464065075\">films</span>  <span style=\"background-color: #ffdada; padding: 1px;\" title=\"relevance 0.0055830511264503\">,</span>  <span style=\"background-color: #ffbcbc; padding: 1px;\" title=\"relevance 0.009928490966558456\">but</span>  <span style=\"background-color: #ffd3d3; padding: 1px;\" title=\"relevance 0.006533815525472164\">it</span>  <span style=\"background-color: #dcdcff; padding: 1px;\" title=\"relevance -0.005212828051298857\">'s</span>  <span style=\"background-color: #ff7171; padding: 1px;\" title=\"relevance 0.02097771130502224\">a</span>  <span style=\"background-color: #ff0101; padding: 1px;\" title=\"relevance 0.03788122162222862\">compelling</span>  <span style=\"background-color: #ffdede; padding: 1px;\" title=\"relevance 0.004880906082689762\">story</span>  <span style=\"background-color: #fffefe; padding: 1px;\" title=\"relevance 0.0\">,</span>  <span style=\"background-color: #fffefe; padding: 1px;\" title=\"relevance 0.0\">mainly</span>  <span style=\"background-color: #fffcfc; padding: 1px;\" title=\"relevance 0.00041580176912248135\">because</span>  <span style=\"background-color: #e6e6ff; padding: 1px;\" title=\"relevance -0.00385685870423913\">of</span>  <span style=\"background-color: #ff9696; padding: 1px;\" title=\"relevance 0.015709497034549713\">the</span>  <span style=\"background-color: #ffd8d8; padding: 1px;\" title=\"relevance 0.005767347756773233\">way</span>  <span style=\"background-color: #fffefe; padding: 1px;\" title=\"relevance 0.0\">it</span>  <span style=\"background-color: #ffd3d3; padding: 1px;\" title=\"relevance 0.006540337111800909\">'s</span>  <span style=\"background-color: #fffafa; padding: 1px;\" title=\"relevance 0.0007855768781155348\">told</span>  <span style=\"background-color: #f3f3ff; padding: 1px;\" title=\"relevance -0.001539805205538869\">by</span>  <span style=\"background-color: #ffd8d8; padding: 1px;\" title=\"relevance 0.005838837940245867\">the</span>  <span style=\"background-color: #ffd8d8; padding: 1px;\" title=\"relevance 0.005724922753870487\">people</span>  <span style=\"background-color: #fff6f6; padding: 1px;\" title=\"relevance 0.001225622952915728\">who</span>  <span style=\"background-color: #ececff; padding: 1px;\" title=\"relevance -0.0027242836076766253\">were</span>  <span style=\"background-color: #e6e6ff; padding: 1px;\" title=\"relevance -0.0038259378634393215\">there</span>  <span style=\"background-color: #fffefe; padding: 1px;\" title=\"relevance 0.0\">.</span>  "
      ],
      "text/plain": [
       "<IPython.core.display.HTML object>"
      ]
     },
     "metadata": {},
     "output_type": "display_data"
    },
    {
     "data": {
      "text/html": [
       "<b>Heatmap(pattern.net):</b> <span style=\"background-color: #fffefe; padding: 1px;\" title=\"relevance 0.0\">this</span>  <span style=\"background-color: #a2a2ff; padding: 1px;\" title=\"relevance -1.1253091096878052\">may</span>  <span style=\"background-color: #fff2f2; padding: 1px;\" title=\"relevance 0.15703877806663513\">not</span>  <span style=\"background-color: #a6a6ff; padding: 1px;\" title=\"relevance -1.0870354175567627\">have</span>  <span style=\"background-color: #e0e0ff; padding: 1px;\" title=\"relevance -0.37292513251304626\">the</span>  <span style=\"background-color: #acacff; padding: 1px;\" title=\"relevance -0.9983890056610107\">dramatic</span>  <span style=\"background-color: #a2a2ff; padding: 1px;\" title=\"relevance -1.1288758516311646\">gut-wrenching</span>  <span style=\"background-color: #ececff; padding: 1px;\" title=\"relevance -0.2262832522392273\">impact</span>  <span style=\"background-color: #fffefe; padding: 1px;\" title=\"relevance 0.0\">of</span>  <span style=\"background-color: #fffefe; padding: 1px;\" title=\"relevance 0.0\">other</span>  <span style=\"background-color: #e3e3ff; padding: 1px;\" title=\"relevance -0.33223193883895874\">holocaust</span>  <span style=\"background-color: #b3b3ff; padding: 1px;\" title=\"relevance -0.8950809240341187\">films</span>  <span style=\"background-color: #a8a8ff; padding: 1px;\" title=\"relevance -1.049072504043579\">,</span>  <span style=\"background-color: #d3d3ff; padding: 1px;\" title=\"relevance -0.5198118090629578\">but</span>  <span style=\"background-color: #eaeaff; padding: 1px;\" title=\"relevance -0.2569122910499573\">it</span>  <span style=\"background-color: #f0f0ff; padding: 1px;\" title=\"relevance -0.18524852395057678\">'s</span>  <span style=\"background-color: #5151ff; padding: 1px;\" title=\"relevance -2.099515199661255\">a</span>  <span style=\"background-color: #3636ff; padding: 1px;\" title=\"relevance -2.434309720993042\">compelling</span>  <span style=\"background-color: #0000ff; padding: 1px;\" title=\"relevance -3.095026731491089\">story</span>  <span style=\"background-color: #fffefe; padding: 1px;\" title=\"relevance 0.0\">,</span>  <span style=\"background-color: #fffefe; padding: 1px;\" title=\"relevance 0.0\">mainly</span>  <span style=\"background-color: #f8f8ff; padding: 1px;\" title=\"relevance -0.07659292221069336\">because</span>  <span style=\"background-color: #f0f0ff; padding: 1px;\" title=\"relevance -0.1767430603504181\">of</span>  <span style=\"background-color: #b3b3ff; padding: 1px;\" title=\"relevance -0.9030199646949768\">the</span>  <span style=\"background-color: #eaeaff; padding: 1px;\" title=\"relevance -0.263668417930603\">way</span>  <span style=\"background-color: #fffefe; padding: 1px;\" title=\"relevance 0.0\">it</span>  <span style=\"background-color: #e3e3ff; padding: 1px;\" title=\"relevance -0.3367418646812439\">'s</span>  <span style=\"background-color: #f8f8ff; padding: 1px;\" title=\"relevance -0.07692287117242813\">told</span>  <span style=\"background-color: #f8f8ff; padding: 1px;\" title=\"relevance -0.09189101308584213\">by</span>  <span style=\"background-color: #d0d0ff; padding: 1px;\" title=\"relevance -0.5645331144332886\">the</span>  <span style=\"background-color: #e3e3ff; padding: 1px;\" title=\"relevance -0.32459691166877747\">people</span>  <span style=\"background-color: #f0f0ff; padding: 1px;\" title=\"relevance -0.1837252676486969\">who</span>  <span style=\"background-color: #fffefe; padding: 1px;\" title=\"relevance 0.003814506344497204\">were</span>  <span style=\"background-color: #f8f8ff; padding: 1px;\" title=\"relevance -0.09509404748678207\">there</span>  <span style=\"background-color: #fffefe; padding: 1px;\" title=\"relevance 0.0\">.</span>  "
      ],
      "text/plain": [
       "<IPython.core.display.HTML object>"
      ]
     },
     "metadata": {},
     "output_type": "display_data"
    },
    {
     "data": {
      "text/html": [
       "<b>Heatmap(pattern.attribution):</b> <span style=\"background-color: #fffefe; padding: 1px;\" title=\"relevance 0.0\">this</span>  <span style=\"background-color: #ececff; padding: 1px;\" title=\"relevance -0.984978437423706\">may</span>  <span style=\"background-color: #f8f8ff; padding: 1px;\" title=\"relevance -0.384075790643692\">not</span>  <span style=\"background-color: #b6b6ff; padding: 1px;\" title=\"relevance -3.635498046875\">have</span>  <span style=\"background-color: #d3d3ff; padding: 1px;\" title=\"relevance -2.1880669593811035\">the</span>  <span style=\"background-color: #ff4040; padding: 1px;\" title=\"relevance 9.5630464553833\">dramatic</span>  <span style=\"background-color: #ffb0b0; padding: 1px;\" title=\"relevance 3.9423654079437256\">gut-wrenching</span>  <span style=\"background-color: #fffcfc; padding: 1px;\" title=\"relevance 0.1410990208387375\">impact</span>  <span style=\"background-color: #fffefe; padding: 1px;\" title=\"relevance 0.0\">of</span>  <span style=\"background-color: #fffefe; padding: 1px;\" title=\"relevance 0.0\">other</span>  <span style=\"background-color: #ff8888; padding: 1px;\" title=\"relevance 5.998775482177734\">holocaust</span>  <span style=\"background-color: #ffbaba; padding: 1px;\" title=\"relevance 3.480835437774658\">films</span>  <span style=\"background-color: #ffd8d8; padding: 1px;\" title=\"relevance 1.9299349784851074\">,</span>  <span style=\"background-color: #ffd8d8; padding: 1px;\" title=\"relevance 1.904914140701294\">but</span>  <span style=\"background-color: #fff2f2; padding: 1px;\" title=\"relevance 0.6860706806182861\">it</span>  <span style=\"background-color: #e3e3ff; padding: 1px;\" title=\"relevance -1.328060269355774\">'s</span>  <span style=\"background-color: #ffc6c6; padding: 1px;\" title=\"relevance 2.851201295852661\">a</span>  <span style=\"background-color: #ff4444; padding: 1px;\" title=\"relevance 9.308853149414062\">compelling</span>  <span style=\"background-color: #ff0000; padding: 1px;\" title=\"relevance 12.803976058959961\">story</span>  <span style=\"background-color: #fffefe; padding: 1px;\" title=\"relevance 0.0\">,</span>  <span style=\"background-color: #fffefe; padding: 1px;\" title=\"relevance 0.0\">mainly</span>  <span style=\"background-color: #fefeff; padding: 1px;\" title=\"relevance -0.013687532395124435\">because</span>  <span style=\"background-color: #e8e8ff; padding: 1px;\" title=\"relevance -1.1999858617782593\">of</span>  <span style=\"background-color: #ff8080; padding: 1px;\" title=\"relevance 6.338191032409668\">the</span>  <span style=\"background-color: #fff0f0; padding: 1px;\" title=\"relevance 0.7216258645057678\">way</span>  <span style=\"background-color: #fffefe; padding: 1px;\" title=\"relevance 0.0\">it</span>  <span style=\"background-color: #ffd6d6; padding: 1px;\" title=\"relevance 2.042759418487549\">'s</span>  <span style=\"background-color: #fffafa; padding: 1px;\" title=\"relevance 0.20236974954605103\">told</span>  <span style=\"background-color: #fcfcff; padding: 1px;\" title=\"relevance -0.17753256857395172\">by</span>  <span style=\"background-color: #ffbebe; padding: 1px;\" title=\"relevance 3.2195658683776855\">the</span>  <span style=\"background-color: #ffecec; padding: 1px;\" title=\"relevance 0.9221327900886536\">people</span>  <span style=\"background-color: #fffafa; padding: 1px;\" title=\"relevance 0.27669793367385864\">who</span>  <span style=\"background-color: #f6f6ff; padding: 1px;\" title=\"relevance -0.4913957118988037\">were</span>  <span style=\"background-color: #f0f0ff; padding: 1px;\" title=\"relevance -0.7958985567092896\">there</span>  <span style=\"background-color: #fffefe; padding: 1px;\" title=\"relevance 0.0\">.</span>  "
      ],
      "text/plain": [
       "<IPython.core.display.HTML object>"
      ]
     },
     "metadata": {},
     "output_type": "display_data"
    },
    {
     "name": "stdout",
     "output_type": "stream",
     "text": [
      "------------\n",
      "Review 726\n",
      "Sentence : without heavy-handedness , dong provides perspective with his intelligent grasp of human foibles and contradictions .\n",
      "Pred class : positive ✓\n"
     ]
    },
    {
     "data": {
      "text/html": [
       "<b>Heatmap(gradient):</b> <span style=\"background-color: #ffc0c0; padding: 1px;\" title=\"relevance 1.021679401397705\">without</span>  <span style=\"background-color: #ececff; padding: 1px;\" title=\"relevance -0.32416149973869324\">heavy-handedness</span>  <span style=\"background-color: #fffefe; padding: 1px;\" title=\"relevance 0.0\">,</span>  <span style=\"background-color: #ffeeee; padding: 1px;\" title=\"relevance 0.27725887298583984\">dong</span>  <span style=\"background-color: #ff8c8c; padding: 1px;\" title=\"relevance 1.8997880220413208\">provides</span>  <span style=\"background-color: #ffd0d0; padding: 1px;\" title=\"relevance 0.7784361839294434\">perspective</span>  <span style=\"background-color: #fff8f8; padding: 1px;\" title=\"relevance 0.10007746517658234\">with</span>  <span style=\"background-color: #ceceff; padding: 1px;\" title=\"relevance -0.7953094840049744\">his</span>  <span style=\"background-color: #ff3838; padding: 1px;\" title=\"relevance 3.2603447437286377\">intelligent</span>  <span style=\"background-color: #ff7979; padding: 1px;\" title=\"relevance 2.1837716102600098\">grasp</span>  <span style=\"background-color: #fff8f8; padding: 1px;\" title=\"relevance 0.1277858018875122\">of</span>  <span style=\"background-color: #ff0000; padding: 1px;\" title=\"relevance 4.195302963256836\">human</span>  <span style=\"background-color: #fafaff; padding: 1px;\" title=\"relevance -0.0916353166103363\">foibles</span>  <span style=\"background-color: #ffeeee; padding: 1px;\" title=\"relevance 0.28549903631210327\">and</span>  <span style=\"background-color: #f8f8ff; padding: 1px;\" title=\"relevance -0.12123334407806396\">contradictions</span>  <span style=\"background-color: #fefeff; padding: 1px;\" title=\"relevance -0.00998661294579506\">.</span>  "
      ],
      "text/plain": [
       "<IPython.core.display.HTML object>"
      ]
     },
     "metadata": {},
     "output_type": "display_data"
    },
    {
     "data": {
      "text/html": [
       "<b>Heatmap(guided_backprop):</b> <span style=\"background-color: #ffc0c0; padding: 1px;\" title=\"relevance 1.5880136489868164\">without</span>  <span style=\"background-color: #ececff; padding: 1px;\" title=\"relevance -0.50384920835495\">heavy-handedness</span>  <span style=\"background-color: #fffefe; padding: 1px;\" title=\"relevance 0.0\">,</span>  <span style=\"background-color: #ffeeee; padding: 1px;\" title=\"relevance 0.4309482276439667\">dong</span>  <span style=\"background-color: #ff8c8c; padding: 1px;\" title=\"relevance 2.9528722763061523\">provides</span>  <span style=\"background-color: #ffd0d0; padding: 1px;\" title=\"relevance 1.209936261177063\">perspective</span>  <span style=\"background-color: #fff8f8; padding: 1px;\" title=\"relevance 0.15555202960968018\">with</span>  <span style=\"background-color: #ceceff; padding: 1px;\" title=\"relevance -1.236162543296814\">his</span>  <span style=\"background-color: #ff3838; padding: 1px;\" title=\"relevance 5.067608833312988\">intelligent</span>  <span style=\"background-color: #ff7979; padding: 1px;\" title=\"relevance 3.3942713737487793\">grasp</span>  <span style=\"background-color: #fff8f8; padding: 1px;\" title=\"relevance 0.19861957430839539\">of</span>  <span style=\"background-color: #ff0000; padding: 1px;\" title=\"relevance 6.520828723907471\">human</span>  <span style=\"background-color: #fafaff; padding: 1px;\" title=\"relevance -0.14243054389953613\">foibles</span>  <span style=\"background-color: #ffeeee; padding: 1px;\" title=\"relevance 0.4437561631202698\">and</span>  <span style=\"background-color: #f8f8ff; padding: 1px;\" title=\"relevance -0.18843483924865723\">contradictions</span>  <span style=\"background-color: #fefeff; padding: 1px;\" title=\"relevance -0.015522412955760956\">.</span>  "
      ],
      "text/plain": [
       "<IPython.core.display.HTML object>"
      ]
     },
     "metadata": {},
     "output_type": "display_data"
    },
    {
     "data": {
      "text/html": [
       "<b>Heatmap(lrp.z):</b> <span style=\"background-color: #1414ff; padding: 1px;\" title=\"relevance -1.4618176221847534\">without</span>  <span style=\"background-color: #f8f8ff; padding: 1px;\" title=\"relevance -0.03759019821882248\">heavy-handedness</span>  <span style=\"background-color: #fffefe; padding: 1px;\" title=\"relevance 0.0\">,</span>  <span style=\"background-color: #eaeaff; padding: 1px;\" title=\"relevance -0.12573188543319702\">dong</span>  <span style=\"background-color: #ff8e8e; padding: 1px;\" title=\"relevance 0.7010257840156555\">provides</span>  <span style=\"background-color: #ffd8d8; padding: 1px;\" title=\"relevance 0.24007484316825867\">perspective</span>  <span style=\"background-color: #fff6f6; padding: 1px;\" title=\"relevance 0.05596952140331268\">with</span>  <span style=\"background-color: #fff4f4; padding: 1px;\" title=\"relevance 0.07335719466209412\">his</span>  <span style=\"background-color: #ff0000; padding: 1px;\" title=\"relevance 1.5924534797668457\">intelligent</span>  <span style=\"background-color: #9696ff; padding: 1px;\" title=\"relevance -0.6582217216491699\">grasp</span>  <span style=\"background-color: #ffcccc; padding: 1px;\" title=\"relevance 0.31152528524398804\">of</span>  <span style=\"background-color: #ff6060; padding: 1px;\" title=\"relevance 0.9901087284088135\">human</span>  <span style=\"background-color: #ffdada; padding: 1px;\" title=\"relevance 0.23028609156608582\">foibles</span>  <span style=\"background-color: #c8c8ff; padding: 1px;\" title=\"relevance -0.3379412889480591\">and</span>  <span style=\"background-color: #fcfcff; padding: 1px;\" title=\"relevance -0.013435864821076393\">contradictions</span>  <span style=\"background-color: #d2d2ff; padding: 1px;\" title=\"relevance -0.27685078978538513\">.</span>  "
      ],
      "text/plain": [
       "<IPython.core.display.HTML object>"
      ]
     },
     "metadata": {},
     "output_type": "display_data"
    },
    {
     "data": {
      "text/html": [
       "<b>Heatmap(lrp.alpha_2_beta_1):</b> <span style=\"background-color: #9696ff; padding: 1px;\" title=\"relevance -0.3289034068584442\">without</span>  <span style=\"background-color: #f3f3ff; padding: 1px;\" title=\"relevance -0.034886255860328674\">heavy-handedness</span>  <span style=\"background-color: #fffefe; padding: 1px;\" title=\"relevance 0.0\">,</span>  <span style=\"background-color: #f8f8ff; padding: 1px;\" title=\"relevance -0.020621247589588165\">dong</span>  <span style=\"background-color: #ff9a9a; padding: 1px;\" title=\"relevance 0.3201481103897095\">provides</span>  <span style=\"background-color: #ffe6e6; padding: 1px;\" title=\"relevance 0.0791020616889\">perspective</span>  <span style=\"background-color: #fffafa; padding: 1px;\" title=\"relevance 0.013052214868366718\">with</span>  <span style=\"background-color: #ffdede; padding: 1px;\" title=\"relevance 0.10388732701539993\">his</span>  <span style=\"background-color: #ff0000; padding: 1px;\" title=\"relevance 0.807924211025238\">intelligent</span>  <span style=\"background-color: #ccccff; padding: 1px;\" title=\"relevance -0.16052000224590302\">grasp</span>  <span style=\"background-color: #ffc2c2; padding: 1px;\" title=\"relevance 0.19010795652866364\">of</span>  <span style=\"background-color: #ff6464; padding: 1px;\" title=\"relevance 0.4866955876350403\">human</span>  <span style=\"background-color: #ffe2e2; padding: 1px;\" title=\"relevance 0.09020630270242691\">foibles</span>  <span style=\"background-color: #e3e3ff; padding: 1px;\" title=\"relevance -0.08447901159524918\">and</span>  <span style=\"background-color: #fefeff; padding: 1px;\" title=\"relevance -0.0020152698270976543\">contradictions</span>  <span style=\"background-color: #eaeaff; padding: 1px;\" title=\"relevance -0.06419578194618225\">.</span>  "
      ],
      "text/plain": [
       "<IPython.core.display.HTML object>"
      ]
     },
     "metadata": {},
     "output_type": "display_data"
    },
    {
     "data": {
      "text/html": [
       "<b>Heatmap(pattern.net):</b> <span style=\"background-color: #fff2f2; padding: 1px;\" title=\"relevance 0.13690339028835297\">without</span>  <span style=\"background-color: #c3c3ff; padding: 1px;\" title=\"relevance -0.6428228616714478\">heavy-handedness</span>  <span style=\"background-color: #fffefe; padding: 1px;\" title=\"relevance 0.0\">,</span>  <span style=\"background-color: #f0f0ff; padding: 1px;\" title=\"relevance -0.17310106754302979\">dong</span>  <span style=\"background-color: #9090ff; padding: 1px;\" title=\"relevance -1.2005614042282104\">provides</span>  <span style=\"background-color: #6868ff; padding: 1px;\" title=\"relevance -1.6475939750671387\">perspective</span>  <span style=\"background-color: #f0f0ff; padding: 1px;\" title=\"relevance -0.1668996661901474\">with</span>  <span style=\"background-color: #6868ff; padding: 1px;\" title=\"relevance -1.649564266204834\">his</span>  <span style=\"background-color: #2a2aff; padding: 1px;\" title=\"relevance -2.3097708225250244\">intelligent</span>  <span style=\"background-color: #0000ff; padding: 1px;\" title=\"relevance -2.778993606567383\">grasp</span>  <span style=\"background-color: #0202ff; padding: 1px;\" title=\"relevance -2.741584300994873\">of</span>  <span style=\"background-color: #9696ff; padding: 1px;\" title=\"relevance -1.1345555782318115\">human</span>  <span style=\"background-color: #babaff; padding: 1px;\" title=\"relevance -0.7414828538894653\">foibles</span>  <span style=\"background-color: #a8a8ff; padding: 1px;\" title=\"relevance -0.9373505115509033\">and</span>  <span style=\"background-color: #fefeff; padding: 1px;\" title=\"relevance -0.01808551512658596\">contradictions</span>  <span style=\"background-color: #dedeff; padding: 1px;\" title=\"relevance -0.367216020822525\">.</span>  "
      ],
      "text/plain": [
       "<IPython.core.display.HTML object>"
      ]
     },
     "metadata": {},
     "output_type": "display_data"
    },
    {
     "data": {
      "text/html": [
       "<b>Heatmap(pattern.attribution):</b> <span style=\"background-color: #c8c8ff; padding: 1px;\" title=\"relevance -3.0629920959472656\">without</span>  <span style=\"background-color: #e2e2ff; padding: 1px;\" title=\"relevance -1.588881254196167\">heavy-handedness</span>  <span style=\"background-color: #fffefe; padding: 1px;\" title=\"relevance 0.0\">,</span>  <span style=\"background-color: #fffafa; padding: 1px;\" title=\"relevance 0.2647196352481842\">dong</span>  <span style=\"background-color: #ff7171; padding: 1px;\" title=\"relevance 7.723701000213623\">provides</span>  <span style=\"background-color: #ffaeae; padding: 1px;\" title=\"relevance 4.459850788116455\">perspective</span>  <span style=\"background-color: #ffeeee; padding: 1px;\" title=\"relevance 0.9115011692047119\">with</span>  <span style=\"background-color: #ffd8d8; padding: 1px;\" title=\"relevance 2.156886577606201\">his</span>  <span style=\"background-color: #ff0000; padding: 1px;\" title=\"relevance 14.086490631103516\">intelligent</span>  <span style=\"background-color: #ff0c0c; padding: 1px;\" title=\"relevance 13.407404899597168\">grasp</span>  <span style=\"background-color: #ff4444; padding: 1px;\" title=\"relevance 10.340633392333984\">of</span>  <span style=\"background-color: #ffbaba; padding: 1px;\" title=\"relevance 3.8164944648742676\">human</span>  <span style=\"background-color: #ffc0c0; padding: 1px;\" title=\"relevance 3.50272798538208\">foibles</span>  <span style=\"background-color: #d2d2ff; padding: 1px;\" title=\"relevance -2.5084948539733887\">and</span>  <span style=\"background-color: #fcfcff; padding: 1px;\" title=\"relevance -0.13954028487205505\">contradictions</span>  <span style=\"background-color: #fefeff; padding: 1px;\" title=\"relevance -0.07478376477956772\">.</span>  "
      ],
      "text/plain": [
       "<IPython.core.display.HTML object>"
      ]
     },
     "metadata": {},
     "output_type": "display_data"
    },
    {
     "name": "stdout",
     "output_type": "stream",
     "text": [
      "------------\n",
      "Review 908\n",
      "Sentence : a frantic search for laughs , with a hit-to-miss ratio that does n't exactly favour the audience .\n",
      "Pred class : negative ✓\n"
     ]
    },
    {
     "data": {
      "text/html": [
       "<b>Heatmap(gradient):</b> <span style=\"background-color: #fff0f0; padding: 1px;\" title=\"relevance 0.15609344840049744\">a</span>  <span style=\"background-color: #ccccff; padding: 1px;\" title=\"relevance -0.5515342354774475\">frantic</span>  <span style=\"background-color: #6161ff; padding: 1px;\" title=\"relevance -1.6743340492248535\">search</span>  <span style=\"background-color: #ffb2b2; padding: 1px;\" title=\"relevance 0.8250681161880493\">for</span>  <span style=\"background-color: #0000ff; padding: 1px;\" title=\"relevance -2.7449429035186768\">laughs</span>  <span style=\"background-color: #b3b3ff; padding: 1px;\" title=\"relevance -0.8027816414833069\">,</span>  <span style=\"background-color: #eeeeff; padding: 1px;\" title=\"relevance -0.1777717024087906\">with</span>  <span style=\"background-color: #dadaff; padding: 1px;\" title=\"relevance -0.3953474760055542\">a</span>  <span style=\"background-color: #fff0f0; padding: 1px;\" title=\"relevance 0.15203620493412018\">hit-to-miss</span>  <span style=\"background-color: #e3e3ff; padding: 1px;\" title=\"relevance -0.2998088598251343\">ratio</span>  <span style=\"background-color: #f6f6ff; padding: 1px;\" title=\"relevance -0.0937424749135971\">that</span>  <span style=\"background-color: #2222ff; padding: 1px;\" title=\"relevance -2.3673765659332275\">does</span>  <span style=\"background-color: #ffd3d3; padding: 1px;\" title=\"relevance 0.4685177505016327\">n't</span>  <span style=\"background-color: #ff9c9c; padding: 1px;\" title=\"relevance 1.0657141208648682\">exactly</span>  <span style=\"background-color: #a8a8ff; padding: 1px;\" title=\"relevance -0.9258629679679871\">favour</span>  <span style=\"background-color: #ffecec; padding: 1px;\" title=\"relevance 0.21114830672740936\">the</span>  <span style=\"background-color: #3030ff; padding: 1px;\" title=\"relevance -2.2203567028045654\">audience</span>  <span style=\"background-color: #8282ff; padding: 1px;\" title=\"relevance -1.3507304191589355\">.</span>  "
      ],
      "text/plain": [
       "<IPython.core.display.HTML object>"
      ]
     },
     "metadata": {},
     "output_type": "display_data"
    },
    {
     "data": {
      "text/html": [
       "<b>Heatmap(guided_backprop):</b> <span style=\"background-color: #fff0f0; padding: 1px;\" title=\"relevance 0.1256524920463562\">a</span>  <span style=\"background-color: #ccccff; padding: 1px;\" title=\"relevance -0.44397544860839844\">frantic</span>  <span style=\"background-color: #6161ff; padding: 1px;\" title=\"relevance -1.3478095531463623\">search</span>  <span style=\"background-color: #ffb2b2; padding: 1px;\" title=\"relevance 0.6641653180122375\">for</span>  <span style=\"background-color: #0000ff; padding: 1px;\" title=\"relevance -2.2096312046051025\">laughs</span>  <span style=\"background-color: #b3b3ff; padding: 1px;\" title=\"relevance -0.6462255120277405\">,</span>  <span style=\"background-color: #eeeeff; padding: 1px;\" title=\"relevance -0.14310315251350403\">with</span>  <span style=\"background-color: #dadaff; padding: 1px;\" title=\"relevance -0.31824785470962524\">a</span>  <span style=\"background-color: #fff0f0; padding: 1px;\" title=\"relevance 0.12238642573356628\">hit-to-miss</span>  <span style=\"background-color: #e3e3ff; padding: 1px;\" title=\"relevance -0.2413407862186432\">ratio</span>  <span style=\"background-color: #f6f6ff; padding: 1px;\" title=\"relevance -0.07546092569828033\">that</span>  <span style=\"background-color: #2222ff; padding: 1px;\" title=\"relevance -1.9056971073150635\">does</span>  <span style=\"background-color: #ffd3d3; padding: 1px;\" title=\"relevance 0.377148300409317\">n't</span>  <span style=\"background-color: #ff9c9c; padding: 1px;\" title=\"relevance 0.8578813076019287\">exactly</span>  <span style=\"background-color: #a8a8ff; padding: 1px;\" title=\"relevance -0.7453033924102783\">favour</span>  <span style=\"background-color: #ffecec; padding: 1px;\" title=\"relevance 0.16997084021568298\">the</span>  <span style=\"background-color: #3030ff; padding: 1px;\" title=\"relevance -1.7873482704162598\">audience</span>  <span style=\"background-color: #8282ff; padding: 1px;\" title=\"relevance -1.087314486503601\">.</span>  "
      ],
      "text/plain": [
       "<IPython.core.display.HTML object>"
      ]
     },
     "metadata": {},
     "output_type": "display_data"
    },
    {
     "data": {
      "text/html": [
       "<b>Heatmap(lrp.z):</b> <span style=\"background-color: #f2f2ff; padding: 1px;\" title=\"relevance -0.10789883881807327\">a</span>  <span style=\"background-color: #fefeff; padding: 1px;\" title=\"relevance -0.012187497690320015\">frantic</span>  <span style=\"background-color: #ffa2a2; padding: 1px;\" title=\"relevance 0.7287372350692749\">search</span>  <span style=\"background-color: #ffc3c3; padding: 1px;\" title=\"relevance 0.4544418454170227\">for</span>  <span style=\"background-color: #cacaff; padding: 1px;\" title=\"relevance -0.4142744541168213\">laughs</span>  <span style=\"background-color: #d2d2ff; padding: 1px;\" title=\"relevance -0.35525476932525635\">,</span>  <span style=\"background-color: #fffefe; padding: 1px;\" title=\"relevance 0.003347271354869008\">with</span>  <span style=\"background-color: #ffe2e2; padding: 1px;\" title=\"relevance 0.231790229678154\">a</span>  <span style=\"background-color: #fafaff; padding: 1px;\" title=\"relevance -0.03211735188961029\">hit-to-miss</span>  <span style=\"background-color: #babaff; padding: 1px;\" title=\"relevance -0.534615695476532\">ratio</span>  <span style=\"background-color: #f2f2ff; padding: 1px;\" title=\"relevance -0.09860020130872726\">that</span>  <span style=\"background-color: #ffeeee; padding: 1px;\" title=\"relevance 0.13511258363723755\">does</span>  <span style=\"background-color: #ff0000; padding: 1px;\" title=\"relevance 1.9911561012268066\">n't</span>  <span style=\"background-color: #ffe0e0; padding: 1px;\" title=\"relevance 0.2374565452337265\">exactly</span>  <span style=\"background-color: #d2d2ff; padding: 1px;\" title=\"relevance -0.3450337052345276\">favour</span>  <span style=\"background-color: #bebeff; padding: 1px;\" title=\"relevance -0.5132808089256287\">the</span>  <span style=\"background-color: #e2e2ff; padding: 1px;\" title=\"relevance -0.22310702502727509\">audience</span>  <span style=\"background-color: #f2f2ff; padding: 1px;\" title=\"relevance -0.10068774968385696\">.</span>  "
      ],
      "text/plain": [
       "<IPython.core.display.HTML object>"
      ]
     },
     "metadata": {},
     "output_type": "display_data"
    },
    {
     "data": {
      "text/html": [
       "<b>Heatmap(lrp.alpha_2_beta_1):</b> <span style=\"background-color: #f8f8ff; padding: 1px;\" title=\"relevance -0.012832318432629108\">a</span>  <span style=\"background-color: #fff8f8; padding: 1px;\" title=\"relevance 0.011103875935077667\">frantic</span>  <span style=\"background-color: #ffb8b8; padding: 1px;\" title=\"relevance 0.12886647880077362\">search</span>  <span style=\"background-color: #fcfcff; padding: 1px;\" title=\"relevance -0.0053011528216302395\">for</span>  <span style=\"background-color: #ff9292; padding: 1px;\" title=\"relevance 0.2013711780309677\">laughs</span>  <span style=\"background-color: #f0f0ff; padding: 1px;\" title=\"relevance -0.026004640385508537\">,</span>  <span style=\"background-color: #fefeff; padding: 1px;\" title=\"relevance -0.00021476933034136891\">with</span>  <span style=\"background-color: #ffe6e6; padding: 1px;\" title=\"relevance 0.047615889459848404\">a</span>  <span style=\"background-color: #fcfcff; padding: 1px;\" title=\"relevance -0.0037984640803188086\">hit-to-miss</span>  <span style=\"background-color: #dedeff; padding: 1px;\" title=\"relevance -0.05882013961672783\">ratio</span>  <span style=\"background-color: #fffafa; padding: 1px;\" title=\"relevance 0.010028645396232605\">that</span>  <span style=\"background-color: #ffacac; padding: 1px;\" title=\"relevance 0.15059182047843933\">does</span>  <span style=\"background-color: #ff0000; padding: 1px;\" title=\"relevance 0.4697656035423279\">n't</span>  <span style=\"background-color: #ffcece; padding: 1px;\" title=\"relevance 0.09060844033956528\">exactly</span>  <span style=\"background-color: #eaeaff; padding: 1px;\" title=\"relevance -0.03785158321261406\">favour</span>  <span style=\"background-color: #e0e0ff; padding: 1px;\" title=\"relevance -0.05572625994682312\">the</span>  <span style=\"background-color: #f2f2ff; padding: 1px;\" title=\"relevance -0.023852260783314705\">audience</span>  <span style=\"background-color: #fefeff; padding: 1px;\" title=\"relevance -0.0033861352130770683\">.</span>  "
      ],
      "text/plain": [
       "<IPython.core.display.HTML object>"
      ]
     },
     "metadata": {},
     "output_type": "display_data"
    },
    {
     "data": {
      "text/html": [
       "<b>Heatmap(pattern.net):</b> <span style=\"background-color: #f3f3ff; padding: 1px;\" title=\"relevance -0.13570258021354675\">a</span>  <span style=\"background-color: #f3f3ff; padding: 1px;\" title=\"relevance -0.14314624667167664\">frantic</span>  <span style=\"background-color: #fff6f6; padding: 1px;\" title=\"relevance 0.11908948421478271\">search</span>  <span style=\"background-color: #bcbcff; padding: 1px;\" title=\"relevance -0.8200265765190125\">for</span>  <span style=\"background-color: #ceceff; padding: 1px;\" title=\"relevance -0.6079074740409851\">laughs</span>  <span style=\"background-color: #b6b6ff; padding: 1px;\" title=\"relevance -0.8922668099403381\">,</span>  <span style=\"background-color: #f6f6ff; padding: 1px;\" title=\"relevance -0.11921794712543488\">with</span>  <span style=\"background-color: #f8f8ff; padding: 1px;\" title=\"relevance -0.08627577871084213\">a</span>  <span style=\"background-color: #fafaff; padding: 1px;\" title=\"relevance -0.05456939712166786\">hit-to-miss</span>  <span style=\"background-color: #eaeaff; padding: 1px;\" title=\"relevance -0.2651534378528595\">ratio</span>  <span style=\"background-color: #d6d6ff; padding: 1px;\" title=\"relevance -0.5116824507713318\">that</span>  <span style=\"background-color: #a2a2ff; padding: 1px;\" title=\"relevance -1.1435770988464355\">does</span>  <span style=\"background-color: #ffbaba; padding: 1px;\" title=\"relevance 0.8482512831687927\">n't</span>  <span style=\"background-color: #0000ff; padding: 1px;\" title=\"relevance -3.1234467029571533\">exactly</span>  <span style=\"background-color: #f6f6ff; padding: 1px;\" title=\"relevance -0.10831936448812485\">favour</span>  <span style=\"background-color: #d0d0ff; padding: 1px;\" title=\"relevance -0.5680748820304871\">the</span>  <span style=\"background-color: #f2f2ff; padding: 1px;\" title=\"relevance -0.15551316738128662\">audience</span>  <span style=\"background-color: #f0f0ff; padding: 1px;\" title=\"relevance -0.17148178815841675\">.</span>  "
      ],
      "text/plain": [
       "<IPython.core.display.HTML object>"
      ]
     },
     "metadata": {},
     "output_type": "display_data"
    },
    {
     "data": {
      "text/html": [
       "<b>Heatmap(pattern.attribution):</b> <span style=\"background-color: #f3f3ff; padding: 1px;\" title=\"relevance -0.4059520661830902\">a</span>  <span style=\"background-color: #ffe6e6; padding: 1px;\" title=\"relevance 0.9478011727333069\">frantic</span>  <span style=\"background-color: #ffc3c3; padding: 1px;\" title=\"relevance 2.168431282043457\">search</span>  <span style=\"background-color: #ffaaaa; padding: 1px;\" title=\"relevance 3.138424873352051\">for</span>  <span style=\"background-color: #fafaff; padding: 1px;\" title=\"relevance -0.14819878339767456\">laughs</span>  <span style=\"background-color: #dcdcff; padding: 1px;\" title=\"relevance -1.262461543083191\">,</span>  <span style=\"background-color: #fffcfc; padding: 1px;\" title=\"relevance 0.0767325907945633\">with</span>  <span style=\"background-color: #ffeaea; padding: 1px;\" title=\"relevance 0.7876571416854858\">a</span>  <span style=\"background-color: #f3f3ff; padding: 1px;\" title=\"relevance -0.3768123984336853\">hit-to-miss</span>  <span style=\"background-color: #d6d6ff; padding: 1px;\" title=\"relevance -1.4792232513427734\">ratio</span>  <span style=\"background-color: #fffcfc; padding: 1px;\" title=\"relevance 0.08756117522716522\">that</span>  <span style=\"background-color: #ffe6e6; padding: 1px;\" title=\"relevance 0.9000639915466309\">does</span>  <span style=\"background-color: #ff0000; padding: 1px;\" title=\"relevance 9.461045265197754\">n't</span>  <span style=\"background-color: #ff3131; padding: 1px;\" title=\"relevance 7.568914413452148\">exactly</span>  <span style=\"background-color: #ececff; padding: 1px;\" title=\"relevance -0.6724518537521362\">favour</span>  <span style=\"background-color: #c8c8ff; padding: 1px;\" title=\"relevance -2.063267707824707\">the</span>  <span style=\"background-color: #eeeeff; padding: 1px;\" title=\"relevance -0.6511543989181519\">audience</span>  <span style=\"background-color: #fefeff; padding: 1px;\" title=\"relevance -0.0037299757823348045\">.</span>  "
      ],
      "text/plain": [
       "<IPython.core.display.HTML object>"
      ]
     },
     "metadata": {},
     "output_type": "display_data"
    },
    {
     "name": "stdout",
     "output_type": "stream",
     "text": [
      "------------\n",
      "Review 1523\n",
      "Sentence : what you would end up with if you took orwell , bradbury , kafka , george lucas and the wachowski brothers and threw them into a blender .\n",
      "Pred class : positive ✓\n"
     ]
    },
    {
     "data": {
      "text/html": [
       "<b>Heatmap(gradient):</b> <span style=\"background-color: #fffefe; padding: 1px;\" title=\"relevance 0.0\">what</span>  <span style=\"background-color: #ffacac; padding: 1px;\" title=\"relevance 0.80324786901474\">you</span>  <span style=\"background-color: #ffb2b2; padding: 1px;\" title=\"relevance 0.7563892602920532\">would</span>  <span style=\"background-color: #fffafa; padding: 1px;\" title=\"relevance 0.04363441467285156\">end</span>  <span style=\"background-color: #ff2020; padding: 1px;\" title=\"relevance 2.156247615814209\">up</span>  <span style=\"background-color: #ff6c6c; padding: 1px;\" title=\"relevance 1.4305180311203003\">with</span>  <span style=\"background-color: #ffbcbc; padding: 1px;\" title=\"relevance 0.6501767635345459\">if</span>  <span style=\"background-color: #ffe0e0; padding: 1px;\" title=\"relevance 0.2932744026184082\">you</span>  <span style=\"background-color: #ffcaca; padding: 1px;\" title=\"relevance 0.5082502961158752\">took</span>  <span style=\"background-color: #6464ff; padding: 1px;\" title=\"relevance -1.5077943801879883\">orwell</span>  <span style=\"background-color: #a8a8ff; padding: 1px;\" title=\"relevance -0.8468371629714966\">,</span>  <span style=\"background-color: #ffb8b8; padding: 1px;\" title=\"relevance 0.6972602009773254\">bradbury</span>  <span style=\"background-color: #d0d0ff; padding: 1px;\" title=\"relevance -0.4525076746940613\">,</span>  <span style=\"background-color: #ff8a8a; padding: 1px;\" title=\"relevance 1.1321063041687012\">kafka</span>  <span style=\"background-color: #dadaff; padding: 1px;\" title=\"relevance -0.3625311255455017\">,</span>  <span style=\"background-color: #ffc0c0; padding: 1px;\" title=\"relevance 0.605590283870697\">george</span>  <span style=\"background-color: #ffcaca; padding: 1px;\" title=\"relevance 0.5139707922935486\">lucas</span>  <span style=\"background-color: #fffefe; padding: 1px;\" title=\"relevance 0.0\">and</span>  <span style=\"background-color: #e0e0ff; padding: 1px;\" title=\"relevance -0.306985467672348\">the</span>  <span style=\"background-color: #ffcccc; padding: 1px;\" title=\"relevance 0.49503183364868164\">wachowski</span>  <span style=\"background-color: #ffd6d6; padding: 1px;\" title=\"relevance 0.3963639736175537\">brothers</span>  <span style=\"background-color: #ff7171; padding: 1px;\" title=\"relevance 1.3739991188049316\">and</span>  <span style=\"background-color: #ffecec; padding: 1px;\" title=\"relevance 0.18310128152370453\">threw</span>  <span style=\"background-color: #ffeeee; padding: 1px;\" title=\"relevance 0.16453440487384796\">them</span>  <span style=\"background-color: #ffcece; padding: 1px;\" title=\"relevance 0.46649402379989624\">into</span>  <span style=\"background-color: #fff4f4; padding: 1px;\" title=\"relevance 0.09795325994491577\">a</span>  <span style=\"background-color: #ff0000; padding: 1px;\" title=\"relevance 2.4833831787109375\">blender</span>  <span style=\"background-color: #ffaeae; padding: 1px;\" title=\"relevance 0.7805280685424805\">.</span>  "
      ],
      "text/plain": [
       "<IPython.core.display.HTML object>"
      ]
     },
     "metadata": {},
     "output_type": "display_data"
    },
    {
     "data": {
      "text/html": [
       "<b>Heatmap(guided_backprop):</b> <span style=\"background-color: #fffefe; padding: 1px;\" title=\"relevance 0.0\">what</span>  <span style=\"background-color: #ffacac; padding: 1px;\" title=\"relevance 0.4745011627674103\">you</span>  <span style=\"background-color: #ffb2b2; padding: 1px;\" title=\"relevance 0.4468202590942383\">would</span>  <span style=\"background-color: #fffafa; padding: 1px;\" title=\"relevance 0.02577616274356842\">end</span>  <span style=\"background-color: #ff2020; padding: 1px;\" title=\"relevance 1.2737566232681274\">up</span>  <span style=\"background-color: #ff6c6c; padding: 1px;\" title=\"relevance 0.8450475931167603\">with</span>  <span style=\"background-color: #ffbcbc; padding: 1px;\" title=\"relevance 0.38407790660858154\">if</span>  <span style=\"background-color: #ffe0e0; padding: 1px;\" title=\"relevance 0.17324551939964294\">you</span>  <span style=\"background-color: #ffcaca; padding: 1px;\" title=\"relevance 0.3002379536628723\">took</span>  <span style=\"background-color: #6464ff; padding: 1px;\" title=\"relevance -0.8906971216201782\">orwell</span>  <span style=\"background-color: #a8a8ff; padding: 1px;\" title=\"relevance -0.5002508163452148\">,</span>  <span style=\"background-color: #ffb8b8; padding: 1px;\" title=\"relevance 0.41189131140708923\">bradbury</span>  <span style=\"background-color: #d0d0ff; padding: 1px;\" title=\"relevance -0.2673090994358063\">,</span>  <span style=\"background-color: #ff8a8a; padding: 1px;\" title=\"relevance 0.6687673926353455\">kafka</span>  <span style=\"background-color: #dadaff; padding: 1px;\" title=\"relevance -0.21415749192237854\">,</span>  <span style=\"background-color: #ffc0c0; padding: 1px;\" title=\"relevance 0.3577393889427185\">george</span>  <span style=\"background-color: #ffcaca; padding: 1px;\" title=\"relevance 0.3036171495914459\">lucas</span>  <span style=\"background-color: #fffefe; padding: 1px;\" title=\"relevance 0.0\">and</span>  <span style=\"background-color: #e0e0ff; padding: 1px;\" title=\"relevance -0.18134504556655884\">the</span>  <span style=\"background-color: #ffcccc; padding: 1px;\" title=\"relevance 0.2924292981624603\">wachowski</span>  <span style=\"background-color: #ffd6d6; padding: 1px;\" title=\"relevance 0.23414331674575806\">brothers</span>  <span style=\"background-color: #ff7171; padding: 1px;\" title=\"relevance 0.81166011095047\">and</span>  <span style=\"background-color: #ffecec; padding: 1px;\" title=\"relevance 0.10816311091184616\">threw</span>  <span style=\"background-color: #ffeeee; padding: 1px;\" title=\"relevance 0.09719499945640564\">them</span>  <span style=\"background-color: #ffcece; padding: 1px;\" title=\"relevance 0.2755712866783142\">into</span>  <span style=\"background-color: #fff4f4; padding: 1px;\" title=\"relevance 0.057863831520080566\">a</span>  <span style=\"background-color: #ff0000; padding: 1px;\" title=\"relevance 1.4670047760009766\">blender</span>  <span style=\"background-color: #ffaeae; padding: 1px;\" title=\"relevance 0.46108004450798035\">.</span>  "
      ],
      "text/plain": [
       "<IPython.core.display.HTML object>"
      ]
     },
     "metadata": {},
     "output_type": "display_data"
    },
    {
     "data": {
      "text/html": [
       "<b>Heatmap(lrp.z):</b> <span style=\"background-color: #fffefe; padding: 1px;\" title=\"relevance 0.0\">what</span>  <span style=\"background-color: #ffcece; padding: 1px;\" title=\"relevance 0.21674542129039764\">you</span>  <span style=\"background-color: #b2b2ff; padding: 1px;\" title=\"relevance -0.33936187624931335\">would</span>  <span style=\"background-color: #e3e3ff; padding: 1px;\" title=\"relevance -0.1197710782289505\">end</span>  <span style=\"background-color: #ffc6c6; padding: 1px;\" title=\"relevance 0.2507634460926056\">up</span>  <span style=\"background-color: #9898ff; padding: 1px;\" title=\"relevance -0.4491964280605316\">with</span>  <span style=\"background-color: #ff4040; padding: 1px;\" title=\"relevance 0.8349705338478088\">if</span>  <span style=\"background-color: #9c9cff; padding: 1px;\" title=\"relevance -0.4365343451499939\">you</span>  <span style=\"background-color: #eeeeff; padding: 1px;\" title=\"relevance -0.072637178003788\">took</span>  <span style=\"background-color: #0000ff; padding: 1px;\" title=\"relevance -1.1232616901397705\">orwell</span>  <span style=\"background-color: #8c8cff; padding: 1px;\" title=\"relevance -0.5072541236877441\">,</span>  <span style=\"background-color: #ececff; padding: 1px;\" title=\"relevance -0.07911866903305054\">bradbury</span>  <span style=\"background-color: #fff6f6; padding: 1px;\" title=\"relevance 0.0418800488114357\">,</span>  <span style=\"background-color: #ff8888; padding: 1px;\" title=\"relevance 0.524113655090332\">kafka</span>  <span style=\"background-color: #ff4444; padding: 1px;\" title=\"relevance 0.8200417160987854\">,</span>  <span style=\"background-color: #ffeeee; padding: 1px;\" title=\"relevance 0.07119540125131607\">george</span>  <span style=\"background-color: #fefeff; padding: 1px;\" title=\"relevance -0.006683649495244026\">lucas</span>  <span style=\"background-color: #fffefe; padding: 1px;\" title=\"relevance 0.0\">and</span>  <span style=\"background-color: #e6e6ff; padding: 1px;\" title=\"relevance -0.11155335605144501\">the</span>  <span style=\"background-color: #fcfcff; padding: 1px;\" title=\"relevance -0.012431834824383259\">wachowski</span>  <span style=\"background-color: #ff7878; padding: 1px;\" title=\"relevance 0.5914549827575684\">brothers</span>  <span style=\"background-color: #ffc0c0; padding: 1px;\" title=\"relevance 0.2747797966003418\">and</span>  <span style=\"background-color: #eeeeff; padding: 1px;\" title=\"relevance -0.07087478786706924\">threw</span>  <span style=\"background-color: #6e6eff; padding: 1px;\" title=\"relevance -0.6334509253501892\">them</span>  <span style=\"background-color: #f0f0ff; padding: 1px;\" title=\"relevance -0.06188409402966499\">into</span>  <span style=\"background-color: #ffa8a8; padding: 1px;\" title=\"relevance 0.3828763961791992\">a</span>  <span style=\"background-color: #ffcaca; padding: 1px;\" title=\"relevance 0.22969965636730194\">blender</span>  <span style=\"background-color: #ffe8e8; padding: 1px;\" title=\"relevance 0.1051163375377655\">.</span>  "
      ],
      "text/plain": [
       "<IPython.core.display.HTML object>"
      ]
     },
     "metadata": {},
     "output_type": "display_data"
    },
    {
     "data": {
      "text/html": [
       "<b>Heatmap(lrp.alpha_2_beta_1):</b> <span style=\"background-color: #fffefe; padding: 1px;\" title=\"relevance 0.0\">what</span>  <span style=\"background-color: #ffcece; padding: 1px;\" title=\"relevance 0.042955074459314346\">you</span>  <span style=\"background-color: #fffefe; padding: 1px;\" title=\"relevance 7.993774488568306e-05\">would</span>  <span style=\"background-color: #f6f6ff; padding: 1px;\" title=\"relevance -0.007939456030726433\">end</span>  <span style=\"background-color: #ffbcbc; padding: 1px;\" title=\"relevance 0.059068143367767334\">up</span>  <span style=\"background-color: #a8a8ff; padding: 1px;\" title=\"relevance -0.07747640460729599\">with</span>  <span style=\"background-color: #ff0000; padding: 1px;\" title=\"relevance 0.22857840359210968\">if</span>  <span style=\"background-color: #d2d2ff; padding: 1px;\" title=\"relevance -0.039707303047180176\">you</span>  <span style=\"background-color: #e8e8ff; padding: 1px;\" title=\"relevance -0.02037988230586052\">took</span>  <span style=\"background-color: #a2a2ff; padding: 1px;\" title=\"relevance -0.08370188623666763\">orwell</span>  <span style=\"background-color: #b2b2ff; padding: 1px;\" title=\"relevance -0.06847650557756424\">,</span>  <span style=\"background-color: #f8f8ff; padding: 1px;\" title=\"relevance -0.006006701849400997\">bradbury</span>  <span style=\"background-color: #fff0f0; padding: 1px;\" title=\"relevance 0.013850387185811996\">,</span>  <span style=\"background-color: #ff8a8a; padding: 1px;\" title=\"relevance 0.10458263009786606\">kafka</span>  <span style=\"background-color: #ff4949; padding: 1px;\" title=\"relevance 0.1611735075712204\">,</span>  <span style=\"background-color: #ffeaea; padding: 1px;\" title=\"relevance 0.01923459768295288\">george</span>  <span style=\"background-color: #fff8f8; padding: 1px;\" title=\"relevance 0.005510277114808559\">lucas</span>  <span style=\"background-color: #fffefe; padding: 1px;\" title=\"relevance 0.0\">and</span>  <span style=\"background-color: #f2f2ff; padding: 1px;\" title=\"relevance -0.011000888422131538\">the</span>  <span style=\"background-color: #fefeff; padding: 1px;\" title=\"relevance -0.00013859214959666133\">wachowski</span>  <span style=\"background-color: #ff9393; padding: 1px;\" title=\"relevance 0.09605444222688675\">brothers</span>  <span style=\"background-color: #ffb8b8; padding: 1px;\" title=\"relevance 0.06289017200469971\">and</span>  <span style=\"background-color: #eeeeff; padding: 1px;\" title=\"relevance -0.015084989368915558\">threw</span>  <span style=\"background-color: #c6c6ff; padding: 1px;\" title=\"relevance -0.050963956862688065\">them</span>  <span style=\"background-color: #f2f2ff; padding: 1px;\" title=\"relevance -0.010734249837696552\">into</span>  <span style=\"background-color: #ffa8a8; padding: 1px;\" title=\"relevance 0.07695987075567245\">a</span>  <span style=\"background-color: #ffdcdc; padding: 1px;\" title=\"relevance 0.03177647292613983\">blender</span>  <span style=\"background-color: #ffe6e6; padding: 1px;\" title=\"relevance 0.021608030423521996\">.</span>  "
      ],
      "text/plain": [
       "<IPython.core.display.HTML object>"
      ]
     },
     "metadata": {},
     "output_type": "display_data"
    },
    {
     "data": {
      "text/html": [
       "<b>Heatmap(pattern.net):</b> <span style=\"background-color: #fffefe; padding: 1px;\" title=\"relevance 0.0\">what</span>  <span style=\"background-color: #d2d2ff; padding: 1px;\" title=\"relevance -0.6808651089668274\">you</span>  <span style=\"background-color: #e6e6ff; padding: 1px;\" title=\"relevance -0.3790706396102905\">would</span>  <span style=\"background-color: #eeeeff; padding: 1px;\" title=\"relevance -0.2553976774215698\">end</span>  <span style=\"background-color: #dadaff; padding: 1px;\" title=\"relevance -0.5551739931106567\">up</span>  <span style=\"background-color: #a2a2ff; padding: 1px;\" title=\"relevance -1.4304853677749634\">with</span>  <span style=\"background-color: #f6f6ff; padding: 1px;\" title=\"relevance -0.1271192729473114\">if</span>  <span style=\"background-color: #cacaff; padding: 1px;\" title=\"relevance -0.8019554018974304\">you</span>  <span style=\"background-color: #e0e0ff; padding: 1px;\" title=\"relevance -0.46041619777679443\">took</span>  <span style=\"background-color: #ffeaea; padding: 1px;\" title=\"relevance 0.3155149221420288\">orwell</span>  <span style=\"background-color: #ceceff; padding: 1px;\" title=\"relevance -0.7591726779937744\">,</span>  <span style=\"background-color: #fffefe; padding: 1px;\" title=\"relevance 0.026693416759371758\">bradbury</span>  <span style=\"background-color: #6161ff; padding: 1px;\" title=\"relevance -2.400524616241455\">,</span>  <span style=\"background-color: #6868ff; padding: 1px;\" title=\"relevance -2.3261232376098633\">kafka</span>  <span style=\"background-color: #0000ff; padding: 1px;\" title=\"relevance -3.926694393157959\">,</span>  <span style=\"background-color: #e3e3ff; padding: 1px;\" title=\"relevance -0.40267252922058105\">george</span>  <span style=\"background-color: #f2f2ff; padding: 1px;\" title=\"relevance -0.20835772156715393\">lucas</span>  <span style=\"background-color: #fffefe; padding: 1px;\" title=\"relevance 0.0\">and</span>  <span style=\"background-color: #f6f6ff; padding: 1px;\" title=\"relevance -0.1473616361618042\">the</span>  <span style=\"background-color: #f8f8ff; padding: 1px;\" title=\"relevance -0.11436160653829575\">wachowski</span>  <span style=\"background-color: #bebeff; padding: 1px;\" title=\"relevance -0.9832362532615662\">brothers</span>  <span style=\"background-color: #a0a0ff; padding: 1px;\" title=\"relevance -1.4466792345046997\">and</span>  <span style=\"background-color: #f2f2ff; padding: 1px;\" title=\"relevance -0.2088198959827423\">threw</span>  <span style=\"background-color: #d8d8ff; padding: 1px;\" title=\"relevance -0.6126248240470886\">them</span>  <span style=\"background-color: #d8d8ff; padding: 1px;\" title=\"relevance -0.5887314677238464\">into</span>  <span style=\"background-color: #9e9eff; padding: 1px;\" title=\"relevance -1.479295253753662\">a</span>  <span style=\"background-color: #dcdcff; padding: 1px;\" title=\"relevance -0.5279275178909302\">blender</span>  <span style=\"background-color: #ccccff; padding: 1px;\" title=\"relevance -0.7825570106506348\">.</span>  "
      ],
      "text/plain": [
       "<IPython.core.display.HTML object>"
      ]
     },
     "metadata": {},
     "output_type": "display_data"
    },
    {
     "data": {
      "text/html": [
       "<b>Heatmap(pattern.attribution):</b> <span style=\"background-color: #fffefe; padding: 1px;\" title=\"relevance 0.0\">what</span>  <span style=\"background-color: #ffcece; padding: 1px;\" title=\"relevance 2.43356990814209\">you</span>  <span style=\"background-color: #ffdcdc; padding: 1px;\" title=\"relevance 1.7908246517181396\">would</span>  <span style=\"background-color: #ffe2e2; padding: 1px;\" title=\"relevance 1.3981001377105713\">end</span>  <span style=\"background-color: #ffaaaa; padding: 1px;\" title=\"relevance 4.265495777130127\">up</span>  <span style=\"background-color: #ffc2c2; padding: 1px;\" title=\"relevance 2.9937403202056885\">with</span>  <span style=\"background-color: #ffa8a8; padding: 1px;\" title=\"relevance 4.349424362182617\">if</span>  <span style=\"background-color: #babaff; padding: 1px;\" title=\"relevance -3.3923041820526123\">you</span>  <span style=\"background-color: #dadaff; padding: 1px;\" title=\"relevance -1.7992141246795654\">took</span>  <span style=\"background-color: #c8c8ff; padding: 1px;\" title=\"relevance -2.7511038780212402\">orwell</span>  <span style=\"background-color: #c3c3ff; padding: 1px;\" title=\"relevance -2.9442598819732666\">,</span>  <span style=\"background-color: #f8f8ff; padding: 1px;\" title=\"relevance -0.3977545201778412\">bradbury</span>  <span style=\"background-color: #ffcaca; padding: 1px;\" title=\"relevance 2.5979561805725098\">,</span>  <span style=\"background-color: #ff3636; padding: 1px;\" title=\"relevance 9.96756649017334\">kafka</span>  <span style=\"background-color: #ff0000; padding: 1px;\" title=\"relevance 12.758166313171387\">,</span>  <span style=\"background-color: #ffcece; padding: 1px;\" title=\"relevance 2.4211931228637695\">george</span>  <span style=\"background-color: #f6f6ff; padding: 1px;\" title=\"relevance -0.49702879786491394\">lucas</span>  <span style=\"background-color: #fffefe; padding: 1px;\" title=\"relevance 0.0\">and</span>  <span style=\"background-color: #f0f0ff; padding: 1px;\" title=\"relevance -0.7763572931289673\">the</span>  <span style=\"background-color: #ffdede; padding: 1px;\" title=\"relevance 1.6919527053833008\">wachowski</span>  <span style=\"background-color: #ff7070; padding: 1px;\" title=\"relevance 7.079404830932617\">brothers</span>  <span style=\"background-color: #ff9c9c; padding: 1px;\" title=\"relevance 4.900895595550537\">and</span>  <span style=\"background-color: #f6f6ff; padding: 1px;\" title=\"relevance -0.47938764095306396\">threw</span>  <span style=\"background-color: #d2d2ff; padding: 1px;\" title=\"relevance -2.2696704864501953\">them</span>  <span style=\"background-color: #ececff; padding: 1px;\" title=\"relevance -0.9297926425933838\">into</span>  <span style=\"background-color: #ffa2a2; padding: 1px;\" title=\"relevance 4.672955513000488\">a</span>  <span style=\"background-color: #ff6868; padding: 1px;\" title=\"relevance 7.503890514373779\">blender</span>  <span style=\"background-color: #ffdada; padding: 1px;\" title=\"relevance 1.810377597808838\">.</span>  "
      ],
      "text/plain": [
       "<IPython.core.display.HTML object>"
      ]
     },
     "metadata": {},
     "output_type": "display_data"
    },
    {
     "name": "stdout",
     "output_type": "stream",
     "text": [
      "------------\n",
      "Review 454\n",
      "Sentence : a charming yet poignant tale of the irrevocable ties that bind .\n",
      "Pred class : positive ✓\n"
     ]
    },
    {
     "data": {
      "text/html": [
       "<b>Heatmap(gradient):</b> <span style=\"background-color: #a8a8ff; padding: 1px;\" title=\"relevance -2.5360727310180664\">a</span>  <span style=\"background-color: #ff0000; padding: 1px;\" title=\"relevance 7.486092567443848\">charming</span>  <span style=\"background-color: #ff8080; padding: 1px;\" title=\"relevance 3.7083840370178223\">yet</span>  <span style=\"background-color: #fffefe; padding: 1px;\" title=\"relevance 0.01166658103466034\">poignant</span>  <span style=\"background-color: #ffd2d2; padding: 1px;\" title=\"relevance 1.2919223308563232\">tale</span>  <span style=\"background-color: #fffafa; padding: 1px;\" title=\"relevance 0.12190504372119904\">of</span>  <span style=\"background-color: #fafaff; padding: 1px;\" title=\"relevance -0.1670861542224884\">the</span>  <span style=\"background-color: #ffdcdc; padding: 1px;\" title=\"relevance 1.023006558418274\">irrevocable</span>  <span style=\"background-color: #ffe2e2; padding: 1px;\" title=\"relevance 0.8576785326004028\">ties</span>  <span style=\"background-color: #fffafa; padding: 1px;\" title=\"relevance 0.13499097526073456\">that</span>  <span style=\"background-color: #fafaff; padding: 1px;\" title=\"relevance -0.16157953441143036\">bind</span>  <span style=\"background-color: #fefeff; padding: 1px;\" title=\"relevance -0.05355352908372879\">.</span>  "
      ],
      "text/plain": [
       "<IPython.core.display.HTML object>"
      ]
     },
     "metadata": {},
     "output_type": "display_data"
    },
    {
     "data": {
      "text/html": [
       "<b>Heatmap(guided_backprop):</b> <span style=\"background-color: #a8a8ff; padding: 1px;\" title=\"relevance -12.986139297485352\">a</span>  <span style=\"background-color: #ff0000; padding: 1px;\" title=\"relevance 38.33306884765625\">charming</span>  <span style=\"background-color: #ff8080; padding: 1px;\" title=\"relevance 18.989044189453125\">yet</span>  <span style=\"background-color: #fffefe; padding: 1px;\" title=\"relevance 0.05973923206329346\">poignant</span>  <span style=\"background-color: #ffd2d2; padding: 1px;\" title=\"relevance 6.61538028717041\">tale</span>  <span style=\"background-color: #fffafa; padding: 1px;\" title=\"relevance 0.6242231130599976\">of</span>  <span style=\"background-color: #fafaff; padding: 1px;\" title=\"relevance -0.8555770516395569\">the</span>  <span style=\"background-color: #ffdcdc; padding: 1px;\" title=\"relevance 5.238377571105957\">irrevocable</span>  <span style=\"background-color: #ffe2e2; padding: 1px;\" title=\"relevance 4.391803741455078\">ties</span>  <span style=\"background-color: #fffafa; padding: 1px;\" title=\"relevance 0.6912307143211365\">that</span>  <span style=\"background-color: #fafaff; padding: 1px;\" title=\"relevance -0.8273777365684509\">bind</span>  <span style=\"background-color: #fefeff; padding: 1px;\" title=\"relevance -0.2742246389389038\">.</span>  "
      ],
      "text/plain": [
       "<IPython.core.display.HTML object>"
      ]
     },
     "metadata": {},
     "output_type": "display_data"
    },
    {
     "data": {
      "text/html": [
       "<b>Heatmap(lrp.z):</b> <span style=\"background-color: #ffd2d2; padding: 1px;\" title=\"relevance 0.6229023337364197\">a</span>  <span style=\"background-color: #ff0000; padding: 1px;\" title=\"relevance 3.5640857219696045\">charming</span>  <span style=\"background-color: #ffe6e6; padding: 1px;\" title=\"relevance 0.3572792410850525\">yet</span>  <span style=\"background-color: #ffe8e8; padding: 1px;\" title=\"relevance 0.32991331815719604\">poignant</span>  <span style=\"background-color: #fff0f0; padding: 1px;\" title=\"relevance 0.21184901893138885\">tale</span>  <span style=\"background-color: #fff6f6; padding: 1px;\" title=\"relevance 0.130976602435112\">of</span>  <span style=\"background-color: #f0f0ff; padding: 1px;\" title=\"relevance -0.19778665900230408\">the</span>  <span style=\"background-color: #ffeeee; padding: 1px;\" title=\"relevance 0.22628489136695862\">irrevocable</span>  <span style=\"background-color: #ffecec; padding: 1px;\" title=\"relevance 0.2675156593322754\">ties</span>  <span style=\"background-color: #f6f6ff; padding: 1px;\" title=\"relevance -0.1285858452320099\">that</span>  <span style=\"background-color: #fff2f2; padding: 1px;\" title=\"relevance 0.17538361251354218\">bind</span>  <span style=\"background-color: #ccccff; padding: 1px;\" title=\"relevance -0.7103506326675415\">.</span>  "
      ],
      "text/plain": [
       "<IPython.core.display.HTML object>"
      ]
     },
     "metadata": {},
     "output_type": "display_data"
    },
    {
     "data": {
      "text/html": [
       "<b>Heatmap(lrp.alpha_2_beta_1):</b> <span style=\"background-color: #ffdada; padding: 1px;\" title=\"relevance 0.6460001468658447\">a</span>  <span style=\"background-color: #ff0000; padding: 1px;\" title=\"relevance 4.5183820724487305\">charming</span>  <span style=\"background-color: #eeeeff; padding: 1px;\" title=\"relevance -0.290884792804718\">yet</span>  <span style=\"background-color: #fff6f6; padding: 1px;\" title=\"relevance 0.1539713591337204\">poignant</span>  <span style=\"background-color: #ffeeee; padding: 1px;\" title=\"relevance 0.3047730028629303\">tale</span>  <span style=\"background-color: #fffefe; padding: 1px;\" title=\"relevance 0.016624268144369125\">of</span>  <span style=\"background-color: #f3f3ff; padding: 1px;\" title=\"relevance -0.20442873239517212\">the</span>  <span style=\"background-color: #fff4f4; padding: 1px;\" title=\"relevance 0.18363924324512482\">irrevocable</span>  <span style=\"background-color: #ffeeee; padding: 1px;\" title=\"relevance 0.29845741391181946\">ties</span>  <span style=\"background-color: #f2f2ff; padding: 1px;\" title=\"relevance -0.23071058094501495\">that</span>  <span style=\"background-color: #f8f8ff; padding: 1px;\" title=\"relevance -0.12470724433660507\">bind</span>  <span style=\"background-color: #d8d8ff; padding: 1px;\" title=\"relevance -0.6760438680648804\">.</span>  "
      ],
      "text/plain": [
       "<IPython.core.display.HTML object>"
      ]
     },
     "metadata": {},
     "output_type": "display_data"
    },
    {
     "data": {
      "text/html": [
       "<b>Heatmap(pattern.net):</b> <span style=\"background-color: #3e3eff; padding: 1px;\" title=\"relevance -2.4264135360717773\">a</span>  <span style=\"background-color: #3838ff; padding: 1px;\" title=\"relevance -2.493248462677002\">charming</span>  <span style=\"background-color: #0000ff; padding: 1px;\" title=\"relevance -3.2124195098876953\">yet</span>  <span style=\"background-color: #e2e2ff; padding: 1px;\" title=\"relevance -0.36422109603881836\">poignant</span>  <span style=\"background-color: #cacaff; padding: 1px;\" title=\"relevance -0.6551557183265686\">tale</span>  <span style=\"background-color: #b0b0ff; padding: 1px;\" title=\"relevance -0.986077606678009\">of</span>  <span style=\"background-color: #d8d8ff; padding: 1px;\" title=\"relevance -0.5016345977783203\">the</span>  <span style=\"background-color: #e6e6ff; padding: 1px;\" title=\"relevance -0.3048741817474365\">irrevocable</span>  <span style=\"background-color: #ccccff; padding: 1px;\" title=\"relevance -0.6363009214401245\">ties</span>  <span style=\"background-color: #d0d0ff; padding: 1px;\" title=\"relevance -0.5957401990890503\">that</span>  <span style=\"background-color: #fffcfc; padding: 1px;\" title=\"relevance 0.04641224816441536\">bind</span>  <span style=\"background-color: #d0d0ff; padding: 1px;\" title=\"relevance -0.5786927938461304\">.</span>  "
      ],
      "text/plain": [
       "<IPython.core.display.HTML object>"
      ]
     },
     "metadata": {},
     "output_type": "display_data"
    },
    {
     "data": {
      "text/html": [
       "<b>Heatmap(pattern.attribution):</b> <span style=\"background-color: #ff7070; padding: 1px;\" title=\"relevance 8.482351303100586\">a</span>  <span style=\"background-color: #ff0000; padding: 1px;\" title=\"relevance 15.240521430969238\">charming</span>  <span style=\"background-color: #ff1c1c; padding: 1px;\" title=\"relevance 13.472882270812988\">yet</span>  <span style=\"background-color: #fff0f0; padding: 1px;\" title=\"relevance 0.9002711176872253\">poignant</span>  <span style=\"background-color: #ffb8b8; padding: 1px;\" title=\"relevance 4.259578704833984\">tale</span>  <span style=\"background-color: #ffe0e0; padding: 1px;\" title=\"relevance 1.8541545867919922\">of</span>  <span style=\"background-color: #f8f8ff; padding: 1px;\" title=\"relevance -0.38709619641304016\">the</span>  <span style=\"background-color: #ffe0e0; padding: 1px;\" title=\"relevance 1.8194400072097778\">irrevocable</span>  <span style=\"background-color: #ffd6d6; padding: 1px;\" title=\"relevance 2.4318509101867676\">ties</span>  <span style=\"background-color: #f6f6ff; padding: 1px;\" title=\"relevance -0.5685554146766663\">that</span>  <span style=\"background-color: #e6e6ff; padding: 1px;\" title=\"relevance -1.4853525161743164\">bind</span>  <span style=\"background-color: #dcdcff; padding: 1px;\" title=\"relevance -2.1339166164398193\">.</span>  "
      ],
      "text/plain": [
       "<IPython.core.display.HTML object>"
      ]
     },
     "metadata": {},
     "output_type": "display_data"
    },
    {
     "name": "stdout",
     "output_type": "stream",
     "text": [
      "------------\n",
      "Review 539\n",
      "Sentence : but he loses his focus when he concentrates on any single person .\n",
      "Pred class : negative ✓\n"
     ]
    },
    {
     "data": {
      "text/html": [
       "<b>Heatmap(gradient):</b> <span style=\"background-color: #fffafa; padding: 1px;\" title=\"relevance 0.1066104918718338\">but</span>  <span style=\"background-color: #a3a3ff; padding: 1px;\" title=\"relevance -1.86469566822052\">he</span>  <span style=\"background-color: #ffaaaa; padding: 1px;\" title=\"relevance 1.7529542446136475\">loses</span>  <span style=\"background-color: #ffeaea; padding: 1px;\" title=\"relevance 0.4419059157371521\">his</span>  <span style=\"background-color: #babaff; padding: 1px;\" title=\"relevance -1.4266586303710938\">focus</span>  <span style=\"background-color: #e6e6ff; padding: 1px;\" title=\"relevance -0.5035239458084106\">when</span>  <span style=\"background-color: #fafaff; padding: 1px;\" title=\"relevance -0.12232449650764465\">he</span>  <span style=\"background-color: #0000ff; padding: 1px;\" title=\"relevance -5.295635223388672\">concentrates</span>  <span style=\"background-color: #a3a3ff; padding: 1px;\" title=\"relevance -1.8755441904067993\">on</span>  <span style=\"background-color: #dcdcff; padding: 1px;\" title=\"relevance -0.7045058608055115\">any</span>  <span style=\"background-color: #eeeeff; padding: 1px;\" title=\"relevance -0.34635964035987854\">single</span>  <span style=\"background-color: #d2d2ff; padding: 1px;\" title=\"relevance -0.9411637187004089\">person</span>  <span style=\"background-color: #fffafa; padding: 1px;\" title=\"relevance 0.12080028653144836\">.</span>  "
      ],
      "text/plain": [
       "<IPython.core.display.HTML object>"
      ]
     },
     "metadata": {},
     "output_type": "display_data"
    },
    {
     "data": {
      "text/html": [
       "<b>Heatmap(guided_backprop):</b> <span style=\"background-color: #fffafa; padding: 1px;\" title=\"relevance 0.2660103738307953\">but</span>  <span style=\"background-color: #a3a3ff; padding: 1px;\" title=\"relevance -4.652719020843506\">he</span>  <span style=\"background-color: #ffaaaa; padding: 1px;\" title=\"relevance 4.373902797698975\">loses</span>  <span style=\"background-color: #ffeaea; padding: 1px;\" title=\"relevance 1.1026265621185303\">his</span>  <span style=\"background-color: #babaff; padding: 1px;\" title=\"relevance -3.5597455501556396\">focus</span>  <span style=\"background-color: #e6e6ff; padding: 1px;\" title=\"relevance -1.2563738822937012\">when</span>  <span style=\"background-color: #fafaff; padding: 1px;\" title=\"relevance -0.3052198886871338\">he</span>  <span style=\"background-color: #0000ff; padding: 1px;\" title=\"relevance -13.213469505310059\">concentrates</span>  <span style=\"background-color: #a3a3ff; padding: 1px;\" title=\"relevance -4.679787635803223\">on</span>  <span style=\"background-color: #dcdcff; padding: 1px;\" title=\"relevance -1.757857084274292\">any</span>  <span style=\"background-color: #eeeeff; padding: 1px;\" title=\"relevance -0.8642235994338989\">single</span>  <span style=\"background-color: #d2d2ff; padding: 1px;\" title=\"relevance -2.3483569622039795\">person</span>  <span style=\"background-color: #fffafa; padding: 1px;\" title=\"relevance 0.3014165759086609\">.</span>  "
      ],
      "text/plain": [
       "<IPython.core.display.HTML object>"
      ]
     },
     "metadata": {},
     "output_type": "display_data"
    },
    {
     "data": {
      "text/html": [
       "<b>Heatmap(lrp.z):</b> <span style=\"background-color: #ffd6d6; padding: 1px;\" title=\"relevance 0.5135335326194763\">but</span>  <span style=\"background-color: #ffdcdc; padding: 1px;\" title=\"relevance 0.4483005702495575\">he</span>  <span style=\"background-color: #ff0000; padding: 1px;\" title=\"relevance 3.202965021133423\">loses</span>  <span style=\"background-color: #ffc2c2; padding: 1px;\" title=\"relevance 0.7721189260482788\">his</span>  <span style=\"background-color: #ffeaea; padding: 1px;\" title=\"relevance 0.2588685154914856\">focus</span>  <span style=\"background-color: #d6d6ff; padding: 1px;\" title=\"relevance -0.5191434621810913\">when</span>  <span style=\"background-color: #e8e8ff; padding: 1px;\" title=\"relevance -0.28376710414886475\">he</span>  <span style=\"background-color: #9696ff; padding: 1px;\" title=\"relevance -1.3026931285858154\">concentrates</span>  <span style=\"background-color: #eeeeff; padding: 1px;\" title=\"relevance -0.20511193573474884\">on</span>  <span style=\"background-color: #fefeff; padding: 1px;\" title=\"relevance -0.006774062290787697\">any</span>  <span style=\"background-color: #fff8f8; padding: 1px;\" title=\"relevance 0.07693348824977875\">single</span>  <span style=\"background-color: #fcfcff; padding: 1px;\" title=\"relevance -0.03455839306116104\">person</span>  <span style=\"background-color: #f0f0ff; padding: 1px;\" title=\"relevance -0.18550828099250793\">.</span>  "
      ],
      "text/plain": [
       "<IPython.core.display.HTML object>"
      ]
     },
     "metadata": {},
     "output_type": "display_data"
    },
    {
     "data": {
      "text/html": [
       "<b>Heatmap(lrp.alpha_2_beta_1):</b> <span style=\"background-color: #ffe0e0; padding: 1px;\" title=\"relevance 0.29279202222824097\">but</span>  <span style=\"background-color: #ffc3c3; padding: 1px;\" title=\"relevance 0.5521822571754456\">he</span>  <span style=\"background-color: #ff0000; padding: 1px;\" title=\"relevance 2.389667510986328\">loses</span>  <span style=\"background-color: #ffbaba; padding: 1px;\" title=\"relevance 0.6517196297645569\">his</span>  <span style=\"background-color: #ffecec; padding: 1px;\" title=\"relevance 0.17416824400424957\">focus</span>  <span style=\"background-color: #dedeff; padding: 1px;\" title=\"relevance -0.3116978406906128\">when</span>  <span style=\"background-color: #e8e8ff; padding: 1px;\" title=\"relevance -0.2219405621290207\">he</span>  <span style=\"background-color: #c0c0ff; padding: 1px;\" title=\"relevance -0.5861737728118896\">concentrates</span>  <span style=\"background-color: #f0f0ff; padding: 1px;\" title=\"relevance -0.1379885971546173\">on</span>  <span style=\"background-color: #fffefe; padding: 1px;\" title=\"relevance 0.010156605392694473\">any</span>  <span style=\"background-color: #fff8f8; padding: 1px;\" title=\"relevance 0.05663853883743286\">single</span>  <span style=\"background-color: #fcfcff; padding: 1px;\" title=\"relevance -0.024254104122519493\">person</span>  <span style=\"background-color: #f6f6ff; padding: 1px;\" title=\"relevance -0.09265713393688202\">.</span>  "
      ],
      "text/plain": [
       "<IPython.core.display.HTML object>"
      ]
     },
     "metadata": {},
     "output_type": "display_data"
    },
    {
     "data": {
      "text/html": [
       "<b>Heatmap(pattern.net):</b> <span style=\"background-color: #e8e8ff; padding: 1px;\" title=\"relevance -0.2754770815372467\">but</span>  <span style=\"background-color: #c8c8ff; padding: 1px;\" title=\"relevance -0.6757975220680237\">he</span>  <span style=\"background-color: #ffaeae; padding: 1px;\" title=\"relevance 1.0034738779067993\">loses</span>  <span style=\"background-color: #0000ff; padding: 1px;\" title=\"relevance -3.158905267715454\">his</span>  <span style=\"background-color: #dedeff; padding: 1px;\" title=\"relevance -0.4050949811935425\">focus</span>  <span style=\"background-color: #ececff; padding: 1px;\" title=\"relevance -0.24638095498085022\">when</span>  <span style=\"background-color: #9393ff; padding: 1px;\" title=\"relevance -1.310858964920044\">he</span>  <span style=\"background-color: #b2b2ff; padding: 1px;\" title=\"relevance -0.9394044280052185\">concentrates</span>  <span style=\"background-color: #c2c2ff; padding: 1px;\" title=\"relevance -0.7589564919471741\">on</span>  <span style=\"background-color: #eeeeff; padding: 1px;\" title=\"relevance -0.20343148708343506\">any</span>  <span style=\"background-color: #f2f2ff; padding: 1px;\" title=\"relevance -0.1584215760231018\">single</span>  <span style=\"background-color: #f3f3ff; padding: 1px;\" title=\"relevance -0.13047075271606445\">person</span>  <span style=\"background-color: #e8e8ff; padding: 1px;\" title=\"relevance -0.2740497291088104\">.</span>  "
      ],
      "text/plain": [
       "<IPython.core.display.HTML object>"
      ]
     },
     "metadata": {},
     "output_type": "display_data"
    },
    {
     "data": {
      "text/html": [
       "<b>Heatmap(pattern.attribution):</b> <span style=\"background-color: #ffe0e0; padding: 1px;\" title=\"relevance 1.2802908420562744\">but</span>  <span style=\"background-color: #ff9a9a; padding: 1px;\" title=\"relevance 4.127477169036865\">he</span>  <span style=\"background-color: #ff0000; padding: 1px;\" title=\"relevance 10.43293285369873\">loses</span>  <span style=\"background-color: #ff1c1c; padding: 1px;\" title=\"relevance 9.274651527404785\">his</span>  <span style=\"background-color: #ffecec; padding: 1px;\" title=\"relevance 0.7531598806381226\">focus</span>  <span style=\"background-color: #dcdcff; padding: 1px;\" title=\"relevance -1.4433965682983398\">when</span>  <span style=\"background-color: #c6c6ff; padding: 1px;\" title=\"relevance -2.2836811542510986\">he</span>  <span style=\"background-color: #d0d0ff; padding: 1px;\" title=\"relevance -1.9129304885864258\">concentrates</span>  <span style=\"background-color: #eeeeff; padding: 1px;\" title=\"relevance -0.7104523181915283\">on</span>  <span style=\"background-color: #fffefe; padding: 1px;\" title=\"relevance 0.021337930113077164\">any</span>  <span style=\"background-color: #ffecec; padding: 1px;\" title=\"relevance 0.7600476145744324\">single</span>  <span style=\"background-color: #f6f6ff; padding: 1px;\" title=\"relevance -0.3700592815876007\">person</span>  <span style=\"background-color: #f2f2ff; padding: 1px;\" title=\"relevance -0.5644519925117493\">.</span>  "
      ],
      "text/plain": [
       "<IPython.core.display.HTML object>"
      ]
     },
     "metadata": {},
     "output_type": "display_data"
    }
   ],
   "source": [
    "# Traverse over the analysis results and visualize them.\n",
    "for i, idx in enumerate(test_sample_indices):\n",
    "\n",
    "    words = [decode_dict[t] for t in list(datasets['test']['reviews'][idx])]\n",
    "    \n",
    "    print('------------')\n",
    "    print('Review %d' % idx)\n",
    "    print('Sentence : %s' % ' '.join(words))\n",
    "    y_true = datasets['test']['targets'][idx]\n",
    "    y_pred = test_sample_preds[i]\n",
    "\n",
    "    print(\"Pred class : %s %s\" % (LABEL_TO_CLASS_NAME[y_pred], '✓' if y_pred == y_true else '✗ (%s)' % LABEL_TO_CLASS_NAME[y_true]))\n",
    "                                \n",
    "    \n",
    "    for j, method in enumerate(methods):\n",
    "        h = html_heatmap(method, words, analysis[i, j][0, :len(words)], short_version=False)\n",
    "        display(h)"
   ]
  },
  {
   "cell_type": "code",
   "execution_count": null,
   "metadata": {},
   "outputs": [],
   "source": []
  }
 ],
 "metadata": {
  "kernelspec": {
   "display_name": "innvestigate",
   "language": "python",
   "name": "innvestigate"
  },
  "language_info": {
   "codemirror_mode": {
    "name": "ipython",
    "version": 3
   },
   "file_extension": ".py",
   "mimetype": "text/x-python",
   "name": "python",
   "nbconvert_exporter": "python",
   "pygments_lexer": "ipython3",
   "version": "3.6.3"
  },
  "toc": {
   "nav_menu": {},
   "number_sections": true,
   "sideBar": true,
   "skip_h1_title": false,
   "toc_cell": false,
   "toc_position": {},
   "toc_section_display": "block",
   "toc_window_display": true
  }
 },
 "nbformat": 4,
 "nbformat_minor": 2
}

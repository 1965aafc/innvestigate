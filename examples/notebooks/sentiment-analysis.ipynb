{
 "cells": [
  {
   "cell_type": "code",
   "execution_count": 1,
   "metadata": {},
   "outputs": [
    {
     "name": "stderr",
     "output_type": "stream",
     "text": [
      "Using TensorFlow backend.\n"
     ]
    }
   ],
   "source": [
    "%matplotlib inline\n",
    "\n",
    "import imp\n",
    "import keras.backend\n",
    "import keras.models\n",
    "import matplotlib.pyplot as plt\n",
    "import numpy as np\n",
    "import pandas as pd\n",
    "import os\n",
    "\n",
    "import keras\n",
    "from keras.datasets import mnist\n",
    "from keras.models import Model\n",
    "# from keras.optimizers import RMSprop\n",
    "from keras import optimizers\n",
    "\n",
    "import innvestigate\n",
    "import innvestigate.applications\n",
    "import innvestigate.applications.mnist\n",
    "import innvestigate.utils as iutils\n",
    "import innvestigate.utils.visualizations as ivis\n",
    "from innvestigate.utils.tests.networks import base as network_base\n",
    "import time\n",
    "\n",
    "from IPython.core.display import display, HTML\n",
    "from innvestigate.tools import Perturbation, PerturbationAnalysis\n",
    "\n",
    "eutils = imp.load_source(\"utils\", \"../utils.py\")\n",
    "mnistutils = imp.load_source(\"utils_mnist\", \"../utils_mnist.py\")"
   ]
  },
  {
   "cell_type": "markdown",
   "metadata": {},
   "source": [
    "# Introduction"
   ]
  },
  {
   "cell_type": "markdown",
   "metadata": {},
   "source": [
    "In this experiment, we are going to build a sentiment analysis classifer, similar to [Arras et al. (2017)][arras]. In particular, we are going to predict sentiment of movie reviews. The dataset that we are going to use is [Standford Sentiment Treebank][standford]. Although the original dataset contains reviews in 5 categories, here we are interested whether reviews are positive or negative. Neutral reviews are excluded from this experiment.\n",
    "\n",
    "![][sample]\n",
    "\n",
    "\n",
    "[standford]: https://nlp.stanford.edu/sentiment/\n",
    "[sample]: https://i.imgur.com/AZm1YcD.png"
   ]
  },
  {
   "cell_type": "markdown",
   "metadata": {},
   "source": [
    "# Data Preparation\n",
    "Code for preparing data **shall** be included later. \n",
    "\n",
    "We can also **ignore** this part, and simply provide a way to download prepared data as well as embedding weights"
   ]
  },
  {
   "cell_type": "code",
   "execution_count": 2,
   "metadata": {},
   "outputs": [],
   "source": [
    "embeddings = np.load('../data/stanford-sentiment-treebank/embeddings.npy')\n",
    "dataset_names = {\n",
    "    'train': 'sequence_train.txt',\n",
    "    'test': 'sequence_test_root.txt',\n",
    "} "
   ]
  },
  {
   "cell_type": "code",
   "execution_count": 3,
   "metadata": {},
   "outputs": [],
   "source": [
    "embeddings_dim = embeddings.shape[1]"
   ]
  },
  {
   "cell_type": "code",
   "execution_count": 4,
   "metadata": {},
   "outputs": [
    {
     "name": "stderr",
     "output_type": "stream",
     "text": [
      "/Users/heytitle/projects/innvestigate/venv/lib/python3.6/site-packages/ipykernel_launcher.py:1: ParserWarning: Falling back to the 'python' engine because the 'c' engine does not support regex separators (separators > 1 char and different from '\\s+' are interpreted as regex); you can avoid this warning by specifying engine='python'.\n",
      "  \"\"\"Entry point for launching an IPython kernel.\n"
     ]
    }
   ],
   "source": [
    "df_vocab = pd.read_csv('../data/stanford-sentiment-treebank/dict.txt', sep='::', header=None, names=['vocab'])"
   ]
  },
  {
   "cell_type": "code",
   "execution_count": 5,
   "metadata": {},
   "outputs": [],
   "source": [
    "decode_dict = dict(zip(range(len(df_vocab)), list(df_vocab.vocab.values)))"
   ]
  },
  {
   "cell_type": "code",
   "execution_count": 6,
   "metadata": {},
   "outputs": [
    {
     "data": {
      "text/plain": [
       "array(['the', 'rock', 'is', ..., 'chevy', 'persistently', 'resuscitation'],\n",
       "      dtype=object)"
      ]
     },
     "execution_count": 6,
     "metadata": {},
     "output_type": "execute_result"
    }
   ],
   "source": [
    "df_vocab.vocab.values"
   ]
  },
  {
   "cell_type": "code",
   "execution_count": 7,
   "metadata": {},
   "outputs": [],
   "source": [
    "max_length = 40\n",
    "num_classes= 2"
   ]
  },
  {
   "cell_type": "code",
   "execution_count": 8,
   "metadata": {},
   "outputs": [],
   "source": [
    "def read_data(path):\n",
    "    x = []\n",
    "    y = []\n",
    "\n",
    "    with open(path) as fp:\n",
    "        for line in fp:\n",
    "            tokens = np.array(line.strip().split(' ')).astype(int)\n",
    "\n",
    "            # the vocab indices from the data start from 1\n",
    "            seq = list(tokens[1:] - 1)\n",
    "            x.append(seq)\n",
    "\n",
    "            # the label in the data starts from 1-5\n",
    "            y.append(tokens[0] - 1)\n",
    "\n",
    "    return x, y\n",
    "\n",
    "\n",
    "datasets = dict()\n",
    "for k, v in dataset_names.items():\n",
    "    x, y = read_data('../data/stanford-sentiment-treebank/%s' % v)\n",
    "    y = np.array(y)\n",
    "    total_samples = y.shape[0]\n",
    "    xd = np.zeros((total_samples, max_length, embeddings.shape[1]))\n",
    "    for i in range(total_samples):\n",
    "        lx = len(x[i])\n",
    "        for j, widx in enumerate(x[i]):\n",
    "            if j < max_length:\n",
    "                xd[i, j, :] = embeddings[widx]\n",
    "            else:\n",
    "                break\n",
    "    indices = np.where(y != 2)\n",
    "    y_selected = y[indices].reshape(-1)\n",
    "    y_final = np.zeros(y_selected.shape)\n",
    "    y_final[y_selected > 2] = 1\n",
    "    datasets[k] = xd[indices], y_final.astype(int), np.array(x)[indices]"
   ]
  },
  {
   "cell_type": "markdown",
   "metadata": {},
   "source": [
    "# Model Construction\n",
    "\n",
    "We are going to use a convolutional neural network for this propose. The architecture was proposed in [Arras et al. (2016)][arras2]\n",
    "\n",
    "![][arch]\n",
    "\n",
    "[arch]: https://i.imgur.com/GE8nrWX.png\n",
    "[arras2]: https://arxiv.org/abs/1612.07843"
   ]
  },
  {
   "cell_type": "code",
   "execution_count": 9,
   "metadata": {},
   "outputs": [],
   "source": [
    "def build_network(input_shape, output_n, activation=None, dense_unit=256, dropout_rate=0.25):\n",
    "    if activation:\n",
    "        activation = \"relu\"\n",
    "\n",
    "    net = {}\n",
    "    net[\"in\"] = network_base.input_layer(shape=input_shape)\n",
    "    net[\"conv\"] = keras.layers.Conv2D(filters=100, kernel_size=(1,1), strides=(1, 1), padding='valid')(net[\"in\"])\n",
    "    net[\"pool\"] = keras.layers.MaxPooling2D(pool_size=(1, input_shape[2]), strides=(1,1))(net[\"conv\"])\n",
    "    net[\"out\"] = network_base.dense_layer(keras.layers.Flatten()(net[\"pool\"]), units=output_n, activation=activation)\n",
    "    net[\"sm_out\"] = network_base.softmax(net[\"out\"])\n",
    "\n",
    "\n",
    "    net.update({\n",
    "        \"input_shape\": input_shape,\n",
    "\n",
    "        \"output_n\": output_n,\n",
    "    })\n",
    "    return net\n",
    "\n",
    "net = build_network((None, 1, max_length, embeddings_dim), num_classes)\n",
    "model_without_softmax, model_with_softmax = Model(inputs=net['in'], outputs=net['out']), Model(inputs=net['in'], outputs=net['sm_out'])"
   ]
  },
  {
   "cell_type": "code",
   "execution_count": 10,
   "metadata": {},
   "outputs": [],
   "source": [
    "data = (\n",
    "   np.expand_dims(datasets['train'][0], axis=1),\n",
    "   datasets['train'][1],\n",
    "   np.expand_dims(datasets['test'][0], axis=1),\n",
    "   datasets['test'][1]\n",
    ")"
   ]
  },
  {
   "cell_type": "code",
   "execution_count": 11,
   "metadata": {},
   "outputs": [],
   "source": [
    "def train_model(model, data, batch_size=128, epochs=20, num_classes=2):\n",
    "\n",
    "    x_train, y_train, x_test, y_test = data\n",
    "    # convert class vectors to binary class matrices\n",
    "    y_train = keras.utils.to_categorical(y_train, num_classes)\n",
    "    y_test = keras.utils.to_categorical(y_test, num_classes)\n",
    "\n",
    "    model.compile(loss='categorical_crossentropy',\n",
    "                  optimizer=optimizers.Adam(),\n",
    "                  metrics=['accuracy'])\n",
    "\n",
    "    print(x_train.shape)\n",
    "    print(y_train.shape)\n",
    "\n",
    "    history = model.fit(x_train, y_train,\n",
    "                        batch_size=batch_size,\n",
    "                        epochs=epochs,\n",
    "                        verbose=1)\n",
    "    score = model.evaluate(x_test, y_test, verbose=0)\n",
    "    print('Test loss:', score[0])\n",
    "    print('Test accuracy:', score[1])"
   ]
  },
  {
   "cell_type": "code",
   "execution_count": 12,
   "metadata": {},
   "outputs": [
    {
     "name": "stdout",
     "output_type": "stream",
     "text": [
      "(98788, 1, 40, 60)\n",
      "(98788, 2)\n",
      "Epoch 1/5\n",
      "98788/98788 [==============================] - 10s 99us/step - loss: 0.2760 - acc: 0.8992\n",
      "Epoch 2/5\n",
      "98788/98788 [==============================] - 10s 103us/step - loss: 0.2047 - acc: 0.9259\n",
      "Epoch 3/5\n",
      "98788/98788 [==============================] - 11s 107us/step - loss: 0.1950 - acc: 0.9294\n",
      "Epoch 4/5\n",
      "98788/98788 [==============================] - 11s 107us/step - loss: 0.1882 - acc: 0.9330\n",
      "Epoch 5/5\n",
      "98788/98788 [==============================] - 8s 83us/step - loss: 0.1826 - acc: 0.9347\n",
      "Test loss: 0.4600873169239113\n",
      "Test accuracy: 0.8034047228762372\n"
     ]
    }
   ],
   "source": [
    "train_model(model_with_softmax, data, num_classes=2, batch_size=256, epochs=5)"
   ]
  },
  {
   "cell_type": "code",
   "execution_count": 13,
   "metadata": {},
   "outputs": [],
   "source": [
    "model_without_softmax.set_weights(model_with_softmax.get_weights())"
   ]
  },
  {
   "cell_type": "markdown",
   "metadata": {},
   "source": [
    "# Model Analysis"
   ]
  },
  {
   "cell_type": "code",
   "execution_count": 14,
   "metadata": {},
   "outputs": [],
   "source": [
    "methods = [\n",
    "    # NAME                    OPT.PARAMS               POSTPROC FXN                TITLE\n",
    "    (\"gradient\",              {},                       mnistutils.graymap,        \"Gradient\"),\n",
    "    (\"guided_backprop\",       {},                       mnistutils.bk_proj,        \"Guided Backprop\",),\n",
    "    (\"lrp.z\",                 {},                       mnistutils.heatmap,         \"LRP-Z\"),\n",
    "    (\"lrp.alpha_2_beta_1\",    {},                       mnistutils.heatmap,         \"LRP-Alpha2-Beta1\"),\n",
    "]"
   ]
  },
  {
   "cell_type": "code",
   "execution_count": 15,
   "metadata": {},
   "outputs": [
    {
     "name": "stderr",
     "output_type": "stream",
     "text": [
      "/Users/heytitle/projects/innvestigate/innvestigate/analyzer/base.py:113: RuntimeWarning: This analyzer does not need to be trained. Still fit() is called.\n",
      "  \" Still fit() is called.\", RuntimeWarning)\n"
     ]
    }
   ],
   "source": [
    "analyzers = [innvestigate.create_analyzer(method[0],\n",
    "                                        model_without_softmax,\n",
    "                                        **method[1]) for method in methods]\n",
    "for analyzer in analyzers:\n",
    "    analyzer.fit(data[0], pattern_type='relu', batch_size=256, verbose=1)"
   ]
  },
  {
   "cell_type": "code",
   "execution_count": 16,
   "metadata": {},
   "outputs": [],
   "source": [
    "label_to_class_name = {\n",
    "    0 : 'negative',\n",
    "    1 : 'positive'\n",
    "}"
   ]
  },
  {
   "cell_type": "code",
   "execution_count": 17,
   "metadata": {},
   "outputs": [],
   "source": [
    "test_sample_indices = [1718, 726, 908, 1523, 454, 539]\n",
    "test_samples = []\n",
    "for i in test_sample_indices:\n",
    "    x = datasets['test'][0][i]\n",
    "\n",
    "    test_samples.append( (x, datasets['test'][1][i]) )"
   ]
  },
  {
   "cell_type": "code",
   "execution_count": 18,
   "metadata": {},
   "outputs": [],
   "source": [
    "analysis = np.zeros([len(test_samples), len(analyzers), 1, max_length])"
   ]
  },
  {
   "cell_type": "code",
   "execution_count": 19,
   "metadata": {},
   "outputs": [
    {
     "name": "stdout",
     "output_type": "stream",
     "text": [
      "Image 0: \n",
      "1.3728s\n",
      "Image 1: \n",
      "0.0040s\n",
      "Image 2: \n",
      "0.0035s\n",
      "Image 3: \n",
      "0.0032s\n",
      "Image 4: \n",
      "0.0030s\n",
      "Image 5: \n",
      "0.0035s\n"
     ]
    }
   ],
   "source": [
    "text = []\n",
    "for i, (x, y) in enumerate(test_samples):\n",
    "    print('Image {}: '.format(i), end='')\n",
    "    t_start = time.time()\n",
    "    x = x.reshape((1, 1, max_length, embeddings_dim))\n",
    "    print('')\n",
    "    \n",
    "\n",
    "    presm = model_without_softmax.predict_on_batch(x)[0] #forward pass without softmax\n",
    "    prob = model_with_softmax.predict_on_batch(x)[0] #forward pass with softmax\n",
    "    y_hat = prob.argmax()\n",
    "\n",
    "    text.append((\"%s\" %label_to_class_name[y],    # ground truth label\n",
    "                 \"%.2f\" %presm.max(),             # pre-softmax logits\n",
    "                 \"%.2f\" %prob.max(),              # probabilistic softmax output  \n",
    "                 \"%s\" %label_to_class_name[y_hat] # predicted label\n",
    "                ))\n",
    "\n",
    "    for aidx, analyzer in enumerate(analyzers):\n",
    "\n",
    "        a = np.squeeze(analyzer.analyze(x))\n",
    "        a = np.sum(a, axis=1)\n",
    "\n",
    "        analysis[i, aidx] = a\n",
    "    t_elapsed = time.time() - t_start\n",
    "    print('{:.4f}s'.format(t_elapsed))"
   ]
  },
  {
   "cell_type": "markdown",
   "metadata": {},
   "source": [
    "#  Heatmap Visualization"
   ]
  },
  {
   "cell_type": "code",
   "execution_count": 20,
   "metadata": {},
   "outputs": [],
   "source": [
    "# code in this block taken from https://github.com/ArrasL/LRP_for_LSTM\n",
    "\n",
    "def rescale_score_by_abs(score, max_score, min_score):\n",
    "    \"\"\"\n",
    "    rescale positive score to the range [0.5, 1.0], negative score to the range [0.0, 0.5],\n",
    "    using the extremal scores max_score and min_score for normalization\n",
    "    \"\"\"\n",
    "\n",
    "    # CASE 1: positive AND negative scores occur --------------------\n",
    "    if max_score > 0 and min_score < 0:\n",
    "\n",
    "        if max_score >= abs(min_score):  # deepest color is positive\n",
    "            if score >= 0:\n",
    "                return 0.5 + 0.5 * (score / max_score)\n",
    "            else:\n",
    "                return 0.5 - 0.5 * (abs(score) / max_score)\n",
    "\n",
    "        else:  # deepest color is negative\n",
    "            if score >= 0:\n",
    "                return 0.5 + 0.5 * (score / abs(min_score))\n",
    "            else:\n",
    "                return 0.5 - 0.5 * (score / min_score)\n",
    "\n",
    "                # CASE 2: ONLY positive scores occur -----------------------------\n",
    "    elif max_score > 0 and min_score >= 0:\n",
    "        if max_score == min_score:\n",
    "            return 1.0\n",
    "        else:\n",
    "            return 0.5 + 0.5 * (score / max_score)\n",
    "\n",
    "    # CASE 3: ONLY negative scores occur -----------------------------\n",
    "    elif max_score <= 0 and min_score < 0:\n",
    "        if max_score == min_score:\n",
    "            return 0.0\n",
    "        else:\n",
    "            return 0.5 - 0.5 * (score / min_score)\n",
    "        \n",
    "def getRGB(c_tuple):\n",
    "    return \"#%02x%02x%02x\" % (int(c_tuple[0] * 255), int(c_tuple[1] * 255), int(c_tuple[2] * 255))\n",
    "\n",
    "def span_word(word, normalized_score, raw_score, colormap, highlight=False, attribute=\"background-color\"):\n",
    "    return \"<span style=\\\"{attribute}: {color}; padding: 1px;\\\" title=\\\"relevance {rel}\\\">{word}</span> \".format(\n",
    "        attribute=attribute,\n",
    "        rel=raw_score,\n",
    "        color=getRGB(colormap(normalized_score)),\n",
    "        word=word,\n",
    "    )\n",
    "\n",
    "\n",
    "def html_heatmap(method, words, scores, cmap_name=\"bwr\", short_version=True):\n",
    "    colormap = plt.get_cmap(cmap_name)\n",
    "\n",
    "    assert len(words) == len(scores)\n",
    "    max_s = max(scores)\n",
    "    min_s = min(scores)\n",
    "\n",
    "    output_text = \"\"\n",
    "\n",
    "    for idx, w in enumerate(words):\n",
    "        score = rescale_score_by_abs(scores[idx], max_s, min_s)\n",
    "        output_text = output_text + span_word(w, score, scores[idx], colormap) + \" \"\n",
    "\n",
    "    prefix = '<b>> </b>' if short_version else '<b>Heatmap(%s):</b> ' % method\n",
    "    return HTML(prefix + output_text)"
   ]
  },
  {
   "cell_type": "code",
   "execution_count": 21,
   "metadata": {
    "scrolled": false
   },
   "outputs": [
    {
     "name": "stdout",
     "output_type": "stream",
     "text": [
      "Sample 1718\n",
      "Sentence : this may not have the dramatic gut-wrenching impact of other holocaust films , but it 's a compelling story , mainly because of the way it 's told by the people who were there .\n",
      "Pred class : positive ✓\n"
     ]
    },
    {
     "data": {
      "text/html": [
       "<b>Heatmap(gradient):</b> <span style=\"background-color: #fff4f4; padding: 1px;\" title=\"relevance 0.14094172418117523\">this</span>  <span style=\"background-color: #ff9696; padding: 1px;\" title=\"relevance 1.338042974472046\">may</span>  <span style=\"background-color: #ececff; padding: 1px;\" title=\"relevance -0.24429890513420105\">not</span>  <span style=\"background-color: #fffefe; padding: 1px;\" title=\"relevance 0.0\">have</span>  <span style=\"background-color: #fffefe; padding: 1px;\" title=\"relevance 0.0\">the</span>  <span style=\"background-color: #7474ff; padding: 1px;\" title=\"relevance -1.7722651958465576\">dramatic</span>  <span style=\"background-color: #fffefe; padding: 1px;\" title=\"relevance 0.0\">gut-wrenching</span>  <span style=\"background-color: #ffd6d6; padding: 1px;\" title=\"relevance 0.5263609886169434\">impact</span>  <span style=\"background-color: #fffefe; padding: 1px;\" title=\"relevance 0.0\">of</span>  <span style=\"background-color: #fcfcff; padding: 1px;\" title=\"relevance -0.031148584559559822\">other</span>  <span style=\"background-color: #fffefe; padding: 1px;\" title=\"relevance 0.0\">holocaust</span>  <span style=\"background-color: #ff3c3c; padding: 1px;\" title=\"relevance 2.4950172901153564\">films</span>  <span style=\"background-color: #8282ff; padding: 1px;\" title=\"relevance -1.5935795307159424\">,</span>  <span style=\"background-color: #ff7979; padding: 1px;\" title=\"relevance 1.7075148820877075\">but</span>  <span style=\"background-color: #fffefe; padding: 1px;\" title=\"relevance 0.0\">it</span>  <span style=\"background-color: #dcdcff; padding: 1px;\" title=\"relevance -0.453785240650177\">'s</span>  <span style=\"background-color: #f2f2ff; padding: 1px;\" title=\"relevance -0.1542837768793106\">a</span>  <span style=\"background-color: #ff0000; padding: 1px;\" title=\"relevance 3.286923408508301\">compelling</span>  <span style=\"background-color: #fffefe; padding: 1px;\" title=\"relevance 0.0\">story</span>  <span style=\"background-color: #fffefe; padding: 1px;\" title=\"relevance 0.0\">,</span>  <span style=\"background-color: #fffefe; padding: 1px;\" title=\"relevance 0.0\">mainly</span>  <span style=\"background-color: #e3e3ff; padding: 1px;\" title=\"relevance -0.3566421866416931\">because</span>  <span style=\"background-color: #fffefe; padding: 1px;\" title=\"relevance 0.0\">of</span>  <span style=\"background-color: #fffefe; padding: 1px;\" title=\"relevance 0.0\">the</span>  <span style=\"background-color: #ffd6d6; padding: 1px;\" title=\"relevance 0.5187057256698608\">way</span>  <span style=\"background-color: #fffefe; padding: 1px;\" title=\"relevance 0.0\">it</span>  <span style=\"background-color: #fffefe; padding: 1px;\" title=\"relevance 0.0\">'s</span>  <span style=\"background-color: #ffc6c6; padding: 1px;\" title=\"relevance 0.7322835922241211\">told</span>  <span style=\"background-color: #ffbebe; padding: 1px;\" title=\"relevance 0.8452404737472534\">by</span>  <span style=\"background-color: #fffefe; padding: 1px;\" title=\"relevance 0.0\">the</span>  <span style=\"background-color: #fffefe; padding: 1px;\" title=\"relevance 0.0\">people</span>  <span style=\"background-color: #fefeff; padding: 1px;\" title=\"relevance -0.02472798340022564\">who</span>  <span style=\"background-color: #f8f8ff; padding: 1px;\" title=\"relevance -0.07973185181617737\">were</span>  <span style=\"background-color: #fff2f2; padding: 1px;\" title=\"relevance 0.15602701902389526\">there</span>  <span style=\"background-color: #fffefe; padding: 1px;\" title=\"relevance 0.0\">.</span>  "
      ],
      "text/plain": [
       "<IPython.core.display.HTML object>"
      ]
     },
     "metadata": {},
     "output_type": "display_data"
    },
    {
     "data": {
      "text/html": [
       "<b>Heatmap(guided_backprop):</b> <span style=\"background-color: #fff4f4; padding: 1px;\" title=\"relevance 0.05252450704574585\">this</span>  <span style=\"background-color: #ff9696; padding: 1px;\" title=\"relevance 0.4986463487148285\">may</span>  <span style=\"background-color: #ececff; padding: 1px;\" title=\"relevance -0.09104252606630325\">not</span>  <span style=\"background-color: #fffefe; padding: 1px;\" title=\"relevance 0.0\">have</span>  <span style=\"background-color: #fffefe; padding: 1px;\" title=\"relevance 0.0\">the</span>  <span style=\"background-color: #7474ff; padding: 1px;\" title=\"relevance -0.660467267036438\">dramatic</span>  <span style=\"background-color: #fffefe; padding: 1px;\" title=\"relevance 0.0\">gut-wrenching</span>  <span style=\"background-color: #ffd6d6; padding: 1px;\" title=\"relevance 0.19615809619426727\">impact</span>  <span style=\"background-color: #fffefe; padding: 1px;\" title=\"relevance 0.0\">of</span>  <span style=\"background-color: #fcfcff; padding: 1px;\" title=\"relevance -0.011608081869781017\">other</span>  <span style=\"background-color: #fffefe; padding: 1px;\" title=\"relevance 0.0\">holocaust</span>  <span style=\"background-color: #ff3c3c; padding: 1px;\" title=\"relevance 0.9298139810562134\">films</span>  <span style=\"background-color: #8282ff; padding: 1px;\" title=\"relevance -0.5938767790794373\">,</span>  <span style=\"background-color: #ff7979; padding: 1px;\" title=\"relevance 0.6363368034362793\">but</span>  <span style=\"background-color: #fffefe; padding: 1px;\" title=\"relevance 0.0\">it</span>  <span style=\"background-color: #dcdcff; padding: 1px;\" title=\"relevance -0.169111430644989\">'s</span>  <span style=\"background-color: #f2f2ff; padding: 1px;\" title=\"relevance -0.05749668926000595\">a</span>  <span style=\"background-color: #ff0000; padding: 1px;\" title=\"relevance 1.2249324321746826\">compelling</span>  <span style=\"background-color: #fffefe; padding: 1px;\" title=\"relevance 0.0\">story</span>  <span style=\"background-color: #fffefe; padding: 1px;\" title=\"relevance 0.0\">,</span>  <span style=\"background-color: #fffefe; padding: 1px;\" title=\"relevance 0.0\">mainly</span>  <span style=\"background-color: #e3e3ff; padding: 1px;\" title=\"relevance -0.13290925323963165\">because</span>  <span style=\"background-color: #fffefe; padding: 1px;\" title=\"relevance 0.0\">of</span>  <span style=\"background-color: #fffefe; padding: 1px;\" title=\"relevance 0.0\">the</span>  <span style=\"background-color: #ffd6d6; padding: 1px;\" title=\"relevance 0.19330520927906036\">way</span>  <span style=\"background-color: #fffefe; padding: 1px;\" title=\"relevance 0.0\">it</span>  <span style=\"background-color: #fffefe; padding: 1px;\" title=\"relevance 0.0\">'s</span>  <span style=\"background-color: #ffc6c6; padding: 1px;\" title=\"relevance 0.27289894223213196\">told</span>  <span style=\"background-color: #ffbebe; padding: 1px;\" title=\"relevance 0.3149943947792053\">by</span>  <span style=\"background-color: #fffefe; padding: 1px;\" title=\"relevance 0.0\">the</span>  <span style=\"background-color: #fffefe; padding: 1px;\" title=\"relevance 0.0\">people</span>  <span style=\"background-color: #fefeff; padding: 1px;\" title=\"relevance -0.009215336292982101\">who</span>  <span style=\"background-color: #f8f8ff; padding: 1px;\" title=\"relevance -0.029713541269302368\">were</span>  <span style=\"background-color: #fff2f2; padding: 1px;\" title=\"relevance 0.05814632773399353\">there</span>  <span style=\"background-color: #fffefe; padding: 1px;\" title=\"relevance 0.0\">.</span>  "
      ],
      "text/plain": [
       "<IPython.core.display.HTML object>"
      ]
     },
     "metadata": {},
     "output_type": "display_data"
    },
    {
     "data": {
      "text/html": [
       "<b>Heatmap(lrp.z):</b> <span style=\"background-color: #fff4f4; padding: 1px;\" title=\"relevance 0.09994469583034515\">this</span>  <span style=\"background-color: #dadaff; padding: 1px;\" title=\"relevance -0.3174489140510559\">may</span>  <span style=\"background-color: #0c0cff; padding: 1px;\" title=\"relevance -2.1239280700683594\">not</span>  <span style=\"background-color: #fffefe; padding: 1px;\" title=\"relevance 0.0\">have</span>  <span style=\"background-color: #fffefe; padding: 1px;\" title=\"relevance 0.0\">the</span>  <span style=\"background-color: #ffc6c6; padding: 1px;\" title=\"relevance 0.5000519752502441\">dramatic</span>  <span style=\"background-color: #fffefe; padding: 1px;\" title=\"relevance 0.0\">gut-wrenching</span>  <span style=\"background-color: #fff8f8; padding: 1px;\" title=\"relevance 0.06585443019866943\">impact</span>  <span style=\"background-color: #fffefe; padding: 1px;\" title=\"relevance 0.0\">of</span>  <span style=\"background-color: #fffafa; padding: 1px;\" title=\"relevance 0.04762676730751991\">other</span>  <span style=\"background-color: #fffefe; padding: 1px;\" title=\"relevance 0.0\">holocaust</span>  <span style=\"background-color: #ffc3c3; padding: 1px;\" title=\"relevance 0.5112118721008301\">films</span>  <span style=\"background-color: #ffdada; padding: 1px;\" title=\"relevance 0.3255872130393982\">,</span>  <span style=\"background-color: #9a9aff; padding: 1px;\" title=\"relevance -0.8859332799911499\">but</span>  <span style=\"background-color: #fffefe; padding: 1px;\" title=\"relevance 0.0\">it</span>  <span style=\"background-color: #fff0f0; padding: 1px;\" title=\"relevance 0.1386086642742157\">'s</span>  <span style=\"background-color: #fcfcff; padding: 1px;\" title=\"relevance -0.017761746421456337\">a</span>  <span style=\"background-color: #ff0000; padding: 1px;\" title=\"relevance 2.2349493503570557\">compelling</span>  <span style=\"background-color: #fffefe; padding: 1px;\" title=\"relevance 0.0\">story</span>  <span style=\"background-color: #fffefe; padding: 1px;\" title=\"relevance 0.0\">,</span>  <span style=\"background-color: #fffefe; padding: 1px;\" title=\"relevance 0.0\">mainly</span>  <span style=\"background-color: #fff0f0; padding: 1px;\" title=\"relevance 0.13133783638477325\">because</span>  <span style=\"background-color: #fffefe; padding: 1px;\" title=\"relevance 0.0\">of</span>  <span style=\"background-color: #fffefe; padding: 1px;\" title=\"relevance 0.0\">the</span>  <span style=\"background-color: #fcfcff; padding: 1px;\" title=\"relevance -0.03165718540549278\">way</span>  <span style=\"background-color: #fffefe; padding: 1px;\" title=\"relevance 0.0\">it</span>  <span style=\"background-color: #fffefe; padding: 1px;\" title=\"relevance 0.0\">'s</span>  <span style=\"background-color: #fffefe; padding: 1px;\" title=\"relevance 0.01542353443801403\">told</span>  <span style=\"background-color: #d6d6ff; padding: 1px;\" title=\"relevance -0.35591569542884827\">by</span>  <span style=\"background-color: #fffefe; padding: 1px;\" title=\"relevance 0.0\">the</span>  <span style=\"background-color: #fffefe; padding: 1px;\" title=\"relevance 0.0\">people</span>  <span style=\"background-color: #fffefe; padding: 1px;\" title=\"relevance 0.014981631189584732\">who</span>  <span style=\"background-color: #eaeaff; padding: 1px;\" title=\"relevance -0.1794833540916443\">were</span>  <span style=\"background-color: #f0f0ff; padding: 1px;\" title=\"relevance -0.13049528002738953\">there</span>  <span style=\"background-color: #fffefe; padding: 1px;\" title=\"relevance 0.0\">.</span>  "
      ],
      "text/plain": [
       "<IPython.core.display.HTML object>"
      ]
     },
     "metadata": {},
     "output_type": "display_data"
    },
    {
     "data": {
      "text/html": [
       "<b>Heatmap(lrp.alpha_2_beta_1):</b> <span style=\"background-color: #fff4f4; padding: 1px;\" title=\"relevance 0.01251296978443861\">this</span>  <span style=\"background-color: #eaeaff; padding: 1px;\" title=\"relevance -0.02394668385386467\">may</span>  <span style=\"background-color: #9292ff; padding: 1px;\" title=\"relevance -0.11989214271306992\">not</span>  <span style=\"background-color: #fffefe; padding: 1px;\" title=\"relevance 0.0\">have</span>  <span style=\"background-color: #fffefe; padding: 1px;\" title=\"relevance 0.0\">the</span>  <span style=\"background-color: #ffc2c2; padding: 1px;\" title=\"relevance 0.0671229287981987\">dramatic</span>  <span style=\"background-color: #fffefe; padding: 1px;\" title=\"relevance 0.0\">gut-wrenching</span>  <span style=\"background-color: #fff8f8; padding: 1px;\" title=\"relevance 0.00829313974827528\">impact</span>  <span style=\"background-color: #fffefe; padding: 1px;\" title=\"relevance 0.0\">of</span>  <span style=\"background-color: #fffafa; padding: 1px;\" title=\"relevance 0.006186908110976219\">other</span>  <span style=\"background-color: #fffefe; padding: 1px;\" title=\"relevance 0.0\">holocaust</span>  <span style=\"background-color: #ffc2c2; padding: 1px;\" title=\"relevance 0.06587745994329453\">films</span>  <span style=\"background-color: #ffdcdc; padding: 1px;\" title=\"relevance 0.03917090594768524\">,</span>  <span style=\"background-color: #e8e8ff; padding: 1px;\" title=\"relevance -0.024985169991850853\">but</span>  <span style=\"background-color: #fffefe; padding: 1px;\" title=\"relevance 0.0\">it</span>  <span style=\"background-color: #fff0f0; padding: 1px;\" title=\"relevance 0.017428291961550713\">'s</span>  <span style=\"background-color: #fefeff; padding: 1px;\" title=\"relevance -0.001253632246516645\">a</span>  <span style=\"background-color: #ff0000; padding: 1px;\" title=\"relevance 0.2795494496822357\">compelling</span>  <span style=\"background-color: #fffefe; padding: 1px;\" title=\"relevance 0.0\">story</span>  <span style=\"background-color: #fffefe; padding: 1px;\" title=\"relevance 0.0\">,</span>  <span style=\"background-color: #fffefe; padding: 1px;\" title=\"relevance 0.0\">mainly</span>  <span style=\"background-color: #ffeaea; padding: 1px;\" title=\"relevance 0.022135678678750992\">because</span>  <span style=\"background-color: #fffefe; padding: 1px;\" title=\"relevance 0.0\">of</span>  <span style=\"background-color: #fffefe; padding: 1px;\" title=\"relevance 0.0\">the</span>  <span style=\"background-color: #fff8f8; padding: 1px;\" title=\"relevance 0.006998029071837664\">way</span>  <span style=\"background-color: #fffefe; padding: 1px;\" title=\"relevance 0.0\">it</span>  <span style=\"background-color: #fffefe; padding: 1px;\" title=\"relevance 0.0\">'s</span>  <span style=\"background-color: #fffcfc; padding: 1px;\" title=\"relevance 0.0033272067084908485\">told</span>  <span style=\"background-color: #e8e8ff; padding: 1px;\" title=\"relevance -0.025770921260118484\">by</span>  <span style=\"background-color: #fffefe; padding: 1px;\" title=\"relevance 0.0\">the</span>  <span style=\"background-color: #fffefe; padding: 1px;\" title=\"relevance 0.0\">people</span>  <span style=\"background-color: #fffefe; padding: 1px;\" title=\"relevance 0.0019018631428480148\">who</span>  <span style=\"background-color: #f3f3ff; padding: 1px;\" title=\"relevance -0.012190449051558971\">were</span>  <span style=\"background-color: #fafaff; padding: 1px;\" title=\"relevance -0.004927902016788721\">there</span>  <span style=\"background-color: #fffefe; padding: 1px;\" title=\"relevance 0.0\">.</span>  "
      ],
      "text/plain": [
       "<IPython.core.display.HTML object>"
      ]
     },
     "metadata": {},
     "output_type": "display_data"
    },
    {
     "name": "stdout",
     "output_type": "stream",
     "text": [
      "\n",
      "Sample 726\n",
      "Sentence : without heavy-handedness , dong provides perspective with his intelligent grasp of human foibles and contradictions .\n",
      "Pred class : positive ✓\n"
     ]
    },
    {
     "data": {
      "text/html": [
       "<b>Heatmap(gradient):</b> <span style=\"background-color: #fafaff; padding: 1px;\" title=\"relevance -0.06134703755378723\">without</span>  <span style=\"background-color: #fffefe; padding: 1px;\" title=\"relevance 0.0\">heavy-handedness</span>  <span style=\"background-color: #e6e6ff; padding: 1px;\" title=\"relevance -0.25553643703460693\">,</span>  <span style=\"background-color: #ffb0b0; padding: 1px;\" title=\"relevance 0.8218657374382019\">dong</span>  <span style=\"background-color: #ff6969; padding: 1px;\" title=\"relevance 1.5468634366989136\">provides</span>  <span style=\"background-color: #9e9eff; padding: 1px;\" title=\"relevance -1.014163613319397\">perspective</span>  <span style=\"background-color: #ffdede; padding: 1px;\" title=\"relevance 0.3494386672973633\">with</span>  <span style=\"background-color: #fffefe; padding: 1px;\" title=\"relevance 0.0\">his</span>  <span style=\"background-color: #ff0000; padding: 1px;\" title=\"relevance 2.654665231704712\">intelligent</span>  <span style=\"background-color: #e8e8ff; padding: 1px;\" title=\"relevance -0.24395030736923218\">grasp</span>  <span style=\"background-color: #ffa8a8; padding: 1px;\" title=\"relevance 0.9055254459381104\">of</span>  <span style=\"background-color: #ff7676; padding: 1px;\" title=\"relevance 1.4178082942962646\">human</span>  <span style=\"background-color: #ff9898; padding: 1px;\" title=\"relevance 1.0691111087799072\">foibles</span>  <span style=\"background-color: #d3d3ff; padding: 1px;\" title=\"relevance -0.453785240650177\">and</span>  <span style=\"background-color: #ffe2e2; padding: 1px;\" title=\"relevance 0.30009961128234863\">contradictions</span>  <span style=\"background-color: #fffefe; padding: 1px;\" title=\"relevance 0.0\">.</span>  "
      ],
      "text/plain": [
       "<IPython.core.display.HTML object>"
      ]
     },
     "metadata": {},
     "output_type": "display_data"
    },
    {
     "data": {
      "text/html": [
       "<b>Heatmap(guided_backprop):</b> <span style=\"background-color: #fafaff; padding: 1px;\" title=\"relevance -0.13365721702575684\">without</span>  <span style=\"background-color: #fffefe; padding: 1px;\" title=\"relevance 0.0\">heavy-handedness</span>  <span style=\"background-color: #e6e6ff; padding: 1px;\" title=\"relevance -0.5567263960838318\">,</span>  <span style=\"background-color: #ffb0b0; padding: 1px;\" title=\"relevance 1.790562629699707\">dong</span>  <span style=\"background-color: #ff6969; padding: 1px;\" title=\"relevance 3.3700833320617676\">provides</span>  <span style=\"background-color: #9e9eff; padding: 1px;\" title=\"relevance -2.2095136642456055\">perspective</span>  <span style=\"background-color: #ffdede; padding: 1px;\" title=\"relevance 0.761306643486023\">with</span>  <span style=\"background-color: #fffefe; padding: 1px;\" title=\"relevance 0.0\">his</span>  <span style=\"background-color: #ff0000; padding: 1px;\" title=\"relevance 5.783605098724365\">intelligent</span>  <span style=\"background-color: #e8e8ff; padding: 1px;\" title=\"relevance -0.5314834117889404\">grasp</span>  <span style=\"background-color: #ffa8a8; padding: 1px;\" title=\"relevance 1.9728283882141113\">of</span>  <span style=\"background-color: #ff7676; padding: 1px;\" title=\"relevance 3.0889177322387695\">human</span>  <span style=\"background-color: #ff9898; padding: 1px;\" title=\"relevance 2.329225540161133\">foibles</span>  <span style=\"background-color: #d3d3ff; padding: 1px;\" title=\"relevance -0.9886419773101807\">and</span>  <span style=\"background-color: #ffe2e2; padding: 1px;\" title=\"relevance 0.6538136601448059\">contradictions</span>  <span style=\"background-color: #fffefe; padding: 1px;\" title=\"relevance 0.0\">.</span>  "
      ],
      "text/plain": [
       "<IPython.core.display.HTML object>"
      ]
     },
     "metadata": {},
     "output_type": "display_data"
    },
    {
     "data": {
      "text/html": [
       "<b>Heatmap(lrp.z):</b> <span style=\"background-color: #5151ff; padding: 1px;\" title=\"relevance -1.4183703660964966\">without</span>  <span style=\"background-color: #fffefe; padding: 1px;\" title=\"relevance 0.0\">heavy-handedness</span>  <span style=\"background-color: #fff6f6; padding: 1px;\" title=\"relevance 0.0715654119849205\">,</span>  <span style=\"background-color: #f3f3ff; padding: 1px;\" title=\"relevance -0.09875256568193436\">dong</span>  <span style=\"background-color: #ffc6c6; padding: 1px;\" title=\"relevance 0.47356072068214417\">provides</span>  <span style=\"background-color: #fafaff; padding: 1px;\" title=\"relevance -0.04540500044822693\">perspective</span>  <span style=\"background-color: #ffe0e0; padding: 1px;\" title=\"relevance 0.24937419593334198\">with</span>  <span style=\"background-color: #fffefe; padding: 1px;\" title=\"relevance 0.0\">his</span>  <span style=\"background-color: #ff0000; padding: 1px;\" title=\"relevance 2.109771490097046\">intelligent</span>  <span style=\"background-color: #bebeff; padding: 1px;\" title=\"relevance -0.5367151498794556\">grasp</span>  <span style=\"background-color: #d2d2ff; padding: 1px;\" title=\"relevance -0.3708351254463196\">of</span>  <span style=\"background-color: #ff3939; padding: 1px;\" title=\"relevance 1.617620825767517\">human</span>  <span style=\"background-color: #dedeff; padding: 1px;\" title=\"relevance -0.27965596318244934\">foibles</span>  <span style=\"background-color: #ffeaea; padding: 1px;\" title=\"relevance 0.17381709814071655\">and</span>  <span style=\"background-color: #f3f3ff; padding: 1px;\" title=\"relevance -0.09703463315963745\">contradictions</span>  <span style=\"background-color: #fffefe; padding: 1px;\" title=\"relevance 0.0\">.</span>  "
      ],
      "text/plain": [
       "<IPython.core.display.HTML object>"
      ]
     },
     "metadata": {},
     "output_type": "display_data"
    },
    {
     "data": {
      "text/html": [
       "<b>Heatmap(lrp.alpha_2_beta_1):</b> <span style=\"background-color: #8383ff; padding: 1px;\" title=\"relevance -0.6981192827224731\">without</span>  <span style=\"background-color: #fffefe; padding: 1px;\" title=\"relevance 0.0\">heavy-handedness</span>  <span style=\"background-color: #fff4f4; padding: 1px;\" title=\"relevance 0.06665068119764328\">,</span>  <span style=\"background-color: #f6f6ff; padding: 1px;\" title=\"relevance -0.05599094182252884\">dong</span>  <span style=\"background-color: #ffc6c6; padding: 1px;\" title=\"relevance 0.32243651151657104\">provides</span>  <span style=\"background-color: #fafaff; padding: 1px;\" title=\"relevance -0.023926397785544395\">perspective</span>  <span style=\"background-color: #ffe0e0; padding: 1px;\" title=\"relevance 0.17794273793697357\">with</span>  <span style=\"background-color: #fffefe; padding: 1px;\" title=\"relevance 0.0\">his</span>  <span style=\"background-color: #ff0000; padding: 1px;\" title=\"relevance 1.4605623483657837\">intelligent</span>  <span style=\"background-color: #c8c8ff; padding: 1px;\" title=\"relevance -0.3131569027900696\">grasp</span>  <span style=\"background-color: #d8d8ff; padding: 1px;\" title=\"relevance -0.21759533882141113\">of</span>  <span style=\"background-color: #ff3131; padding: 1px;\" title=\"relevance 1.1717790365219116\">human</span>  <span style=\"background-color: #e3e3ff; padding: 1px;\" title=\"relevance -0.1538935750722885\">foibles</span>  <span style=\"background-color: #ffeaea; padding: 1px;\" title=\"relevance 0.11840775609016418\">and</span>  <span style=\"background-color: #f6f6ff; padding: 1px;\" title=\"relevance -0.056440066546201706\">contradictions</span>  <span style=\"background-color: #fffefe; padding: 1px;\" title=\"relevance 0.0\">.</span>  "
      ],
      "text/plain": [
       "<IPython.core.display.HTML object>"
      ]
     },
     "metadata": {},
     "output_type": "display_data"
    },
    {
     "name": "stdout",
     "output_type": "stream",
     "text": [
      "\n",
      "Sample 908\n",
      "Sentence : a frantic search for laughs , with a hit-to-miss ratio that does n't exactly favour the audience .\n",
      "Pred class : negative ✓\n"
     ]
    },
    {
     "data": {
      "text/html": [
       "<b>Heatmap(gradient):</b> <span style=\"background-color: #6666ff; padding: 1px;\" title=\"relevance -1.265894889831543\">a</span>  <span style=\"background-color: #ffd0d0; padding: 1px;\" title=\"relevance 0.3940863311290741\">frantic</span>  <span style=\"background-color: #ff9c9c; padding: 1px;\" title=\"relevance 0.8225520849227905\">search</span>  <span style=\"background-color: #ffe4e4; padding: 1px;\" title=\"relevance 0.21977700293064117\">for</span>  <span style=\"background-color: #aeaeff; padding: 1px;\" title=\"relevance -0.6666027307510376\">laughs</span>  <span style=\"background-color: #ff3e3e; padding: 1px;\" title=\"relevance 1.5941228866577148\">,</span>  <span style=\"background-color: #d0d0ff; padding: 1px;\" title=\"relevance -0.389312744140625\">with</span>  <span style=\"background-color: #fffefe; padding: 1px;\" title=\"relevance 0.0\">a</span>  <span style=\"background-color: #fffefe; padding: 1px;\" title=\"relevance 0.0\">hit-to-miss</span>  <span style=\"background-color: #dadaff; padding: 1px;\" title=\"relevance -0.29910093545913696\">ratio</span>  <span style=\"background-color: #fffefe; padding: 1px;\" title=\"relevance 0.0\">that</span>  <span style=\"background-color: #ffecec; padding: 1px;\" title=\"relevance 0.1624627709388733\">does</span>  <span style=\"background-color: #8080ff; padding: 1px;\" title=\"relevance -1.0553487539291382\">n't</span>  <span style=\"background-color: #ffe8e8; padding: 1px;\" title=\"relevance 0.1829637736082077\">exactly</span>  <span style=\"background-color: #0000ff; padding: 1px;\" title=\"relevance -2.1210484504699707\">favour</span>  <span style=\"background-color: #7979ff; padding: 1px;\" title=\"relevance -1.0998268127441406\">the</span>  <span style=\"background-color: #a8a8ff; padding: 1px;\" title=\"relevance -0.7238929867744446\">audience</span>  <span style=\"background-color: #fffefe; padding: 1px;\" title=\"relevance 0.0\">.</span>  "
      ],
      "text/plain": [
       "<IPython.core.display.HTML object>"
      ]
     },
     "metadata": {},
     "output_type": "display_data"
    },
    {
     "data": {
      "text/html": [
       "<b>Heatmap(guided_backprop):</b> <span style=\"background-color: #6666ff; padding: 1px;\" title=\"relevance -0.5906050205230713\">a</span>  <span style=\"background-color: #ffd0d0; padding: 1px;\" title=\"relevance 0.18386153876781464\">frantic</span>  <span style=\"background-color: #ff9c9c; padding: 1px;\" title=\"relevance 0.38376277685165405\">search</span>  <span style=\"background-color: #ffe4e4; padding: 1px;\" title=\"relevance 0.10253726691007614\">for</span>  <span style=\"background-color: #aeaeff; padding: 1px;\" title=\"relevance -0.3110044300556183\">laughs</span>  <span style=\"background-color: #ff3e3e; padding: 1px;\" title=\"relevance 0.7437402606010437\">,</span>  <span style=\"background-color: #d0d0ff; padding: 1px;\" title=\"relevance -0.18163442611694336\">with</span>  <span style=\"background-color: #fffefe; padding: 1px;\" title=\"relevance 0.0\">a</span>  <span style=\"background-color: #fffefe; padding: 1px;\" title=\"relevance 0.0\">hit-to-miss</span>  <span style=\"background-color: #dadaff; padding: 1px;\" title=\"relevance -0.13954590260982513\">ratio</span>  <span style=\"background-color: #fffefe; padding: 1px;\" title=\"relevance 0.0\">that</span>  <span style=\"background-color: #ffecec; padding: 1px;\" title=\"relevance 0.07579723745584488\">does</span>  <span style=\"background-color: #8080ff; padding: 1px;\" title=\"relevance -0.4923744797706604\">n't</span>  <span style=\"background-color: #ffe8e8; padding: 1px;\" title=\"relevance 0.08536200225353241\">exactly</span>  <span style=\"background-color: #0000ff; padding: 1px;\" title=\"relevance -0.9895778894424438\">favour</span>  <span style=\"background-color: #7979ff; padding: 1px;\" title=\"relevance -0.5131258368492126\">the</span>  <span style=\"background-color: #a8a8ff; padding: 1px;\" title=\"relevance -0.33773329854011536\">audience</span>  <span style=\"background-color: #fffefe; padding: 1px;\" title=\"relevance 0.0\">.</span>  "
      ],
      "text/plain": [
       "<IPython.core.display.HTML object>"
      ]
     },
     "metadata": {},
     "output_type": "display_data"
    },
    {
     "data": {
      "text/html": [
       "<b>Heatmap(lrp.z):</b> <span style=\"background-color: #fff2f2; padding: 1px;\" title=\"relevance 0.09771914780139923\">a</span>  <span style=\"background-color: #ffe6e6; padding: 1px;\" title=\"relevance 0.18569481372833252\">frantic</span>  <span style=\"background-color: #ff7878; padding: 1px;\" title=\"relevance 1.0176496505737305\">search</span>  <span style=\"background-color: #eeeeff; padding: 1px;\" title=\"relevance -0.13147690892219543\">for</span>  <span style=\"background-color: #9292ff; padding: 1px;\" title=\"relevance -0.8161713480949402\">laughs</span>  <span style=\"background-color: #d0d0ff; padding: 1px;\" title=\"relevance -0.35410985350608826\">,</span>  <span style=\"background-color: #f0f0ff; padding: 1px;\" title=\"relevance -0.11013861745595932\">with</span>  <span style=\"background-color: #fffefe; padding: 1px;\" title=\"relevance 0.0\">a</span>  <span style=\"background-color: #fffefe; padding: 1px;\" title=\"relevance 0.0\">hit-to-miss</span>  <span style=\"background-color: #bcbcff; padding: 1px;\" title=\"relevance -0.49768155813217163\">ratio</span>  <span style=\"background-color: #fffefe; padding: 1px;\" title=\"relevance 0.0\">that</span>  <span style=\"background-color: #e8e8ff; padding: 1px;\" title=\"relevance -0.17792437970638275\">does</span>  <span style=\"background-color: #ff0000; padding: 1px;\" title=\"relevance 1.9296865463256836\">n't</span>  <span style=\"background-color: #fff2f2; padding: 1px;\" title=\"relevance 0.09161506593227386\">exactly</span>  <span style=\"background-color: #8080ff; padding: 1px;\" title=\"relevance -0.9615845084190369\">favour</span>  <span style=\"background-color: #ffbaba; padding: 1px;\" title=\"relevance 0.514938235282898\">the</span>  <span style=\"background-color: #fcfcff; padding: 1px;\" title=\"relevance -0.027292748913168907\">audience</span>  <span style=\"background-color: #fffefe; padding: 1px;\" title=\"relevance 0.0\">.</span>  "
      ],
      "text/plain": [
       "<IPython.core.display.HTML object>"
      ]
     },
     "metadata": {},
     "output_type": "display_data"
    },
    {
     "data": {
      "text/html": [
       "<b>Heatmap(lrp.alpha_2_beta_1):</b> <span style=\"background-color: #ffeaea; padding: 1px;\" title=\"relevance 0.03562106192111969\">a</span>  <span style=\"background-color: #ffeaea; padding: 1px;\" title=\"relevance 0.037564635276794434\">frantic</span>  <span style=\"background-color: #ff8888; padding: 1px;\" title=\"relevance 0.20435912907123566\">search</span>  <span style=\"background-color: #f6f6ff; padding: 1px;\" title=\"relevance -0.013711127452552319\">for</span>  <span style=\"background-color: #dadaff; padding: 1px;\" title=\"relevance -0.062392111867666245\">laughs</span>  <span style=\"background-color: #eaeaff; padding: 1px;\" title=\"relevance -0.035625748336315155\">,</span>  <span style=\"background-color: #fcfcff; padding: 1px;\" title=\"relevance -0.00674646720290184\">with</span>  <span style=\"background-color: #fffefe; padding: 1px;\" title=\"relevance 0.0\">a</span>  <span style=\"background-color: #fffefe; padding: 1px;\" title=\"relevance 0.0\">hit-to-miss</span>  <span style=\"background-color: #e3e3ff; padding: 1px;\" title=\"relevance -0.04535616561770439\">ratio</span>  <span style=\"background-color: #fffefe; padding: 1px;\" title=\"relevance 0.0\">that</span>  <span style=\"background-color: #f3f3ff; padding: 1px;\" title=\"relevance -0.01763530820608139\">does</span>  <span style=\"background-color: #ff0000; padding: 1px;\" title=\"relevance 0.43727827072143555\">n't</span>  <span style=\"background-color: #fff6f6; padding: 1px;\" title=\"relevance 0.017062082886695862\">exactly</span>  <span style=\"background-color: #c6c6ff; padding: 1px;\" title=\"relevance -0.09566476941108704\">favour</span>  <span style=\"background-color: #ffc2c2; padding: 1px;\" title=\"relevance 0.10523384064435959\">the</span>  <span style=\"background-color: #fffefe; padding: 1px;\" title=\"relevance 0.0029301901813596487\">audience</span>  <span style=\"background-color: #fffefe; padding: 1px;\" title=\"relevance 0.0\">.</span>  "
      ],
      "text/plain": [
       "<IPython.core.display.HTML object>"
      ]
     },
     "metadata": {},
     "output_type": "display_data"
    },
    {
     "name": "stdout",
     "output_type": "stream",
     "text": [
      "\n",
      "Sample 1523\n",
      "Sentence : what you would end up with if you took orwell , bradbury , kafka , george lucas and the wachowski brothers and threw them into a blender .\n",
      "Pred class : positive ✓\n"
     ]
    },
    {
     "data": {
      "text/html": [
       "<b>Heatmap(gradient):</b> <span style=\"background-color: #fffefe; padding: 1px;\" title=\"relevance 0.0\">what</span>  <span style=\"background-color: #ff0000; padding: 1px;\" title=\"relevance 2.624178886413574\">you</span>  <span style=\"background-color: #e2e2ff; padding: 1px;\" title=\"relevance -0.29586130380630493\">would</span>  <span style=\"background-color: #fffefe; padding: 1px;\" title=\"relevance 0.0\">end</span>  <span style=\"background-color: #ffeaea; padding: 1px;\" title=\"relevance 0.22472411394119263\">up</span>  <span style=\"background-color: #ffdcdc; padding: 1px;\" title=\"relevance 0.3494386672973633\">with</span>  <span style=\"background-color: #ff7070; padding: 1px;\" title=\"relevance 1.4756207466125488\">if</span>  <span style=\"background-color: #fffefe; padding: 1px;\" title=\"relevance 0.0\">you</span>  <span style=\"background-color: #f0f0ff; padding: 1px;\" title=\"relevance -0.14644430577754974\">took</span>  <span style=\"background-color: #7878ff; padding: 1px;\" title=\"relevance -1.388573408126831\">orwell</span>  <span style=\"background-color: #6464ff; padding: 1px;\" title=\"relevance -1.5935795307159424\">,</span>  <span style=\"background-color: #ff7979; padding: 1px;\" title=\"relevance 1.3730449676513672\">bradbury</span>  <span style=\"background-color: #fffefe; padding: 1px;\" title=\"relevance 0.0\">,</span>  <span style=\"background-color: #ffacac; padding: 1px;\" title=\"relevance 0.8538846969604492\">kafka</span>  <span style=\"background-color: #fffefe; padding: 1px;\" title=\"relevance 0.0\">,</span>  <span style=\"background-color: #fcfcff; padding: 1px;\" title=\"relevance -0.02472798340022564\">george</span>  <span style=\"background-color: #fffefe; padding: 1px;\" title=\"relevance 0.0\">lucas</span>  <span style=\"background-color: #d2d2ff; padding: 1px;\" title=\"relevance -0.453785240650177\">and</span>  <span style=\"background-color: #ffe8e8; padding: 1px;\" title=\"relevance 0.243075892329216\">the</span>  <span style=\"background-color: #ff8686; padding: 1px;\" title=\"relevance 1.2498588562011719\">wachowski</span>  <span style=\"background-color: #dadaff; padding: 1px;\" title=\"relevance -0.37730273604393005\">brothers</span>  <span style=\"background-color: #fffefe; padding: 1px;\" title=\"relevance 0.0\">and</span>  <span style=\"background-color: #fff2f2; padding: 1px;\" title=\"relevance 0.14112727344036102\">threw</span>  <span style=\"background-color: #fcfcff; padding: 1px;\" title=\"relevance -0.031148584559559822\">them</span>  <span style=\"background-color: #ffbcbc; padding: 1px;\" title=\"relevance 0.6871774196624756\">into</span>  <span style=\"background-color: #ff7878; padding: 1px;\" title=\"relevance 1.3872954845428467\">a</span>  <span style=\"background-color: #ffb6b6; padding: 1px;\" title=\"relevance 0.7385900020599365\">blender</span>  <span style=\"background-color: #fffefe; padding: 1px;\" title=\"relevance 0.0\">.</span>  "
      ],
      "text/plain": [
       "<IPython.core.display.HTML object>"
      ]
     },
     "metadata": {},
     "output_type": "display_data"
    },
    {
     "data": {
      "text/html": [
       "<b>Heatmap(guided_backprop):</b> <span style=\"background-color: #fffefe; padding: 1px;\" title=\"relevance 0.0\">what</span>  <span style=\"background-color: #ff0000; padding: 1px;\" title=\"relevance 1.1530592441558838\">you</span>  <span style=\"background-color: #e2e2ff; padding: 1px;\" title=\"relevance -0.13000091910362244\">would</span>  <span style=\"background-color: #fffefe; padding: 1px;\" title=\"relevance 0.0\">end</span>  <span style=\"background-color: #ffeaea; padding: 1px;\" title=\"relevance 0.09874337911605835\">up</span>  <span style=\"background-color: #ffdcdc; padding: 1px;\" title=\"relevance 0.15354271233081818\">with</span>  <span style=\"background-color: #ff7070; padding: 1px;\" title=\"relevance 0.6483851671218872\">if</span>  <span style=\"background-color: #fffefe; padding: 1px;\" title=\"relevance 0.0\">you</span>  <span style=\"background-color: #f0f0ff; padding: 1px;\" title=\"relevance -0.06434736400842667\">took</span>  <span style=\"background-color: #7878ff; padding: 1px;\" title=\"relevance -0.6101365089416504\">orwell</span>  <span style=\"background-color: #6464ff; padding: 1px;\" title=\"relevance -0.7002158164978027\">,</span>  <span style=\"background-color: #ff7979; padding: 1px;\" title=\"relevance 0.6033133268356323\">bradbury</span>  <span style=\"background-color: #fffefe; padding: 1px;\" title=\"relevance 0.0\">,</span>  <span style=\"background-color: #ffacac; padding: 1px;\" title=\"relevance 0.37519538402557373\">kafka</span>  <span style=\"background-color: #fffefe; padding: 1px;\" title=\"relevance 0.0\">,</span>  <span style=\"background-color: #fcfcff; padding: 1px;\" title=\"relevance -0.010865429416298866\">george</span>  <span style=\"background-color: #fffefe; padding: 1px;\" title=\"relevance 0.0\">lucas</span>  <span style=\"background-color: #d2d2ff; padding: 1px;\" title=\"relevance -0.1993923783302307\">and</span>  <span style=\"background-color: #ffe8e8; padding: 1px;\" title=\"relevance 0.10680711269378662\">the</span>  <span style=\"background-color: #ff8686; padding: 1px;\" title=\"relevance 0.5491856932640076\">wachowski</span>  <span style=\"background-color: #dadaff; padding: 1px;\" title=\"relevance -0.1657860279083252\">brothers</span>  <span style=\"background-color: #fffefe; padding: 1px;\" title=\"relevance 0.0\">and</span>  <span style=\"background-color: #fff2f2; padding: 1px;\" title=\"relevance 0.06201106309890747\">threw</span>  <span style=\"background-color: #fcfcff; padding: 1px;\" title=\"relevance -0.013686618767678738\">them</span>  <span style=\"background-color: #ffbcbc; padding: 1px;\" title=\"relevance 0.3019444942474365\">into</span>  <span style=\"background-color: #ff7878; padding: 1px;\" title=\"relevance 0.6095750331878662\">a</span>  <span style=\"background-color: #ffb6b6; padding: 1px;\" title=\"relevance 0.3245350122451782\">blender</span>  <span style=\"background-color: #fffefe; padding: 1px;\" title=\"relevance 0.0\">.</span>  "
      ],
      "text/plain": [
       "<IPython.core.display.HTML object>"
      ]
     },
     "metadata": {},
     "output_type": "display_data"
    },
    {
     "data": {
      "text/html": [
       "<b>Heatmap(lrp.z):</b> <span style=\"background-color: #fffefe; padding: 1px;\" title=\"relevance 0.0\">what</span>  <span style=\"background-color: #ff6060; padding: 1px;\" title=\"relevance 0.8055583238601685\">you</span>  <span style=\"background-color: #8c8cff; padding: 1px;\" title=\"relevance -0.5768274068832397\">would</span>  <span style=\"background-color: #fffefe; padding: 1px;\" title=\"relevance 0.0\">end</span>  <span style=\"background-color: #ffa6a6; padding: 1px;\" title=\"relevance 0.4458822011947632\">up</span>  <span style=\"background-color: #ffcece; padding: 1px;\" title=\"relevance 0.24937419593334198\">with</span>  <span style=\"background-color: #5151ff; padding: 1px;\" title=\"relevance -0.8740777373313904\">if</span>  <span style=\"background-color: #fffefe; padding: 1px;\" title=\"relevance 0.0\">you</span>  <span style=\"background-color: #fff4f4; padding: 1px;\" title=\"relevance 0.050799593329429626\">took</span>  <span style=\"background-color: #0000ff; padding: 1px;\" title=\"relevance -1.2942255735397339\">orwell</span>  <span style=\"background-color: #ffbebe; padding: 1px;\" title=\"relevance 0.3255872130393982\">,</span>  <span style=\"background-color: #e6e6ff; padding: 1px;\" title=\"relevance -0.12690295279026031\">bradbury</span>  <span style=\"background-color: #fffefe; padding: 1px;\" title=\"relevance 0.0\">,</span>  <span style=\"background-color: #ff8383; padding: 1px;\" title=\"relevance 0.6218003034591675\">kafka</span>  <span style=\"background-color: #fffefe; padding: 1px;\" title=\"relevance 0.0\">,</span>  <span style=\"background-color: #fffcfc; padding: 1px;\" title=\"relevance 0.015072274953126907\">george</span>  <span style=\"background-color: #fffefe; padding: 1px;\" title=\"relevance 0.0\">lucas</span>  <span style=\"background-color: #ffdcdc; padding: 1px;\" title=\"relevance 0.17381709814071655\">and</span>  <span style=\"background-color: #d6d6ff; padding: 1px;\" title=\"relevance -0.20721319317817688\">the</span>  <span style=\"background-color: #ffe2e2; padding: 1px;\" title=\"relevance 0.14671431481838226\">wachowski</span>  <span style=\"background-color: #ff9696; padding: 1px;\" title=\"relevance 0.535492479801178\">brothers</span>  <span style=\"background-color: #fffefe; padding: 1px;\" title=\"relevance 0.0\">and</span>  <span style=\"background-color: #fafaff; padding: 1px;\" title=\"relevance -0.02783397026360035\">threw</span>  <span style=\"background-color: #ffeeee; padding: 1px;\" title=\"relevance 0.08156002312898636\">them</span>  <span style=\"background-color: #dcdcff; padding: 1px;\" title=\"relevance -0.17851659655570984\">into</span>  <span style=\"background-color: #b8b8ff; padding: 1px;\" title=\"relevance -0.35655319690704346\">a</span>  <span style=\"background-color: #ffc3c3; padding: 1px;\" title=\"relevance 0.3001768887042999\">blender</span>  <span style=\"background-color: #fffefe; padding: 1px;\" title=\"relevance 0.0\">.</span>  "
      ],
      "text/plain": [
       "<IPython.core.display.HTML object>"
      ]
     },
     "metadata": {},
     "output_type": "display_data"
    },
    {
     "data": {
      "text/html": [
       "<b>Heatmap(lrp.alpha_2_beta_1):</b> <span style=\"background-color: #fffefe; padding: 1px;\" title=\"relevance 0.0\">what</span>  <span style=\"background-color: #ff0000; padding: 1px;\" title=\"relevance 0.15871985256671906\">you</span>  <span style=\"background-color: #aaaaff; padding: 1px;\" title=\"relevance -0.05221059173345566\">would</span>  <span style=\"background-color: #fffefe; padding: 1px;\" title=\"relevance 0.0\">end</span>  <span style=\"background-color: #ff7979; padding: 1px;\" title=\"relevance 0.08208152651786804\">up</span>  <span style=\"background-color: #ffb3b3; padding: 1px;\" title=\"relevance 0.046833790838718414\">with</span>  <span style=\"background-color: #a6a6ff; padding: 1px;\" title=\"relevance -0.05482102930545807\">if</span>  <span style=\"background-color: #fffefe; padding: 1px;\" title=\"relevance 0.0\">you</span>  <span style=\"background-color: #fff0f0; padding: 1px;\" title=\"relevance 0.009470886550843716\">took</span>  <span style=\"background-color: #1818ff; padding: 1px;\" title=\"relevance -0.14363208413124084\">orwell</span>  <span style=\"background-color: #ffa2a2; padding: 1px;\" title=\"relevance 0.05766080319881439\">,</span>  <span style=\"background-color: #e8e8ff; padding: 1px;\" title=\"relevance -0.014467696659266949\">bradbury</span>  <span style=\"background-color: #fffefe; padding: 1px;\" title=\"relevance 0.0\">,</span>  <span style=\"background-color: #ff4c4c; padding: 1px;\" title=\"relevance 0.11095058917999268\">kafka</span>  <span style=\"background-color: #fffefe; padding: 1px;\" title=\"relevance 0.0\">,</span>  <span style=\"background-color: #fffafa; padding: 1px;\" title=\"relevance 0.0028144775424152613\">george</span>  <span style=\"background-color: #fffefe; padding: 1px;\" title=\"relevance 0.0\">lucas</span>  <span style=\"background-color: #ffcccc; padding: 1px;\" title=\"relevance 0.03116443380713463\">and</span>  <span style=\"background-color: #d8d8ff; padding: 1px;\" title=\"relevance -0.0237896591424942\">the</span>  <span style=\"background-color: #ffd6d6; padding: 1px;\" title=\"relevance 0.024921147152781487\">wachowski</span>  <span style=\"background-color: #ff6161; padding: 1px;\" title=\"relevance 0.09714925289154053\">brothers</span>  <span style=\"background-color: #fffefe; padding: 1px;\" title=\"relevance 0.0\">and</span>  <span style=\"background-color: #fafaff; padding: 1px;\" title=\"relevance -0.0029099395032972097\">threw</span>  <span style=\"background-color: #ffe6e6; padding: 1px;\" title=\"relevance 0.015202637761831284\">them</span>  <span style=\"background-color: #e0e0ff; padding: 1px;\" title=\"relevance -0.01949913054704666\">into</span>  <span style=\"background-color: #c8c8ff; padding: 1px;\" title=\"relevance -0.033892665058374405\">a</span>  <span style=\"background-color: #ffaaaa; padding: 1px;\" title=\"relevance 0.05254162847995758\">blender</span>  <span style=\"background-color: #fffefe; padding: 1px;\" title=\"relevance 0.0\">.</span>  "
      ],
      "text/plain": [
       "<IPython.core.display.HTML object>"
      ]
     },
     "metadata": {},
     "output_type": "display_data"
    },
    {
     "name": "stdout",
     "output_type": "stream",
     "text": [
      "\n",
      "Sample 454\n",
      "Sentence : a charming yet poignant tale of the irrevocable ties that bind .\n",
      "Pred class : positive ✓\n"
     ]
    },
    {
     "data": {
      "text/html": [
       "<b>Heatmap(gradient):</b> <span style=\"background-color: #ffcece; padding: 1px;\" title=\"relevance 1.239044427871704\">a</span>  <span style=\"background-color: #ff0000; padding: 1px;\" title=\"relevance 6.51588249206543\">charming</span>  <span style=\"background-color: #ffeeee; padding: 1px;\" title=\"relevance 0.44347646832466125\">yet</span>  <span style=\"background-color: #ececff; padding: 1px;\" title=\"relevance -0.473185658454895\">poignant</span>  <span style=\"background-color: #d3d3ff; padding: 1px;\" title=\"relevance -1.0780556201934814\">tale</span>  <span style=\"background-color: #ffd0d0; padding: 1px;\" title=\"relevance 1.2071088552474976\">of</span>  <span style=\"background-color: #ffecec; padding: 1px;\" title=\"relevance 0.4751063287258148\">the</span>  <span style=\"background-color: #dedeff; padding: 1px;\" title=\"relevance -0.8238592743873596\">irrevocable</span>  <span style=\"background-color: #f8f8ff; padding: 1px;\" title=\"relevance -0.20009857416152954\">ties</span>  <span style=\"background-color: #d0d0ff; padding: 1px;\" title=\"relevance -1.1880555152893066\">that</span>  <span style=\"background-color: #f8f8ff; padding: 1px;\" title=\"relevance -0.16197387874126434\">bind</span>  <span style=\"background-color: #fffefe; padding: 1px;\" title=\"relevance 0.0\">.</span>  "
      ],
      "text/plain": [
       "<IPython.core.display.HTML object>"
      ]
     },
     "metadata": {},
     "output_type": "display_data"
    },
    {
     "data": {
      "text/html": [
       "<b>Heatmap(guided_backprop):</b> <span style=\"background-color: #ffcece; padding: 1px;\" title=\"relevance 6.066918849945068\">a</span>  <span style=\"background-color: #ff0000; padding: 1px;\" title=\"relevance 31.904699325561523\">charming</span>  <span style=\"background-color: #ffeeee; padding: 1px;\" title=\"relevance 2.1714603900909424\">yet</span>  <span style=\"background-color: #ececff; padding: 1px;\" title=\"relevance -2.316929578781128\">poignant</span>  <span style=\"background-color: #d3d3ff; padding: 1px;\" title=\"relevance -5.2786455154418945\">tale</span>  <span style=\"background-color: #ffd0d0; padding: 1px;\" title=\"relevance 5.910548686981201\">of</span>  <span style=\"background-color: #ffecec; padding: 1px;\" title=\"relevance 2.3263344764709473\">the</span>  <span style=\"background-color: #dedeff; padding: 1px;\" title=\"relevance -4.033985137939453\">irrevocable</span>  <span style=\"background-color: #f8f8ff; padding: 1px;\" title=\"relevance -0.9797735810279846\">ties</span>  <span style=\"background-color: #d0d0ff; padding: 1px;\" title=\"relevance -5.81725549697876\">that</span>  <span style=\"background-color: #f8f8ff; padding: 1px;\" title=\"relevance -0.7930973768234253\">bind</span>  <span style=\"background-color: #fffefe; padding: 1px;\" title=\"relevance 0.0\">.</span>  "
      ],
      "text/plain": [
       "<IPython.core.display.HTML object>"
      ]
     },
     "metadata": {},
     "output_type": "display_data"
    },
    {
     "data": {
      "text/html": [
       "<b>Heatmap(lrp.z):</b> <span style=\"background-color: #e6e6ff; padding: 1px;\" title=\"relevance -0.4112955629825592\">a</span>  <span style=\"background-color: #ff0000; padding: 1px;\" title=\"relevance 4.272639751434326\">charming</span>  <span style=\"background-color: #fff0f0; padding: 1px;\" title=\"relevance 0.24530261754989624\">yet</span>  <span style=\"background-color: #fffcfc; padding: 1px;\" title=\"relevance 0.03426768630743027\">poignant</span>  <span style=\"background-color: #ffcece; padding: 1px;\" title=\"relevance 0.8318449854850769\">tale</span>  <span style=\"background-color: #ececff; padding: 1px;\" title=\"relevance -0.3308083713054657\">of</span>  <span style=\"background-color: #eeeeff; padding: 1px;\" title=\"relevance -0.2798602283000946\">the</span>  <span style=\"background-color: #fffefe; padding: 1px;\" title=\"relevance 0.011265278793871403\">irrevocable</span>  <span style=\"background-color: #fff6f6; padding: 1px;\" title=\"relevance 0.1546470671892166\">ties</span>  <span style=\"background-color: #fff4f4; padding: 1px;\" title=\"relevance 0.19671523571014404\">that</span>  <span style=\"background-color: #f6f6ff; padding: 1px;\" title=\"relevance -0.15798254311084747\">bind</span>  <span style=\"background-color: #fffefe; padding: 1px;\" title=\"relevance 0.0\">.</span>  "
      ],
      "text/plain": [
       "<IPython.core.display.HTML object>"
      ]
     },
     "metadata": {},
     "output_type": "display_data"
    },
    {
     "data": {
      "text/html": [
       "<b>Heatmap(lrp.alpha_2_beta_1):</b> <span style=\"background-color: #c6c6ff; padding: 1px;\" title=\"relevance -1.3051944971084595\">a</span>  <span style=\"background-color: #ff0000; padding: 1px;\" title=\"relevance 5.931032180786133\">charming</span>  <span style=\"background-color: #fff0f0; padding: 1px;\" title=\"relevance 0.3503938317298889\">yet</span>  <span style=\"background-color: #fffefe; padding: 1px;\" title=\"relevance 0.011716172099113464\">poignant</span>  <span style=\"background-color: #ffcccc; padding: 1px;\" title=\"relevance 1.196190595626831\">tale</span>  <span style=\"background-color: #d2d2ff; padding: 1px;\" title=\"relevance -1.0397570133209229\">of</span>  <span style=\"background-color: #d8d8ff; padding: 1px;\" title=\"relevance -0.9163288474082947\">the</span>  <span style=\"background-color: #fffefe; padding: 1px;\" title=\"relevance 0.01857299730181694\">irrevocable</span>  <span style=\"background-color: #f3f3ff; padding: 1px;\" title=\"relevance -0.23313838243484497\">ties</span>  <span style=\"background-color: #fff2f2; padding: 1px;\" title=\"relevance 0.2824355363845825\">that</span>  <span style=\"background-color: #eaeaff; padding: 1px;\" title=\"relevance -0.5092499256134033\">bind</span>  <span style=\"background-color: #fffefe; padding: 1px;\" title=\"relevance 0.0\">.</span>  "
      ],
      "text/plain": [
       "<IPython.core.display.HTML object>"
      ]
     },
     "metadata": {},
     "output_type": "display_data"
    },
    {
     "name": "stdout",
     "output_type": "stream",
     "text": [
      "\n",
      "Sample 539\n",
      "Sentence : but he loses his focus when he concentrates on any single person .\n",
      "Pred class : negative ✓\n"
     ]
    },
    {
     "data": {
      "text/html": [
       "<b>Heatmap(gradient):</b> <span style=\"background-color: #6969ff; padding: 1px;\" title=\"relevance -2.3435492515563965\">but</span>  <span style=\"background-color: #ffa6a6; padding: 1px;\" title=\"relevance 1.3975580930709839\">he</span>  <span style=\"background-color: #ffb8b8; padding: 1px;\" title=\"relevance 1.1197059154510498\">loses</span>  <span style=\"background-color: #fffefe; padding: 1px;\" title=\"relevance 0.0\">his</span>  <span style=\"background-color: #fff4f4; padding: 1px;\" title=\"relevance 0.17876286804676056\">focus</span>  <span style=\"background-color: #ffb8b8; padding: 1px;\" title=\"relevance 1.1249845027923584\">when</span>  <span style=\"background-color: #fffefe; padding: 1px;\" title=\"relevance 0.0\">he</span>  <span style=\"background-color: #0000ff; padding: 1px;\" title=\"relevance -4.049921989440918\">concentrates</span>  <span style=\"background-color: #f6f6ff; padding: 1px;\" title=\"relevance -0.1272192746400833\">on</span>  <span style=\"background-color: #fffefe; padding: 1px;\" title=\"relevance 0.0\">any</span>  <span style=\"background-color: #f6f6ff; padding: 1px;\" title=\"relevance -0.15407724678516388\">single</span>  <span style=\"background-color: #fffefe; padding: 1px;\" title=\"relevance 0.0\">person</span>  <span style=\"background-color: #a8a8ff; padding: 1px;\" title=\"relevance -1.3913085460662842\">.</span>  "
      ],
      "text/plain": [
       "<IPython.core.display.HTML object>"
      ]
     },
     "metadata": {},
     "output_type": "display_data"
    },
    {
     "data": {
      "text/html": [
       "<b>Heatmap(guided_backprop):</b> <span style=\"background-color: #6969ff; padding: 1px;\" title=\"relevance -4.019800186157227\">but</span>  <span style=\"background-color: #ffa6a6; padding: 1px;\" title=\"relevance 2.3971776962280273\">he</span>  <span style=\"background-color: #ffb8b8; padding: 1px;\" title=\"relevance 1.9205905199050903\">loses</span>  <span style=\"background-color: #fffefe; padding: 1px;\" title=\"relevance 0.0\">his</span>  <span style=\"background-color: #fff4f4; padding: 1px;\" title=\"relevance 0.30662503838539124\">focus</span>  <span style=\"background-color: #ffb8b8; padding: 1px;\" title=\"relevance 1.929642677307129\">when</span>  <span style=\"background-color: #fffefe; padding: 1px;\" title=\"relevance 0.0\">he</span>  <span style=\"background-color: #0000ff; padding: 1px;\" title=\"relevance -6.946674346923828\">concentrates</span>  <span style=\"background-color: #f6f6ff; padding: 1px;\" title=\"relevance -0.21821431815624237\">on</span>  <span style=\"background-color: #fffefe; padding: 1px;\" title=\"relevance 0.0\">any</span>  <span style=\"background-color: #f6f6ff; padding: 1px;\" title=\"relevance -0.2642827033996582\">single</span>  <span style=\"background-color: #fffefe; padding: 1px;\" title=\"relevance 0.0\">person</span>  <span style=\"background-color: #a8a8ff; padding: 1px;\" title=\"relevance -2.386458158493042\">.</span>  "
      ],
      "text/plain": [
       "<IPython.core.display.HTML object>"
      ]
     },
     "metadata": {},
     "output_type": "display_data"
    },
    {
     "data": {
      "text/html": [
       "<b>Heatmap(lrp.z):</b> <span style=\"background-color: #fff6f6; padding: 1px;\" title=\"relevance 0.11709777265787125\">but</span>  <span style=\"background-color: #e2e2ff; padding: 1px;\" title=\"relevance -0.4151330888271332\">he</span>  <span style=\"background-color: #ff0000; padding: 1px;\" title=\"relevance 3.582867383956909\">loses</span>  <span style=\"background-color: #fffefe; padding: 1px;\" title=\"relevance 0.0\">his</span>  <span style=\"background-color: #fefeff; padding: 1px;\" title=\"relevance -0.014181576669216156\">focus</span>  <span style=\"background-color: #fefeff; padding: 1px;\" title=\"relevance -0.024530574679374695\">when</span>  <span style=\"background-color: #fffefe; padding: 1px;\" title=\"relevance 0.0\">he</span>  <span style=\"background-color: #a8a8ff; padding: 1px;\" title=\"relevance -1.2043278217315674\">concentrates</span>  <span style=\"background-color: #fffcfc; padding: 1px;\" title=\"relevance 0.028554599732160568\">on</span>  <span style=\"background-color: #fffefe; padding: 1px;\" title=\"relevance 0.0\">any</span>  <span style=\"background-color: #f3f3ff; padding: 1px;\" title=\"relevance -0.14309953153133392\">single</span>  <span style=\"background-color: #fffefe; padding: 1px;\" title=\"relevance 0.0\">person</span>  <span style=\"background-color: #fffafa; padding: 1px;\" title=\"relevance 0.08238662779331207\">.</span>  "
      ],
      "text/plain": [
       "<IPython.core.display.HTML object>"
      ]
     },
     "metadata": {},
     "output_type": "display_data"
    },
    {
     "data": {
      "text/html": [
       "<b>Heatmap(lrp.alpha_2_beta_1):</b> <span style=\"background-color: #ffd6d6; padding: 1px;\" title=\"relevance 0.36224931478500366\">but</span>  <span style=\"background-color: #ececff; padding: 1px;\" title=\"relevance -0.1752258688211441\">he</span>  <span style=\"background-color: #ff0000; padding: 1px;\" title=\"relevance 2.2607951164245605\">loses</span>  <span style=\"background-color: #fffefe; padding: 1px;\" title=\"relevance 0.0\">his</span>  <span style=\"background-color: #fefeff; padding: 1px;\" title=\"relevance -0.005888077430427074\">focus</span>  <span style=\"background-color: #fffafa; padding: 1px;\" title=\"relevance 0.04051961749792099\">when</span>  <span style=\"background-color: #fffefe; padding: 1px;\" title=\"relevance 0.0\">he</span>  <span style=\"background-color: #c8c8ff; padding: 1px;\" title=\"relevance -0.4890614151954651\">concentrates</span>  <span style=\"background-color: #fffcfc; padding: 1px;\" title=\"relevance 0.017806299030780792\">on</span>  <span style=\"background-color: #fffefe; padding: 1px;\" title=\"relevance 0.0\">any</span>  <span style=\"background-color: #fcfcff; padding: 1px;\" title=\"relevance -0.031577255576848984\">single</span>  <span style=\"background-color: #fffefe; padding: 1px;\" title=\"relevance 0.0\">person</span>  <span style=\"background-color: #fff8f8; padding: 1px;\" title=\"relevance 0.06610258668661118\">.</span>  "
      ],
      "text/plain": [
       "<IPython.core.display.HTML object>"
      ]
     },
     "metadata": {},
     "output_type": "display_data"
    },
    {
     "name": "stdout",
     "output_type": "stream",
     "text": [
      "\n"
     ]
    }
   ],
   "source": [
    "for i, idx in enumerate(test_sample_indices):\n",
    "\n",
    "    words = [decode_dict[t] for t in list(datasets['test'][2][idx])]\n",
    "    \n",
    "    print('Sample %d' % idx)\n",
    "    print('Sentence : %s' % ' '.join(words))\n",
    "    y_true = datasets['test'][1][idx]\n",
    "    y_pred = test_samples[i][1]\n",
    "    print(\"Pred class : %s %s\" % (label_to_class_name[y_true], '✓' if y_pred == y_true else '✗ (%s)' % label_to_class_name[y_true]))\n",
    "                                \n",
    "    \n",
    "    for j, method in enumerate(methods):\n",
    "        h = html_heatmap(method[0], words, analysis[i, j][0, :len(words)], short_version=False)\n",
    "        display(h)\n",
    "\n",
    "    print('')"
   ]
  }
 ],
 "metadata": {
  "kernelspec": {
   "display_name": "innvestigate",
   "language": "python",
   "name": "innvestigate"
  },
  "language_info": {
   "codemirror_mode": {
    "name": "ipython",
    "version": 3
   },
   "file_extension": ".py",
   "mimetype": "text/x-python",
   "name": "python",
   "nbconvert_exporter": "python",
   "pygments_lexer": "ipython3",
   "version": "3.6.3"
  },
  "toc": {
   "nav_menu": {},
   "number_sections": true,
   "sideBar": true,
   "skip_h1_title": false,
   "toc_cell": false,
   "toc_position": {},
   "toc_section_display": "block",
   "toc_window_display": true
  }
 },
 "nbformat": 4,
 "nbformat_minor": 2
}
